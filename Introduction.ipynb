{
  "nbformat": 4,
  "nbformat_minor": 0,
  "metadata": {
    "colab": {
      "name": "Introduction.ipynb",
      "version": "0.3.2",
      "provenance": [],
      "collapsed_sections": [],
      "include_colab_link": true
    },
    "kernelspec": {
      "name": "python3",
      "display_name": "Python 3"
    },
    "accelerator": "TPU"
  },
  "cells": [
    {
      "cell_type": "markdown",
      "metadata": {
        "id": "view-in-github",
        "colab_type": "text"
      },
      "source": [
        "<a href=\"https://colab.research.google.com/github/kursataker/cng562-machine-learning-spring-19/blob/master/Introduction.ipynb\" target=\"_parent\"><img src=\"https://colab.research.google.com/assets/colab-badge.svg\" alt=\"Open In Colab\"/></a>"
      ]
    },
    {
      "metadata": {
        "id": "GVt_2o1MfNWf",
        "colab_type": "text"
      },
      "cell_type": "markdown",
      "source": [
        "# Welcome to CENG 562 Machine Learning!\n",
        "\n",
        "## Syllabus\n",
        "\n",
        "### Weeks 1-2: Introduction and Basic Setup\n",
        "\n",
        "- Python fundamentals, plus various Python packages, \n",
        "  \n",
        "  Ref.  http://scipy-lectures.org/\n",
        "> - Numpy \n",
        "> - Scipy\n",
        "> - Pandas\n",
        "> - Matplotlib\n",
        "> - Seaborn\n",
        "\n",
        " \n",
        "\n",
        "- Mathematical review\n",
        "\n",
        "  Ref. Ch. 1-7, [Mathematics for Machine Learning](https://github.com/mml-book)\n",
        "> - Linear Algebra\n",
        "> - Probability Theory\n",
        "> - Optimization\n",
        " \n",
        "  **Ref.** Ch. 1-2, [The Hundred-Page Machine Learning Book](https://themlbook.com)\n",
        "\n",
        "### Weeks 3-8: Fundamental Algorithms\n",
        "\n",
        "- Fundamental Supervised Learning Algorithms\n",
        "> - Linear Regression\n",
        "> - Logistic Regression\n",
        "> - Decision Trees\n",
        "> - Support Vector Machines\n",
        "> - k-Nearest Neighbors\n",
        "\n",
        "- Learning Practices and Issues\n",
        "> - Gradient Descent\n",
        "> - Feature Engineering\n",
        "> - Bias-Variance Tradeoff\n",
        "> - Regularization\n",
        "> - Model Performance Assessment\n",
        "\n",
        "  **Ref.** Ch. 3-5, [The Hundred-Page Machine Learning Book](https://themlbook.com)\n",
        "  \n",
        "  ### Weeks 9-12: Advanced Algorithms\n",
        "  \n",
        "  - Neural Networks and Deep Learning\n",
        "  > - Feed Forward Neural Networks\n",
        "  > - Convolutional Neural Networks\n",
        "  \n",
        "  - Kernel Regression\n",
        "  - Multiclass classification\n",
        "  - Ensemble Learning\n",
        "  \n",
        "  - Handling Imbalanced Datasets\n",
        "  - Advanced Regularization\n",
        "  - Transfer Learning\n",
        "\n",
        "  **Ref.** Ch. 6-8, [The Hundred-Page Machine Learning Book](https://themlbook.com)\n",
        "\n",
        "### Weeks 13-14: Probabilistic Programming and Bayesian Methods\n",
        "\n",
        "**Ref.** Davidson-Pilon, [Probabilistic Programming and Bayesian Methods for Hackers](https://github.com/CamDavidsonPilon/Probabilistic-Programming-and-Bayesian-Methods-for-Hackers)\n",
        "\n",
        "\n",
        "\n"
      ]
    },
    {
      "metadata": {
        "id": "Pcv9E6A1gAcv",
        "colab_type": "text"
      },
      "cell_type": "markdown",
      "source": [
        "## What is Machine Learning?\n",
        "\n",
        "Algorithms that make sense of data (Flach's book title)\n",
        "\n",
        "Algorithms which rely on a collection of examples of some phenomenon\n",
        "\n",
        "Examples could be from\n",
        "\n",
        "\n",
        "*   Nature, e.g. satellite imagery of forests\n",
        "*   Handcrafted by humans, e.g. literature\n",
        "*   Genereated by some other computer program, e.g. log files"
      ]
    },
    {
      "metadata": {
        "id": "OcD_w6Y7g3zO",
        "colab_type": "text"
      },
      "cell_type": "markdown",
      "source": [
        "Solve a practical problem by\n",
        "\n",
        "1. Gathering a **dataset**\n",
        "2. **Algorithmically** building a statistical model on that dataset."
      ]
    },
    {
      "metadata": {
        "id": "AFwu8wQohgXM",
        "colab_type": "text"
      },
      "cell_type": "markdown",
      "source": [
        "## Types of Learning\n",
        "\n",
        "- Supervised Learning\n",
        "- Unsupervised Learning\n",
        "- Semi-supervised Learning\n",
        "- Reinforcement Learning"
      ]
    },
    {
      "metadata": {
        "id": "yjCIefO5hgMY",
        "colab_type": "text"
      },
      "cell_type": "markdown",
      "source": [
        "## Supervised Learning\n",
        "\n",
        "### Dataset \n",
        "- **labeled examples** \n",
        "- pairs of **feature vectors** and **labels** $\\lbrace(\\mathbf{x}_i, y_i) \\rbrace_{i=1}^N$\n",
        "\n",
        "### Task\n",
        "\n",
        "- Approximate the function  $f(\\mathbf{x})=y$\n",
        "\n",
        "### Learn a **model**: \n",
        "- An *estimator* $\\hat{f}(\\mathbf{x})=y$ and \n",
        "- the related joint probability distribution $p(\\mathbf{x},y)$"
      ]
    },
    {
      "metadata": {
        "id": "WHQHRUBmkvVc",
        "colab_type": "text"
      },
      "cell_type": "markdown",
      "source": [
        "## Types of Supervised Learning\n",
        "\n",
        "### Classification\n",
        "\n",
        "- Labels: Discrete \n",
        "- Binary: Yes, No\n",
        "- More than two values: Blue, Red, Green\n",
        "\n",
        "#### Applications\n",
        "\n",
        "- Is person $x$ going to buy a car within a year?\n",
        "- Is there a person in the photograph?\n",
        "- For which political party, is person $x$ going to vote for?\n",
        "\n",
        "### Regression\n",
        "\n",
        "- Labels: Continuous (real/compex numbers/vectors)\n",
        "\n",
        "#### Applications\n",
        "\n",
        "- Estimate the selling price of an apartment/house in the city ___.\n",
        "- Estimate the time for person $x$ to buy his/her next car.\n"
      ]
    },
    {
      "metadata": {
        "id": "Zjq40XctkOyI",
        "colab_type": "text"
      },
      "cell_type": "markdown",
      "source": [
        "## Unsupervised Learning\n",
        "\n",
        "### Dataset \n",
        "- **unlabeled examples**\n",
        "- **feature vectors** $\\lbrace \\mathbf{x}_i \\rbrace_{i=1}^N$\n",
        "\n",
        "###  Learn a **model**: \n",
        "- to transform the input vector $x$ to another vector, or\n",
        "- to produce a value that can be used to solve a practical problem and\n",
        "- the related joint probability distribution $p(x)$"
      ]
    },
    {
      "metadata": {
        "id": "3djB74xon6MV",
        "colab_type": "text"
      },
      "cell_type": "markdown",
      "source": [
        "## Types of Unsupervised Learning\n",
        "\n",
        "### Clustering\n",
        "\n",
        "Find which cluster *id* the given vector $\\mathbf{x}$ belongs to.\n",
        "\n",
        "#### Applications\n",
        "\n",
        "- What kind of consumer is person $x$?\n",
        "- Which customer cluster does person $x$ belong to?\n",
        "\n",
        "### Dimensionality Reduction\n",
        "\n",
        "Produce a feature vector with **fewer features**.\n",
        "\n",
        "#### Applications\n",
        "\n",
        "- Represent the data better.\n",
        "\n",
        "### Outlier Detection\n",
        "\n",
        "Indicate how different is the feature vector $\\mathbf{x}$ is from the **typical example** in the dataset.\n",
        "\n",
        "\n",
        "#### Applications\n",
        "\n",
        "- Is a given transaction fraudelent?\n"
      ]
    },
    {
      "metadata": {
        "id": "ExarJlontdpj",
        "colab_type": "text"
      },
      "cell_type": "markdown",
      "source": [
        "# Tutorials\n",
        "\n",
        "http://scipy-lectures.org/packages/scikit-learn/index.html\n",
        "\n",
        "https://www.tensorflow.org/tutorials\n",
        "\n",
        "https://mlcourse.ai/"
      ]
    },
    {
      "metadata": {
        "id": "jWuA0jM4q5OV",
        "colab_type": "text"
      },
      "cell_type": "markdown",
      "source": [
        "# Books and Resources\n",
        "\n",
        "## Bird's eye view\n",
        "\n",
        "In the course, I will mainly follow Andriy Burkov's [The Hundred-Page Machine Learning Book](https://themlbook.com). The book is slightly more than one hundred pages long. It quickly presents the main concepts, focuses on five most used machine learning algorithms, later it touches on aspects of deep learning also. \n",
        "\n",
        "Peter Flach's [Machine Learning: The Art and Science Algorithms that Make Sense of Data](https://www.amazon.com/Machine-Learning-Science-Algorithms-Sense/dp/1107422221) is close to Burkov's book in heart, but it is sometimes an easier read.\n",
        "\n",
        "## Python, Scikit-Learn, Tensorflow\n",
        "\n",
        "- Mueller, Guido, [Introduction to Machine Learning with Python: A Guide for Data Scientists](https://www.amazon.com/Introduction-Machine-Learning-Python-Scientists/dp/1449369413)\n",
        "\n",
        "- Mueller's Course [Applied Machine Learning](https://github.com/amueller/COMS4995-s19)\n",
        "\n",
        "\n",
        "\n",
        "- Raschka, Mirjalili, [Python Machine Learning: Machine Learning and Deep Learning with Python, scikit-learn, and TensorFlow](https://www.amazon.com/Python-Machine-Learning-scikit-learn-TensorFlow/dp/1787125939)\n",
        "\n",
        "- Raschka's Course [Machine Learning](https://github.com/rasbt/stat479-machine-learning-fs18)\n",
        "\n",
        "\n",
        "- Geron, [Hands-On Machine Learning with Scikit-Learn and TensorFlow: Concepts, Tools, and Techniques to Build Intelligent Systems](https://www.amazon.com/Hands-Machine-Learning-Scikit-Learn-TensorFlow/dp/1491962291)\n",
        "\n",
        "## Underlying mathematical/probabilitistical theory\n",
        "\n",
        "A) Deisenroth et al., [Mathematics for Machine Learning](https://github.com/mml-book)\n",
        "\n",
        "Deisenroth's course\n",
        "\n",
        "https://sites.google.com/view/marcdeisenroth/teaching/201819/foundations-of-machine-learning\n",
        "\n",
        "B) Murphy, [Machine Learning: a Probabilistic Perspective](http://people.cs.ubc.ca/~murphyk/MLbook/)\n",
        "\n",
        "C) Bishop, [Pattern Recognition and Machine Learning(https://www.microsoft.com/en-us/research/people/cmbishop/#!prml-book)\n"
      ]
    }
  ]
}