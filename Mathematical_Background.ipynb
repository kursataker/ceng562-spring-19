{
  "nbformat": 4,
  "nbformat_minor": 0,
  "metadata": {
    "colab": {
      "name": "Mathematical_Background.ipynb",
      "version": "0.3.2",
      "provenance": [],
      "collapsed_sections": [],
      "include_colab_link": true
    },
    "kernelspec": {
      "name": "python3",
      "display_name": "Python 3"
    }
  },
  "cells": [
    {
      "cell_type": "markdown",
      "metadata": {
        "id": "view-in-github",
        "colab_type": "text"
      },
      "source": [
        "<a href=\"https://colab.research.google.com/github/kursataker/cng562-machine-learning-spring-19/blob/master/Mathematical_Background.ipynb\" target=\"_parent\"><img src=\"https://colab.research.google.com/assets/colab-badge.svg\" alt=\"Open In Colab\"/></a>"
      ]
    },
    {
      "metadata": {
        "id": "TztMP2BNQtkC",
        "colab_type": "text"
      },
      "cell_type": "markdown",
      "source": [
        "# Calculus\n",
        "\n",
        "*Disclaimer.* Parts of this Jupyter notebook is taken verbatim from Wikipedia and MML.\n",
        "\n",
        "**Ref.** MML, Chapter 5, Vector Calculus\n",
        "\n",
        "## Derivative\n",
        "\n",
        "The *derivative* $f'(t)$ is a measure of how fast the function $f(t)$ is changing at the point $t \\in \\mathbf{R}$. When $\\mathbf{t} \\in \\mathbf{R}^D$, the gradient $\\nabla f(\\mathbf{t})$ measures the rate of change in $f(\\mathbf{t})$ pointing in the direction in which increases the most.\n",
        "\n",
        "### Example\n",
        "\n",
        "Let $f(t) = 0$ when $x<0$ and $f(t)=t$ when $t\\geq 0$. The function $f(t)$ is an example of an *activation function*, called a *Rectified Linear Unit (ReLu)* in ML literature.\n",
        "\n",
        "Its derivative is $f'(t)=0$ when $t<0$ and $f'(t)=1$ when $t>0$. Note that $f(t)$ is not differentiable at $t=0$.\n",
        "\n",
        "## Chain Rule\n",
        "\n",
        "Chain rule governs the differentiation of composition of functions $f(t)$ and $g(t)$:\n",
        "\n",
        "$$ (f \\circ g)'(t) = \\frac{d}{dt}f(g(t)) = f'(g(t)) \\cdot g'(t).$$\n",
        "\n",
        "The **Back-propagation algorithm for neural networks** is based on the *chain rule*.\n",
        "\n",
        "### Example\n",
        "\n",
        "Let $\\sigma(t) = \\frac{1}{1+e^{-t}}$. The function $\\sigma(t)$ is another example of an *activation function* in ML literature, called the *sigmoid function* (or, *logistic function*).\n",
        "\n",
        "Notice $\\sigma(t) = (f \\circ g)(t)$, where $f(t) = t^{-1}$ and $g(t)=1+e^{-t}$.\n",
        "By Chain Rule, the derivative $\\sigma'(t)$ is\n",
        "\n",
        "$$\\sigma'(t) = (-1) \\cdot (g(t))^{-2} \\cdot g'(t) = (-1) \\frac{-e^{-t}}{(1+e^{-t})^{2}} = \\frac{e^{-t}}{(1+e^{-t})^{2}}.$$\n",
        "\n",
        "### Exercise\n",
        "\n",
        "Please verify that $\\sigma'(t) = \\sigma(t)(1-\\sigma(t)).$ This equation is called the *logistic equation*.\n",
        "\n",
        "### Some properties of the logistic function\n",
        "\n",
        "1. $\\lim_{t \\to - \\infty} \\sigma(t)=$____.\n",
        "2. $\\lim_{t \\to \\infty} \\sigma(t)=$____.\n",
        "3. At $t=0$, the value of the function $\\sigma(0)=$____.\n",
        "4. The derivative $\\sigma'(t)$ is always  ____.\n",
        "5. The function $\\sigma(t)$ is always ____."
      ]
    },
    {
      "metadata": {
        "id": "QtZX21YpjFoP",
        "colab_type": "text"
      },
      "cell_type": "markdown",
      "source": [
        "## Example\n",
        "\n",
        "\n",
        "1. Calculate $\\frac{\\partial}{\\partial w_1} \\frac{1}{1+e^{-(w_1 x_1 + w_2 x_2 + b)}}.$\n",
        "\n",
        "\n",
        "2. Calculate $\\frac{\\partial}{\\partial w_2} \\frac{1}{1+e^{-(w_1 x_1 + w_2 x_2 + b)}}.$\n",
        "\n",
        "\n",
        "3. Calculate $\\frac{\\partial}{\\partial b} \\frac{1}{1+e^{-(w_1 x_1 + w_2 x_2 + b)}}.$"
      ]
    },
    {
      "metadata": {
        "id": "yprNYKcMWexJ",
        "colab_type": "code",
        "colab": {}
      },
      "cell_type": "code",
      "source": [
        "import numpy as np\n",
        "import matplotlib.pyplot as plt"
      ],
      "execution_count": 0,
      "outputs": []
    },
    {
      "metadata": {
        "id": "ho7GPGKCWgSw",
        "colab_type": "code",
        "outputId": "277b957e-8974-4107-c22e-7242ed951ce3",
        "colab": {
          "base_uri": "https://localhost:8080/",
          "height": 517
        }
      },
      "cell_type": "code",
      "source": [
        "t = np.linspace(-10,10)\n",
        "sigma = lambda t: 1./(1.+np.exp(-t))\n",
        "dsigma = lambda t: sigma(t) * (1-sigma(t))\n",
        "\n",
        "plt.figure(figsize=(16,8))\n",
        "\n",
        "plt.subplot(121)\n",
        "plt.plot(t, sigma(t));\n",
        "plt.xlabel('t');\n",
        "plt.ylabel('the sigmoid function');\n",
        "\n",
        "plt.subplot(122)\n",
        "plt.plot(t, dsigma(t));\n",
        "plt.xlabel('t');\n",
        "plt.ylabel('derivative of the sigmoid function');"
      ],
      "execution_count": 0,
      "outputs": [
        {
          "output_type": "display_data",
          "data": {
            "image/png": "[encoded data removed]",
            "text/plain": [
              "<Figure size 1152x576 with 2 Axes>"
            ]
          },
          "metadata": {
            "tags": []
          }
        }
      ]
    },
    {
      "metadata": {
        "id": "KwHB2uwDZCkf",
        "colab_type": "text"
      },
      "cell_type": "markdown",
      "source": [
        "### Example\n",
        "\n",
        "Let $\\tanh(t) = \\frac{\\sinh(t)}{\\cosh(t)} = \\frac{e^t-e^{-t}}{e^t+e^{-t}}$. The function $\\sigma(t)$ is another example of an *activation function* in ML literature, called the *hyperbolic tangent function*.\n",
        "\n",
        "### Exercise\n",
        "\n",
        "Please calculate the derivative of the hyperbolic tangent function $\\tanh(t)$ and verify that $\\tanh'(t) = 1-\\tanh^2(t).$ \n",
        "\n"
      ]
    },
    {
      "metadata": {
        "id": "Cr6b7hIoaZqG",
        "colab_type": "code",
        "colab": {}
      },
      "cell_type": "code",
      "source": [
        "# PLEASE ENTER PYTHON CODE TO PLOT THE HYPERBOLIC TANGENT FUNCTION AND ITS DERIVATIVE."
      ],
      "execution_count": 0,
      "outputs": []
    },
    {
      "metadata": {
        "id": "9zlbw73jai63",
        "colab_type": "text"
      },
      "cell_type": "markdown",
      "source": [
        "### Some properties of the hyperbolic tangent function\n",
        "\n",
        "1. $\\lim_{t \\to - \\infty} \\tanh(t)=$____.\n",
        "2. $\\lim_{t \\to \\infty} \\tanh(t)=$____.\n",
        "3. At $t=0$, the value of the function $\\tanh(0)=$____.\n",
        "4. The derivative $\\tanh'(t)$ is always  ____.\n",
        "5. The function $\\tanh(t)$ is always ____."
      ]
    },
    {
      "metadata": {
        "id": "YJdQZC7ENzEF",
        "colab_type": "text"
      },
      "cell_type": "markdown",
      "source": [
        "# Unconstrained Optimization\n",
        "\n",
        "**Ref.** MML, Chapter 7, Continuous Optimization, Section 7.1 "
      ]
    },
    {
      "metadata": {
        "id": "QufFsKFNJ5uA",
        "colab_type": "text"
      },
      "cell_type": "markdown",
      "source": [
        "**Problem.** What is the number $t$ closest to given numbers $x_1, x_2, x_3$?\n",
        "\n",
        "**Solution.** Let $f(t)$ denote the sum of distances between the point $t$ and the points $x_1, x_2, x_3$. That is,\n",
        "\n",
        "$$ f(x) = (t-x_1)^2+(t-x_2)^2+(t-x_3)^2.$$\n",
        "\n",
        "**Analytic Approch.** Set $f'(t)=0$. Then $f'(t) = 2(x-x_1)+2(x-x_2)+2(x-x_3)=0.$\n",
        "\n",
        "Solving for $t$, we find $$t=\\frac{x_1+x_2+x_3}{3}.$$\n",
        "\n",
        "**Question.** *Is this really a minimum? How can you check?*\n",
        "\n",
        "**Computational approach.** \n",
        "1. Choose an initial randomly, $t_0$.\n",
        "2. Let $t_{n+1} = t_n - h \\cdot f'(t_n)$.\n",
        "3. Stop when the produce converges, that is when the distance between $t_n$ and $t_{n+1}$ becomes smaller than a prescribed value, $\\epsilon.$\n",
        "\n",
        "Here, $h$ is called the *learning rate* or *step size*.\n",
        "\n",
        "**Question.** *Did you really find a global minimum? How can you make sure?*\n",
        "\n",
        "\n",
        "**Comments.** \n",
        "\n",
        "1. The answer for the above problem with $N$ points $x_1, x_2, \\ldots, x_N$,\n",
        "would be similarly, the (arithmetic) mean\n",
        "\n",
        "\\begin{equation}t=\\frac{x_1+x_2+\\cdots+x_N}{N}.\\end{equation}\n",
        "\n",
        "2. The function $f(t) = \\sum_{i=1}^N (t-x_i)^2$ is called the **sum of squared errors**. It is an example of a **loss** (or, **empirical risk**) function in ML literature. \n",
        "\n",
        "Loss functions are chosen according to the nature of the ML task.\n",
        "\n",
        "3. The function $f(t)$ is convex, that is the values of the function $f(t)$ always lie over the the tangen lines (spaces). Since it is convex, it has a global minimum, in this case the *arithmetic mean*.\n",
        "\n",
        "4. In higher dimensions, the derivative $f'(t)$ is replaced by the gradient $\\nabla f(\\mathbf{t})$. For this reason, this method of computational minimization is called the *gradient descent algorithm*.\n",
        "\n",
        "5. The gradient $\\nabla f(\\mathbf{t})$ is the direction in which $f(\\mathbf{t})$ increases the most. The opposite direction $-\\nabla f(\\mathbf{t})$ is the direction in which $f(\\mathbf{t})$ decreases the most.\n",
        "\n",
        "In several dimensions, where the point $\\mathbf{t}_{n+1} \\in \\mathbf{R}^D$ is calculated, the equation becomes:\n",
        "\n",
        "$$ \\mathbf{t}_{n+1} = \\mathbf{t}_n - h \\nabla f(\\mathbf{t}).$$\n",
        "\n",
        "## What could go wrong?\n",
        "\n",
        "1. If the  *learning rate* is too high for the given function, we may bounce off the minimum.\n",
        "\n",
        "2. Gradient Descent could be slow at times.\n",
        "\n",
        "The Rosenbrock function shows these difficulties:\n",
        "\n",
        "$$f(x_1, x_2) = (1-x_1)^2 + 100(x_2-x_1^2)^2.$$\n",
        "\n",
        "There is a global minimum at $(1,1)$. Below graph from Wikipedia shows that Gradient Descent converges rather slowly towards to the global minimum.\n",
        "\n",
        "[Link to Rosenbrock function 3D Graph](https://en.wikipedia.org/wiki/File:Rosenbrock_function.svg)\n",
        "\n",
        "### Gradient Descent for Rosenbrock Function\n",
        "\n",
        "![Gradient Descent for Rosenbrock function](https://upload.wikimedia.org/wikipedia/commons/thumb/6/60/Banana-SteepDesc.gif/600px-Banana-SteepDesc.gif)"
      ]
    },
    {
      "metadata": {
        "id": "j4EP6H8xdNmP",
        "colab_type": "code",
        "outputId": "5c5e71bb-405c-4a6f-a3d4-49c713615d0c",
        "colab": {
          "base_uri": "https://localhost:8080/",
          "height": 37
        }
      },
      "cell_type": "code",
      "source": [
        "from IPython.display import Image\n",
        "from IPython.core.display import HTML \n",
        "Image(url= \"https://en.wikipedia.org/wiki/Gradient_descent#/media/File:Gradient_descent.svg\")"
      ],
      "execution_count": 0,
      "outputs": [
        {
          "output_type": "execute_result",
          "data": {
            "text/html": [
              "<img src=\"https://en.wikipedia.org/wiki/Gradient_descent#/media/File:Gradient_descent.svg\"/>"
            ],
            "text/plain": [
              "<IPython.core.display.Image object>"
            ]
          },
          "metadata": {
            "tags": []
          },
          "execution_count": 20
        }
      ]
    },
    {
      "metadata": {
        "id": "EnUZREtSJHrJ",
        "colab_type": "text"
      },
      "cell_type": "markdown",
      "source": [
        "## Gradient Descent\n",
        "\n",
        "https://scipython.com/blog/visualizing-the-gradient-descent-method/\n",
        "\n",
        "## Animated\n",
        "\n",
        "https://github.com/Shathra/gradient-descent-demonstration\n",
        "\n"
      ]
    },
    {
      "metadata": {
        "id": "cV3d9UOHJmWK",
        "colab_type": "code",
        "colab": {}
      },
      "cell_type": "code",
      "source": [
        ""
      ],
      "execution_count": 0,
      "outputs": []
    },
    {
      "metadata": {
        "id": "1cEfqhQWxc_E",
        "colab_type": "text"
      },
      "cell_type": "markdown",
      "source": [
        "# Probability Theory\n",
        "\n",
        "**Ref.** MML, Chapter 6, Probability and Distributions, Section 6.1-6.4 \n",
        "\n",
        "## The sample Space $\\Omega$\n",
        "\n",
        "The *sample space* $\\Omega$ is the set of all possible outcomes of the experiment. The sample space for two successive toin cosses is $\\Omega = \\lbrace hh, ht, th, tt \\rbrace$.\n",
        "\n",
        "## The event space $\\mathcal{A}$\n",
        "\n",
        "The *event space* is the space of potential results of the experiment. \n",
        "\n",
        "## The probability $P$\n",
        "\n",
        "With each event $A\\in \\mathcal{A}$, we associate a number $P(A)$ that measures the probability or degree of belief that the event $A$ will occur. The value $P(A)$ is called the *probability* of the event $A$.\n",
        "\n",
        "First a warning: A random variable is neither random, nor a variable. In fact, it is a function from the sample space to real numbers, $\\mathbf{R}$.\n",
        "\n",
        "## Random Variable\n",
        "\n",
        "A random variable $X$ is a function from the sample space $\\Omega$ to the target space $\\mathcal{T}$. For us, the target space $\\mathcal{T}$ will typically be the set of real numbers $\\mathbf{R}$. \n",
        "\n",
        "### Example\n",
        "\n",
        "Let $X$ denote the number of heads in two consecutive coin tosses. Then $X$ is random variable on the sample space $\\Omega = \\lbrace hh, ht, th, tt \\rbrace$:\n",
        "\n",
        "$$X(hh)=2$$\n",
        "$$X(ht)=1$$\n",
        "$$X(th)=1$$\n",
        "$$X(tt)=0$$\n",
        "\n",
        "For a finite sample space $\\Omega$, a random variable is a *lookup table*.\n",
        "\n",
        "For any subset $S\\subset \\mathbf{R}$, we associate a probability $P_X(S)$:\n",
        "\n",
        "$$ P_X(S) = P(X\\in S) = P(\\lbrace \\omega \\in \\Omega: X(\\omega) \\in S \\rbrace).$$\n",
        "\n",
        "The function $P_X$ is the *law* or the *distribution* of the random variable $X$.\n",
        "\n",
        "\n"
      ]
    },
    {
      "metadata": {
        "id": "ba92AnIF2q-Q",
        "colab_type": "text"
      },
      "cell_type": "markdown",
      "source": [
        "## Discrete Probability\n",
        "\n",
        "When the target space $\\mathcal{T}$ is finite or discrete, the random variable $X$ is called *discrete random variable*.\n",
        "\n",
        "The function $x \\to P(X=x)$ is called the *probability mass function*. The function $x \\to P(X\\leq x)$ is called the *cumulative distribution function*.\n",
        "\n",
        "### Example \n",
        "Let the sample space be $\\Omega = \\lbrace hh, ht, th, tt \\rbrace$ and the random variable $X$ denote the number of heads in two consecutive coin tosses. The probability mass distribution function and the cumulative probability distribution are:\n",
        "\n",
        "\n",
        "$$P(X=0) = \\frac{1}{4}, P(X\\leq 0) = \\frac{1}{4}$$\n",
        "\n",
        "\n",
        "$$P(X=1) = \\frac{2}{4}, P(X\\leq 1) = \\frac{3}{4}$$\n",
        "\n",
        "$$P(X=2) = \\frac{1}{4}, P(X\\leq 2) = \\frac{4}{4}$$"
      ]
    },
    {
      "metadata": {
        "id": "t1NIvwkO-1R8",
        "colab_type": "text"
      },
      "cell_type": "markdown",
      "source": [
        "## Bernoulli Trials\n",
        "\n",
        "An experiment with a binary outcome (success/failure) is called a *Bernoulli trial*, where the probability of success is $p$ and the probability of failure is $1-p$ for some real number $p\\in [0,1]$. A sequence of outcomes is called a *Bernoulli process*.\n",
        "\n",
        "### Example \n",
        "Flipping a coin, or a web user clicking on a link a web page can be modeled as a *Bernoulli trial*, where success can be flipping heads or a user clicking on the said link."
      ]
    },
    {
      "metadata": {
        "id": "TsnHakKK_y9x",
        "colab_type": "text"
      },
      "cell_type": "markdown",
      "source": [
        "## Binomial Distribution\n",
        "The *binomial distribution* with the parameters $N$ and $p$ is the discrete probability distribution of the number of successes in a sequence of $N$ independent experiments, each with a binary outcome (success or failure), where $p$ is the probability of success. Recall that each such experiment is a *Bernoulli trial*. \n",
        "\n",
        "Let $X$ denote the corresponding random variable $X$. Then, the probability mass function is\n",
        "\n",
        "$$P(X=x) = {N \\choose p} p^x(1-p)^{(N-x)}.$$\n",
        "\n",
        "Denoting the random variable corresponding to the $k$th experiment by $X_k$. We can also state that the random variable $X$ is a sum of random variables $X_k$, that is \n",
        "\n",
        "$$ X = X_1+X_2+\\cdots+X_N.$$\n",
        "\n",
        "\n",
        "### Example\n",
        "\n",
        "Denote the probability $P(h)$ with $p$. Let $X$ denote the number of heads in $N$ consecutive coin tosses. In our working example, $N$ was $2$ and $p=0.5$. \n",
        "\n",
        "This is an example of a *binomial distribution* with parameters $N$ and $p$.\n",
        "\n"
      ]
    },
    {
      "metadata": {
        "id": "PMtlEjzg5Bbm",
        "colab_type": "code",
        "outputId": "a0c3b890-693c-4c94-b79f-494af2730a51",
        "colab": {
          "base_uri": "https://localhost:8080/",
          "height": 35
        }
      },
      "cell_type": "code",
      "source": [
        "import numpy as np\n",
        "\n",
        "N = 100 # number of trials p = 0.5 # fair coin\n",
        "\n",
        "p = 0.5 # fair coin\n",
        "\n",
        "# We are sampling from the binomial distribution:\n",
        "\n",
        "X = np.random.binomial(N, p) # the number of heads in N trials where P(H) = p.\n",
        "\n",
        "print(X)  \n",
        "\n",
        "# We don't need to sample X once, we can sample many X's."
      ],
      "execution_count": 0,
      "outputs": [
        {
          "output_type": "stream",
          "text": [
            "45\n"
          ],
          "name": "stdout"
        }
      ]
    },
    {
      "metadata": {
        "id": "D7lbBObC50lb",
        "colab_type": "code",
        "colab": {}
      },
      "cell_type": "code",
      "source": [
        "\n",
        "\n",
        "import numpy as np\n",
        "\n",
        "N = 100 # number of trials p = 0.5 # fair coin\n",
        "\n",
        "p = 0.5 # fair coin\n",
        "\n",
        "# We are sampling from the binomial distribution:\n",
        "\n",
        "Xs = np.random.binomial(N, p, size=10000) # the number of heads in N trials where P(H) = p."
      ],
      "execution_count": 0,
      "outputs": []
    },
    {
      "metadata": {
        "id": "K1IYcjjq5-Zy",
        "colab_type": "code",
        "outputId": "73791132-a919-49a3-8022-94e37eb6b668",
        "colab": {
          "base_uri": "https://localhost:8080/",
          "height": 35
        }
      },
      "cell_type": "code",
      "source": [
        "Xs.shape"
      ],
      "execution_count": 0,
      "outputs": [
        {
          "output_type": "execute_result",
          "data": {
            "text/plain": [
              "(10000,)"
            ]
          },
          "metadata": {
            "tags": []
          },
          "execution_count": 5
        }
      ]
    },
    {
      "metadata": {
        "id": "K1TxfFY36B1R",
        "colab_type": "code",
        "outputId": "3e668e69-3297-4b06-fcd6-d2bea06ff62e",
        "colab": {
          "base_uri": "https://localhost:8080/",
          "height": 361
        }
      },
      "cell_type": "code",
      "source": [
        "plt.hist(Xs, bins=101);\n",
        "plt.ylabel('Count');\n",
        "plt.xlabel('Number of Successes');"
      ],
      "execution_count": 0,
      "outputs": [
        {
          "output_type": "display_data",
          "data": {
            "image/png": "[encoded data removed]",
            "text/plain": [
              "<Figure size 576x396 with 1 Axes>"
            ]
          },
          "metadata": {
            "tags": []
          }
        }
      ]
    },
    {
      "metadata": {
        "id": "DvXtUtdL8NhM",
        "colab_type": "code",
        "outputId": "5bac38ba-9ba4-4e3a-b974-05fb5d0781a7",
        "colab": {
          "base_uri": "https://localhost:8080/",
          "height": 519
        }
      },
      "cell_type": "code",
      "source": [
        "fig, (ax1, ax2) = plt.subplots(1, 2, figsize=(16, 8))\n",
        "\n",
        "n, bins, patches = ax1.hist(Xs, bins=101, density=True)\n",
        "\n",
        "ax1.set_title('Probability Mass Function')\n",
        "\n",
        "n, bins, patches = ax2.hist(Xs, bins=101, cumulative=True, density=True)\n",
        "\n",
        "ax2.set_title('Cumulative Distribution Function')\n",
        "\n",
        "plt.show()\n",
        "\n"
      ],
      "execution_count": 0,
      "outputs": [
        {
          "output_type": "display_data",
          "data": {
            "image/png": "[encoded data removed]",
            "text/plain": [
              "<Figure size 1152x576 with 2 Axes>"
            ]
          },
          "metadata": {
            "tags": []
          }
        }
      ]
    },
    {
      "metadata": {
        "id": "Te9wBFm86RGH",
        "colab_type": "code",
        "outputId": "e0526ce6-29fe-4f1c-a3e0-f66c6ee1d73c",
        "colab": {
          "base_uri": "https://localhost:8080/",
          "height": 347
        }
      },
      "cell_type": "code",
      "source": [
        "import seaborn as sns\n",
        "sns.distplot(Xs, bins=101, hist=False);"
      ],
      "execution_count": 0,
      "outputs": [
        {
          "output_type": "display_data",
          "data": {
            "image/png": "[encoded data removed]",
            "text/plain": [
              "<Figure size 576x396 with 1 Axes>"
            ]
          },
          "metadata": {
            "tags": []
          }
        }
      ]
    },
    {
      "metadata": {
        "id": "enCoSjtZNd7a",
        "colab_type": "text"
      },
      "cell_type": "markdown",
      "source": [
        "## The Joint Probability\n",
        "\n",
        "$$ P(X=x_i, Y=y_i) = \\frac{n_{ij}}{N}$$\n",
        "\n",
        "where $n_{ij}$ is the number of events with $x_i$ and $y_j$ and $N$ the total number of events.\n",
        "\n",
        "For the probability of $X=x$ and $Y=y$, we also write $p(x,y)$.\n",
        "\n",
        "## Marginal Probability\n",
        "\n",
        "The *marginal probability* of $x$ is the sum of all probabilities $p(x, y_j)$:\n",
        "\n",
        "$$ p(x) = \\sum_j p(x, y_j).$$\n",
        "\n",
        "## Conditional Probability\n",
        "\n",
        "The *conditional probability* of $y$ given $x$ has happened is denoted by $p(y|x)$:\n",
        "\n",
        "$$ p(y|x) = \\frac{p(x,y)}{p(x)}.$$\n",
        "\n",
        "## Independence\n",
        "\n",
        "Two events are independent if the occurence of one does not afect the probability of occurence of the other.\n",
        "\n",
        "In other words, $p(x,y) = p(x)p(y)$ for all $x$ and $y$, the corresponding random variables $X$ and $Y$ are independent.\n",
        "\n",
        "Said differently, if $p(y|x)=p(y)$ for all values of $x$ and $y$, the corresponding random variables $X$ and $Y$ are independent."
      ]
    },
    {
      "metadata": {
        "id": "H03W7E9rBZEw",
        "colab_type": "text"
      },
      "cell_type": "markdown",
      "source": [
        "## Continuous Probability\n",
        "\n",
        "Continuous random variables do not have **probability mass functions**.\n",
        "\n",
        "Instead, they have **probability density functions** which measure the probability of an interval.\n",
        "\n",
        "### Probability Density Function\n",
        "\n",
        "A function $f: \\mathbf{R}^D \\to \\mathbf{R}$ is called a *probability density function* (pdf) if\n",
        "\n",
        "1. The function $f(\\mathbf{x})$ is non-negative.\n",
        "2. Its integral exists and \n",
        "$$\\int_{\\mathbf{R}^D} f(\\mathbf{x})d\\mathbf{x}=1.$$\n",
        "\n",
        "### Associated Random Variable\n",
        "When $D=1$,\n",
        "\n",
        "$$ P(a\\leq X \\leq b) = \\int_a^b f(x) dx.$$\n",
        "\n",
        "For $D>1$, we can define $X$ similarly.\n",
        "\n",
        "The above association is called the *law* or *distribution* of the random variable $X$.\n",
        "\n",
        "### Cumulative Distribution Function\n",
        "\n",
        "A cumulative distribution function (cdf) for a 1-dimensional random variable $X$ is\n",
        "\n",
        "$$F_X(x) = P(X\\leq x)$$\n",
        "\n",
        "It is equal to\n",
        "\n",
        "$$F_X(x) = \\int_{-\\infty}^x f(z) dz.$$"
      ]
    },
    {
      "metadata": {
        "id": "h1IXVMo7DqNI",
        "colab_type": "text"
      },
      "cell_type": "markdown",
      "source": [
        "### Uniform Distribution on a finite interval \n",
        "\n",
        "Let $I=[0,1]$. Define $f(x)=2x$ when $x\\in I$ and $0$ otherwise.\n",
        "\n",
        "Verify that $f(x)$ is a probability distribution function.\n",
        "\n",
        "### Any function $g(x)$ with a finite integral on $\\mathbf{R}$\n",
        "\n",
        "Any function $g(x)$ with a finite integral on $\\mathbf{R}$ produces a probability distribution function, $f(x)$. Denote the integral of $g(x)$ by $A$. Then, $f(x) = \\frac{g(x)}{A}$ is probability distribution function.\n",
        "\n",
        "For instance, let $g(x) = e^{-x^2}$. The integral of $g(x)$ is $\\sqrt \\pi$. So,\n",
        "$$ f(x) = \\frac{1}{\\sqrt\\pi}e^{-x^2}$$\n",
        "is probability distribution function.\n",
        "\n",
        "This is the famous *normal* or *Gaussian* distribution."
      ]
    },
    {
      "metadata": {
        "id": "nM3pNHFDH8xt",
        "colab_type": "text"
      },
      "cell_type": "markdown",
      "source": [
        "### Sum Rule or Marginalization\n",
        "\n",
        "$$p(x_1) = \\int p(x_1, x_2) d x_2.$$\n",
        "\n",
        "### Product Rule\n",
        "\n",
        "$$p(x_1, x_2) = p(x_2|x_1)p(x).$$\n",
        "\n",
        "## Bayes Rule\n",
        "Bayes Rule states that\n",
        "\n",
        "$$p(\\mathbf{x} | \\mathbf{y}) = \\frac{p(\\mathbf{y}|\\mathbf{x})p(\\mathbf{x})} {p(\\mathbf{y})},$$\n",
        "\n",
        "or\n",
        "$$p(\\mathbf{model} | \\mathbf{data}) = \\frac{p(\\mathbf{data}|\\mathbf{model})p(\\mathbf{model})} {p(\\mathbf{data})}.$$\n",
        "\n",
        "\n"
      ]
    },
    {
      "metadata": {
        "id": "hjwUAhVdKTtJ",
        "colab_type": "text"
      },
      "cell_type": "markdown",
      "source": [
        "## Expected Value\n",
        "\n",
        "The *expected value* of a function $g(x)$ of a univariate random variable $X \\sim p(x)$ is \n",
        "\n",
        "$$\\mathbb{E}_X[g(x)] = \\int g(x) p(x)dx.$$\n",
        "\n",
        "## Mean\n",
        "\n",
        "The *mean* of a random variable $X$ is the expected value of the identity function:\n",
        "\n",
        "$$ \\mu = \\mathbb{E}_X[x] = \\int x p(x) dx.$$\n",
        "\n",
        "## Median\n",
        "\n",
        "The *median* is the middle value separating the upper half from the lower half of a dataset.\n",
        "\n",
        "## Mode\n",
        "\n",
        "The *mode* is the most frequently obtained value of a dataset.\n",
        "\n",
        "## Covariance\n",
        "\n",
        "The *covariance* between two univariate random variables $X,Y\\in \\mathbf{R}$ is \n",
        "\n",
        "$$\\mathrm{Cov}_{X,Y}[x,y] = \\mathbb{E}_{X,Y}[(x-\\mathbb{E}_X[x])(y-\\mathbb{E}_Y[y])].$$\n",
        "\n",
        "This simplifies to\n",
        "\n",
        "$$\\mathrm{Cov}[x,y] = \\mathbb{E}[xy] - \\mathbb{E}[x]\\mathbb{E}[y].$$\n",
        "\n",
        "## Variance\n",
        "\n",
        "Self-covariance of a variable $\\mathrm{Cov}[x,x]$ is called the *variance* and denoted by $\\mathbb{V}_X[x]$.\n",
        "Its square root is called the *standard deviation*, denoted by $\\sigma(x)$.\n",
        "\n",
        "## Empirical Mean\n",
        "\n",
        "$$\\overline{\\mathbf{x}} = \\frac{1}{N} \\sum_{n=1}^N \\mathbf{x}_n.$$\n",
        "\n",
        "## Empirical Covariance\n",
        "\n",
        "$$\\Sigma = \\frac{1}{N} \\sum_{n=1}^N (\\mathbf{x}_n-\\overline{\\mathbf{x}})(\\mathbf{x}_n-\\overline{\\mathbf{x}})^T.$$\n",
        "\n",
        "## Variance again\n",
        "\n",
        "1. $\\mathbb{V}_X[x] = \\mathbb{E}_X[(x-\\mu)^2].$\n",
        "\n",
        "2. $\\mathbb{V}_X[x] = \\mathbb{E}_X[x^2]-(\\mathbb{E}_X[x])^2.$\n",
        "\n",
        "3. $\\mathbb{V}_X[x] =  \\frac{1}{2}\\cdot\\frac{1}{N^2} \\sum_{i,j=1}^N (x_i-x_j)^2.$\n",
        "\n",
        "*Suggested Exercise.* Prove the latter two equalities using the definition of the variance."
      ]
    },
    {
      "metadata": {
        "id": "JOvixFzPDgF9",
        "colab_type": "code",
        "colab": {}
      },
      "cell_type": "code",
      "source": [
        ""
      ],
      "execution_count": 0,
      "outputs": []
    }
  ]
}