{
  "nbformat": 4,
  "nbformat_minor": 0,
  "metadata": {
    "colab": {
      "name": "Basic_Practice.ipynb",
      "version": "0.3.2",
      "provenance": [],
      "collapsed_sections": [],
      "include_colab_link": true
    },
    "kernelspec": {
      "name": "python3",
      "display_name": "Python 3"
    }
  },
  "cells": [
    {
      "cell_type": "markdown",
      "metadata": {
        "id": "view-in-github",
        "colab_type": "text"
      },
      "source": [
        "<a href=\"https://colab.research.google.com/github/kursataker/cng562-machine-learning-spring-19/blob/master/Basic_Practice.ipynb\" target=\"_parent\"><img src=\"https://colab.research.google.com/assets/colab-badge.svg\" alt=\"Open In Colab\"/></a>"
      ]
    },
    {
      "metadata": {
        "id": "eLgbmHMvEYf9",
        "colab_type": "code",
        "colab": {}
      },
      "cell_type": "code",
      "source": [
        "## Disclaimer: This notebook closely follows Burkov's book Chapter 5.\n",
        "\n",
        "import numpy as np"
      ],
      "execution_count": 0,
      "outputs": []
    },
    {
      "metadata": {
        "id": "wCUlfLU4_YW3",
        "colab_type": "text"
      },
      "cell_type": "markdown",
      "source": [
        "## Feature Engineering\n",
        " Converting raw data into a dataset is called **feature engineering**.\n",
        " \n",
        " *Informative features* have high *predictive power*.\n",
        " \n",
        " In credit default problem, we expect *income* or *credit card payment history* to be informative features.\n",
        " \n",
        " \n",
        " \n",
        " "
      ]
    },
    {
      "metadata": {
        "id": "tfBuN1OK_Xcf",
        "colab_type": "text"
      },
      "cell_type": "markdown",
      "source": [
        "## Categorical Data to Numerical Data\n",
        " \n",
        " Among all the algorithms, we have seen the only which accepts categorical data (e.g. color = 'blue') is the decision tree algoritm.\n",
        " \n",
        " Linear, Logistic Regression, kNN or SVM **do no accept** categorical data.\n",
        " \n",
        "*One-Hot encoding* transforms categorical features into several binary features:\n",
        "\n",
        "\\begin{align}\n",
        "red &= [1,0,0]\\\\\n",
        "yellow &= [0,1,0]\\\\\n",
        "green &=[0,0,1].\n",
        "\\end{align}\n",
        "\n"
      ]
    },
    {
      "metadata": {
        "id": "xUcHPWnGA0h_",
        "colab_type": "code",
        "outputId": "db2fb7da-5a71-4815-8e6c-86e6fd4482f6",
        "colab": {
          "base_uri": "https://localhost:8080/",
          "height": 68
        }
      },
      "cell_type": "code",
      "source": [
        "from sklearn.preprocessing import OneHotEncoder\n",
        "enc = OneHotEncoder(handle_unknown='ignore')\n",
        "X = [['Male', 1], ['Female', 3], ['Female', 2]]\n",
        "enc.fit(X)"
      ],
      "execution_count": 0,
      "outputs": [
        {
          "output_type": "execute_result",
          "data": {
            "text/plain": [
              "OneHotEncoder(categorical_features=None, categories=None,\n",
              "       dtype=<class 'numpy.float64'>, handle_unknown='ignore',\n",
              "       n_values=None, sparse=True)"
            ]
          },
          "metadata": {
            "tags": []
          },
          "execution_count": 59
        }
      ]
    },
    {
      "metadata": {
        "id": "-dexAZcaBkbf",
        "colab_type": "code",
        "outputId": "19a08dd2-ad30-418f-ba23-9eb0d20ff705",
        "colab": {
          "base_uri": "https://localhost:8080/",
          "height": 34
        }
      },
      "cell_type": "code",
      "source": [
        "enc.categories_"
      ],
      "execution_count": 0,
      "outputs": [
        {
          "output_type": "execute_result",
          "data": {
            "text/plain": [
              "[array(['Female', 'Male'], dtype=object), array([1, 2, 3], dtype=object)]"
            ]
          },
          "metadata": {
            "tags": []
          },
          "execution_count": 60
        }
      ]
    },
    {
      "metadata": {
        "id": "DG-s98iUBlwt",
        "colab_type": "code",
        "outputId": "c0502ba9-4364-4bff-9222-acefff1f259a",
        "colab": {
          "base_uri": "https://localhost:8080/",
          "height": 51
        }
      },
      "cell_type": "code",
      "source": [
        "enc.transform([['Female', 1], ['Male', 4]]).toarray()"
      ],
      "execution_count": 0,
      "outputs": [
        {
          "output_type": "execute_result",
          "data": {
            "text/plain": [
              "array([[1., 0., 1., 0., 0.],\n",
              "       [0., 1., 0., 0., 0.]])"
            ]
          },
          "metadata": {
            "tags": []
          },
          "execution_count": 61
        }
      ]
    },
    {
      "metadata": {
        "id": "bn51jN56BYDo",
        "colab_type": "code",
        "outputId": "b998706d-e7b7-41b1-b3e5-84bd7ee0014a",
        "colab": {
          "base_uri": "https://localhost:8080/",
          "height": 51
        }
      },
      "cell_type": "code",
      "source": [
        "enc.inverse_transform([[0, 1, 1, 0, 0], [0, 0, 0, 1, 0]])\n"
      ],
      "execution_count": 0,
      "outputs": [
        {
          "output_type": "execute_result",
          "data": {
            "text/plain": [
              "array([['Male', 1],\n",
              "       [None, 2]], dtype=object)"
            ]
          },
          "metadata": {
            "tags": []
          },
          "execution_count": 62
        }
      ]
    },
    {
      "metadata": {
        "id": "JB59W0VgB1Wq",
        "colab_type": "code",
        "outputId": "8c582236-029a-4cdc-db73-9d85395c451c",
        "colab": {
          "base_uri": "https://localhost:8080/",
          "height": 34
        }
      },
      "cell_type": "code",
      "source": [
        "enc.get_feature_names()\n"
      ],
      "execution_count": 0,
      "outputs": [
        {
          "output_type": "execute_result",
          "data": {
            "text/plain": [
              "array(['x0_Female', 'x0_Male', 'x1_1', 'x1_2', 'x1_3'], dtype=object)"
            ]
          },
          "metadata": {
            "tags": []
          },
          "execution_count": 63
        }
      ]
    },
    {
      "metadata": {
        "id": "tHstPphuB2DU",
        "colab_type": "text"
      },
      "cell_type": "markdown",
      "source": [
        "## Numerical Data to Categorical Data\n",
        "*Binning* (*Bucketing* or *Discretization*) is the process of converting a continuous feature into multiple binary features called *bins* or *buckets*, typically based on value range."
      ]
    },
    {
      "metadata": {
        "id": "ifB1kuzfETXR",
        "colab_type": "code",
        "colab": {}
      },
      "cell_type": "code",
      "source": [
        ">>> X = np.array([[ -3., 5., 15 ],\n",
        "...               [  0., 6., 14 ],\n",
        "...               [  6., 3., 11 ]])"
      ],
      "execution_count": 0,
      "outputs": []
    },
    {
      "metadata": {
        "id": "zyVUbI8eEVZ7",
        "colab_type": "code",
        "colab": {}
      },
      "cell_type": "code",
      "source": [
        "from sklearn import preprocessing"
      ],
      "execution_count": 0,
      "outputs": []
    },
    {
      "metadata": {
        "id": "EIlOjT1EEewi",
        "colab_type": "code",
        "colab": {}
      },
      "cell_type": "code",
      "source": [
        "est = preprocessing.KBinsDiscretizer(n_bins=[3, 2, 2], encode='ordinal').fit(X)"
      ],
      "execution_count": 0,
      "outputs": []
    },
    {
      "metadata": {
        "id": "CS0DEkqjEh7a",
        "colab_type": "code",
        "outputId": "f5ce54d0-fcfe-4901-c642-84512deb4c49",
        "colab": {
          "base_uri": "https://localhost:8080/",
          "height": 51
        }
      },
      "cell_type": "code",
      "source": [
        "est.bin_edges_"
      ],
      "execution_count": 0,
      "outputs": [
        {
          "output_type": "execute_result",
          "data": {
            "text/plain": [
              "array([array([-3., -1.,  2.,  6.]), array([3., 5., 6.]),\n",
              "       array([11., 14., 15.])], dtype=object)"
            ]
          },
          "metadata": {
            "tags": []
          },
          "execution_count": 67
        }
      ]
    },
    {
      "metadata": {
        "id": "yaGpKdOBElIU",
        "colab_type": "code",
        "outputId": "24f1415c-f896-4bd1-8c0a-bf19796ec799",
        "colab": {
          "base_uri": "https://localhost:8080/",
          "height": 34
        }
      },
      "cell_type": "code",
      "source": [
        "est.n_bins_"
      ],
      "execution_count": 0,
      "outputs": [
        {
          "output_type": "execute_result",
          "data": {
            "text/plain": [
              "array([3, 2, 2])"
            ]
          },
          "metadata": {
            "tags": []
          },
          "execution_count": 68
        }
      ]
    },
    {
      "metadata": {
        "id": "raCQq5qzEsIW",
        "colab_type": "code",
        "outputId": "5d4f568f-4356-4dea-8ee1-073f512416f3",
        "colab": {
          "base_uri": "https://localhost:8080/",
          "height": 34
        }
      },
      "cell_type": "code",
      "source": [
        "est.n_bins"
      ],
      "execution_count": 0,
      "outputs": [
        {
          "output_type": "execute_result",
          "data": {
            "text/plain": [
              "[3, 2, 2]"
            ]
          },
          "metadata": {
            "tags": []
          },
          "execution_count": 69
        }
      ]
    },
    {
      "metadata": {
        "id": "X8UPAqsjEvrw",
        "colab_type": "code",
        "outputId": "f64ccb0e-9af4-441b-d7a5-8f0fb8df9661",
        "colab": {
          "base_uri": "https://localhost:8080/",
          "height": 68
        }
      },
      "cell_type": "code",
      "source": [
        "est.transform(X)"
      ],
      "execution_count": 0,
      "outputs": [
        {
          "output_type": "execute_result",
          "data": {
            "text/plain": [
              "array([[0., 1., 1.],\n",
              "       [1., 1., 1.],\n",
              "       [2., 0., 0.]])"
            ]
          },
          "metadata": {
            "tags": []
          },
          "execution_count": 70
        }
      ]
    },
    {
      "metadata": {
        "id": "wD575ePzHCZs",
        "colab_type": "text"
      },
      "cell_type": "markdown",
      "source": [
        "## Preparing numerical features"
      ]
    },
    {
      "metadata": {
        "id": "FFfQF7a4F2-T",
        "colab_type": "text"
      },
      "cell_type": "markdown",
      "source": [
        "\n",
        "### Standardization = Mean removal and Variance Scaling\n",
        "\n",
        "*Standardization* (or *z-score normalization*, or *mean removal and variance scaling*) is the procedure so that mean of the resulting distribution is **zero** and its standard deviation is **one**:\n",
        "\n",
        "\n",
        "$$ x \\to \\frac{x-\\mu}{\\sigma}.$$\n",
        "\n",
        "\n",
        "\n",
        "Many of scikit-learn estimators requires numerical features to be *standardized*, such as linear regression.\n",
        "\n"
      ]
    },
    {
      "metadata": {
        "id": "plqvLT5sHEVq",
        "colab_type": "code",
        "colab": {}
      },
      "cell_type": "code",
      "source": [
        ">>> from sklearn import preprocessing\n",
        ">>> import numpy as np\n",
        ">>> X_train = np.array([[ 1., -1.,  2.],\n",
        "...                     [ 2.,  0.,  0.],\n",
        "...                     [ 0.,  1., -1.]])"
      ],
      "execution_count": 0,
      "outputs": []
    },
    {
      "metadata": {
        "id": "o7V5C1uAHJDG",
        "colab_type": "code",
        "outputId": "96635e5b-a33e-4b4e-92a8-34d870722043",
        "colab": {
          "base_uri": "https://localhost:8080/",
          "height": 68
        }
      },
      "cell_type": "code",
      "source": [
        "X_scaled = preprocessing.scale(X_train)\n",
        "X_scaled"
      ],
      "execution_count": 0,
      "outputs": [
        {
          "output_type": "execute_result",
          "data": {
            "text/plain": [
              "array([[ 0.        , -1.22474487,  1.33630621],\n",
              "       [ 1.22474487,  0.        , -0.26726124],\n",
              "       [-1.22474487,  1.22474487, -1.06904497]])"
            ]
          },
          "metadata": {
            "tags": []
          },
          "execution_count": 72
        }
      ]
    },
    {
      "metadata": {
        "id": "oyb38dZ3HaOK",
        "colab_type": "code",
        "outputId": "2c73e60c-d6e6-4538-8fff-0bead98e60da",
        "colab": {
          "base_uri": "https://localhost:8080/",
          "height": 34
        }
      },
      "cell_type": "code",
      "source": [
        "X_scaled.mean(axis=0)"
      ],
      "execution_count": 0,
      "outputs": [
        {
          "output_type": "execute_result",
          "data": {
            "text/plain": [
              "array([0., 0., 0.])"
            ]
          },
          "metadata": {
            "tags": []
          },
          "execution_count": 73
        }
      ]
    },
    {
      "metadata": {
        "id": "KNJHGNLHHcqD",
        "colab_type": "code",
        "outputId": "8a702bfb-bf7e-4c02-8005-770e45998b8a",
        "colab": {
          "base_uri": "https://localhost:8080/",
          "height": 34
        }
      },
      "cell_type": "code",
      "source": [
        "X_scaled.std(axis=0)"
      ],
      "execution_count": 0,
      "outputs": [
        {
          "output_type": "execute_result",
          "data": {
            "text/plain": [
              "array([1., 1., 1.])"
            ]
          },
          "metadata": {
            "tags": []
          },
          "execution_count": 74
        }
      ]
    },
    {
      "metadata": {
        "id": "ELuGpiD8HfZn",
        "colab_type": "code",
        "outputId": "835a9f8e-7162-4f09-d037-059edbf93ba4",
        "colab": {
          "base_uri": "https://localhost:8080/",
          "height": 34
        }
      },
      "cell_type": "code",
      "source": [
        "scaler = preprocessing.StandardScaler().fit(X_train)\n",
        "scaler"
      ],
      "execution_count": 0,
      "outputs": [
        {
          "output_type": "execute_result",
          "data": {
            "text/plain": [
              "StandardScaler(copy=True, with_mean=True, with_std=True)"
            ]
          },
          "metadata": {
            "tags": []
          },
          "execution_count": 75
        }
      ]
    },
    {
      "metadata": {
        "id": "7rujZ3oNHuGN",
        "colab_type": "code",
        "outputId": "fe2bb636-a9c9-43b4-8990-83fb363ee754",
        "colab": {
          "base_uri": "https://localhost:8080/",
          "height": 34
        }
      },
      "cell_type": "code",
      "source": [
        "scaler.mean_"
      ],
      "execution_count": 0,
      "outputs": [
        {
          "output_type": "execute_result",
          "data": {
            "text/plain": [
              "array([1.        , 0.        , 0.33333333])"
            ]
          },
          "metadata": {
            "tags": []
          },
          "execution_count": 76
        }
      ]
    },
    {
      "metadata": {
        "id": "_z7j8xMIHv0X",
        "colab_type": "code",
        "outputId": "128d5a85-eae2-455b-8ab7-a03019bb5543",
        "colab": {
          "base_uri": "https://localhost:8080/",
          "height": 68
        }
      },
      "cell_type": "code",
      "source": [
        "scaler.transform(X_train)"
      ],
      "execution_count": 0,
      "outputs": [
        {
          "output_type": "execute_result",
          "data": {
            "text/plain": [
              "array([[ 0.        , -1.22474487,  1.33630621],\n",
              "       [ 1.22474487,  0.        , -0.26726124],\n",
              "       [-1.22474487,  1.22474487, -1.06904497]])"
            ]
          },
          "metadata": {
            "tags": []
          },
          "execution_count": 77
        }
      ]
    },
    {
      "metadata": {
        "id": "oCczFqqeHywc",
        "colab_type": "code",
        "outputId": "21b74f5f-db68-4625-c09c-4f747cf5a622",
        "colab": {
          "base_uri": "https://localhost:8080/",
          "height": 34
        }
      },
      "cell_type": "code",
      "source": [
        "X_test = [[-1., 1., 0]]\n",
        "scaler.transform(X_test)"
      ],
      "execution_count": 0,
      "outputs": [
        {
          "output_type": "execute_result",
          "data": {
            "text/plain": [
              "array([[-2.44948974,  1.22474487, -0.26726124]])"
            ]
          },
          "metadata": {
            "tags": []
          },
          "execution_count": 78
        }
      ]
    },
    {
      "metadata": {
        "id": "NXeaB9EGH6uv",
        "colab_type": "code",
        "colab": {}
      },
      "cell_type": "code",
      "source": [
        ""
      ],
      "execution_count": 0,
      "outputs": []
    },
    {
      "metadata": {
        "id": "x-idacNUFszx",
        "colab_type": "text"
      },
      "cell_type": "markdown",
      "source": [
        "### Normalization / Scaling features to a range\n",
        "Sometimes we need to scale a numeric feature to a fixed interval, such as [0,1] (MinMaxScaler).\n",
        "\n",
        "$$ x \\to \\frac{x-{min}}{{max}-{min}}$$\n",
        "\n",
        "1. Some learning algorithms need features to be scaled. Recall that kNN algorithm needs features to be relatively of the same size.\n",
        "2. Optimization algorithms, such as gradient descent, may need features to be relatively of the same size. Suppose feature $x$ is in the range [0, 10000] and feature $y$ is in the range [0, 0.0001], then updates in gradient descent will dominated by the larger feature.\n",
        "\n",
        "\n",
        "\n",
        "\n"
      ]
    },
    {
      "metadata": {
        "id": "u4Q4okFeE9mU",
        "colab_type": "code",
        "outputId": "bde0baec-37c2-4cd8-bacb-d1b059b4a3e6",
        "colab": {
          "base_uri": "https://localhost:8080/",
          "height": 68
        }
      },
      "cell_type": "code",
      "source": [
        "X_train"
      ],
      "execution_count": 0,
      "outputs": [
        {
          "output_type": "execute_result",
          "data": {
            "text/plain": [
              "array([[ 1., -1.,  2.],\n",
              "       [ 2.,  0.,  0.],\n",
              "       [ 0.,  1., -1.]])"
            ]
          },
          "metadata": {
            "tags": []
          },
          "execution_count": 79
        }
      ]
    },
    {
      "metadata": {
        "id": "n_YCMvvcJ6uL",
        "colab_type": "code",
        "colab": {}
      },
      "cell_type": "code",
      "source": [
        "min_max_scaler = preprocessing.MinMaxScaler()"
      ],
      "execution_count": 0,
      "outputs": []
    },
    {
      "metadata": {
        "id": "XE8wfSv8J_AV",
        "colab_type": "code",
        "colab": {}
      },
      "cell_type": "code",
      "source": [
        "X_train_minmax = min_max_scaler.fit_transform(X_train)"
      ],
      "execution_count": 0,
      "outputs": []
    },
    {
      "metadata": {
        "id": "_JbV1leQKD3i",
        "colab_type": "code",
        "outputId": "d361d9cb-3ef3-4a8d-c3ac-caeb6c1a9b47",
        "colab": {
          "base_uri": "https://localhost:8080/",
          "height": 68
        }
      },
      "cell_type": "code",
      "source": [
        "X_train_minmax"
      ],
      "execution_count": 0,
      "outputs": [
        {
          "output_type": "execute_result",
          "data": {
            "text/plain": [
              "array([[0.5       , 0.        , 1.        ],\n",
              "       [1.        , 0.5       , 0.33333333],\n",
              "       [0.        , 1.        , 0.        ]])"
            ]
          },
          "metadata": {
            "tags": []
          },
          "execution_count": 82
        }
      ]
    },
    {
      "metadata": {
        "id": "8xFRwoaEKFjT",
        "colab_type": "code",
        "outputId": "48bc1d6c-2612-4561-a045-325fdadbe1e3",
        "colab": {
          "base_uri": "https://localhost:8080/",
          "height": 34
        }
      },
      "cell_type": "code",
      "source": [
        "X_test = [[-3., -1., 4]]\n",
        "min_max_scaler.transform(X_test)"
      ],
      "execution_count": 0,
      "outputs": [
        {
          "output_type": "execute_result",
          "data": {
            "text/plain": [
              "array([[-1.5       ,  0.        ,  1.66666667]])"
            ]
          },
          "metadata": {
            "tags": []
          },
          "execution_count": 83
        }
      ]
    },
    {
      "metadata": {
        "id": "5_yxIreSKP8E",
        "colab_type": "code",
        "outputId": "2093dbdb-0d84-4772-e717-77ae8126b0e8",
        "colab": {
          "base_uri": "https://localhost:8080/",
          "height": 34
        }
      },
      "cell_type": "code",
      "source": [
        "min_max_scaler.scale_"
      ],
      "execution_count": 0,
      "outputs": [
        {
          "output_type": "execute_result",
          "data": {
            "text/plain": [
              "array([0.5       , 0.5       , 0.33333333])"
            ]
          },
          "metadata": {
            "tags": []
          },
          "execution_count": 84
        }
      ]
    },
    {
      "metadata": {
        "id": "bUQqZ04PKZSf",
        "colab_type": "code",
        "outputId": "0d4ec55a-d8be-4947-cd12-6680f5607b7e",
        "colab": {
          "base_uri": "https://localhost:8080/",
          "height": 34
        }
      },
      "cell_type": "code",
      "source": [
        "min_max_scaler.min_"
      ],
      "execution_count": 0,
      "outputs": [
        {
          "output_type": "execute_result",
          "data": {
            "text/plain": [
              "array([0.        , 0.5       , 0.33333333])"
            ]
          },
          "metadata": {
            "tags": []
          },
          "execution_count": 85
        }
      ]
    },
    {
      "metadata": {
        "id": "6LWNdxKhN3I2",
        "colab_type": "text"
      },
      "cell_type": "markdown",
      "source": [
        "### Rules of thumb: Standardization vs Scaling\n",
        "\n",
        "Standardization is preferred \n",
        "* if the feature is close to being normally distributed (bell-curve)\n",
        "* if the feature has extremely high or extremely low values (outliers)\n",
        "* for unsupervised learning algorithms."
      ]
    },
    {
      "metadata": {
        "id": "N0D-97YyKcmH",
        "colab_type": "text"
      },
      "cell_type": "markdown",
      "source": [
        "## Dealing with Missing Features\n",
        "\n",
        "It is very typical that some examples in the dataset do not contain information about some features.\n",
        "\n",
        "Typical approaches to dealing with missing vaues for a feature include\n",
        "\n",
        "* remove the examples with missing features\n",
        "* use a learning algorithm that can deal with missing feature values\n",
        "* **impute** the data."
      ]
    },
    {
      "metadata": {
        "id": "xWR6QGqYOnBt",
        "colab_type": "text"
      },
      "cell_type": "markdown",
      "source": [
        "### Imputation Techniques\n",
        "\n",
        "* Replace a missing feature with the average of feature values (SimpleImputer).\n",
        "* Set the missing value outside the range (=[0,1])).\n",
        "* Set the missing value as the middle of the range (=[-1,1]).\n",
        "* Set up a regression problem to estimate the values of the missing features.\n",
        "* Add a binary identifier to signal a missing feature (MissingIndicator).\n",
        "\n",
        "**Must use the same imputation technique** at prediction time.\n",
        "\n",
        "For more, see\n",
        "https://scikit-learn.org/stable/modules/impute.html#impute"
      ]
    },
    {
      "metadata": {
        "id": "xt1vzLJlQ8wD",
        "colab_type": "code",
        "outputId": "9fbead22-a3fb-4519-a68f-c745f0219db6",
        "colab": {
          "base_uri": "https://localhost:8080/",
          "height": 68
        }
      },
      "cell_type": "code",
      "source": [
        "from sklearn.impute import SimpleImputer\n",
        "imp = SimpleImputer(missing_values=np.nan, strategy='mean')\n",
        "X_train = np.array([[1, 2], [np.nan, 3], [7, 6]])\n",
        "imp.fit(X_train)  \n",
        "X = np.array([[np.nan, 2], [6, np.nan], [7, 6]])\n",
        "print(imp.transform(X))           "
      ],
      "execution_count": 0,
      "outputs": [
        {
          "output_type": "stream",
          "text": [
            "[[4.         2.        ]\n",
            " [6.         3.66666667]\n",
            " [7.         6.        ]]\n"
          ],
          "name": "stdout"
        }
      ]
    },
    {
      "metadata": {
        "id": "txruE3dFQ9UI",
        "colab_type": "code",
        "outputId": "d2cb5bed-4a0f-40ea-e124-1fbff411277c",
        "colab": {
          "base_uri": "https://localhost:8080/",
          "height": 68
        }
      },
      "cell_type": "code",
      "source": [
        "print(X_train)"
      ],
      "execution_count": 0,
      "outputs": [
        {
          "output_type": "stream",
          "text": [
            "[[ 1.  2.]\n",
            " [nan  3.]\n",
            " [ 7.  6.]]\n"
          ],
          "name": "stdout"
        }
      ]
    },
    {
      "metadata": {
        "id": "v3zdGi9rsWJf",
        "colab_type": "code",
        "outputId": "af91341c-6b6a-4fa9-d563-8136e843d752",
        "colab": {
          "base_uri": "https://localhost:8080/",
          "height": 68
        }
      },
      "cell_type": "code",
      "source": [
        "print(X)"
      ],
      "execution_count": 0,
      "outputs": [
        {
          "output_type": "stream",
          "text": [
            "[[nan  2.]\n",
            " [ 6. nan]\n",
            " [ 7.  6.]]\n"
          ],
          "name": "stdout"
        }
      ]
    },
    {
      "metadata": {
        "id": "Ufx3tSgDsdRt",
        "colab_type": "code",
        "outputId": "1cd9791b-0c90-4d54-858d-34e3b2b3b7df",
        "colab": {
          "base_uri": "https://localhost:8080/",
          "height": 68
        }
      },
      "cell_type": "code",
      "source": [
        "print(imp.transform(X))"
      ],
      "execution_count": 0,
      "outputs": [
        {
          "output_type": "stream",
          "text": [
            "[[4.         2.        ]\n",
            " [6.         3.66666667]\n",
            " [7.         6.        ]]\n"
          ],
          "name": "stdout"
        }
      ]
    },
    {
      "metadata": {
        "id": "ZA-drFThSZnq",
        "colab_type": "text"
      },
      "cell_type": "markdown",
      "source": [
        "## Model Performance Assessment\n"
      ]
    },
    {
      "metadata": {
        "id": "MqGvDl9ESq_c",
        "colab_type": "text"
      },
      "cell_type": "markdown",
      "source": [
        "### Regression\n",
        "\n",
        "For a given output, **mean model** estimates the output as the average of training labels.\n",
        "\n",
        "We typically compare *Mean Squared Error* (MSE), or *Root Mean Squared Error* (RMSE)."
      ]
    },
    {
      "metadata": {
        "id": "b7unCSchRHEF",
        "colab_type": "text"
      },
      "cell_type": "markdown",
      "source": [
        "## Classification\n",
        "\n",
        "Widely used metrics are\n",
        "* Confusion matrix\n",
        "* Accuracy\n",
        "* Cost-sensitive accuracy\n",
        "* Precision/recall\n",
        "* Area under the ROC curve (AUC)"
      ]
    },
    {
      "metadata": {
        "id": "RyGvW5GrTyGm",
        "colab_type": "text"
      },
      "cell_type": "markdown",
      "source": [
        "#### Confusion matrix"
      ]
    },
    {
      "metadata": {
        "id": "lnl7232_Umhf",
        "colab_type": "code",
        "colab": {}
      },
      "cell_type": "code",
      "source": [
        "import matplotlib.pyplot as plt\n",
        "from sklearn.utils.multiclass import unique_labels\n",
        "\n",
        "def plot_confusion_matrix(y_true, y_pred, classes,\n",
        "                          normalize=False,\n",
        "                          title=None,\n",
        "                          cmap=plt.cm.Blues):\n",
        "    \"\"\"\n",
        "    This function prints and plots the confusion matrix.\n",
        "    Normalization can be applied by setting `normalize=True`.\n",
        "    \"\"\"\n",
        "    if not title:\n",
        "        if normalize:\n",
        "            title = 'Normalized confusion matrix'\n",
        "        else:\n",
        "            title = 'Confusion matrix, without normalization'\n",
        "\n",
        "    # Compute confusion matrix\n",
        "    cm = confusion_matrix(y_true, y_pred)\n",
        "    # Only use the labels that appear in the data\n",
        "    classes = classes[unique_labels(y_true, y_pred)]\n",
        "    if normalize:\n",
        "        cm = cm.astype('float') / cm.sum(axis=1)[:, np.newaxis]\n",
        "        print(\"Normalized confusion matrix\")\n",
        "    else:\n",
        "        print('Confusion matrix, without normalization')\n",
        "\n",
        "    print(cm)\n",
        "\n",
        "    fig, ax = plt.subplots()\n",
        "    im = ax.imshow(cm, interpolation='nearest', cmap=cmap)\n",
        "    ax.figure.colorbar(im, ax=ax)\n",
        "    # We want to show all ticks...\n",
        "    ax.set(xticks=np.arange(cm.shape[1]),\n",
        "           yticks=np.arange(cm.shape[0]),\n",
        "           # ... and label them with the respective list entries\n",
        "           xticklabels=classes, yticklabels=classes,\n",
        "           title=title,\n",
        "           ylabel='True label',\n",
        "           xlabel='Predicted label')\n",
        "\n",
        "    # Rotate the tick labels and set their alignment.\n",
        "    plt.setp(ax.get_xticklabels(), rotation=45, ha=\"right\",\n",
        "             rotation_mode=\"anchor\")\n",
        "\n",
        "    # Loop over data dimensions and create text annotations.\n",
        "    fmt = '.2f' if normalize else 'd'\n",
        "    thresh = cm.max() / 2.\n",
        "    for i in range(cm.shape[0]):\n",
        "        for j in range(cm.shape[1]):\n",
        "            ax.text(j, i, format(cm[i, j], fmt),\n",
        "                    ha=\"center\", va=\"center\",\n",
        "                    color=\"white\" if cm[i, j] > thresh else \"black\")\n",
        "    fig.tight_layout()\n",
        "    return ax"
      ],
      "execution_count": 0,
      "outputs": []
    },
    {
      "metadata": {
        "id": "eR7emT3gRWCq",
        "colab_type": "code",
        "outputId": "17023d09-ac6b-42c6-fb20-edac72ebd78c",
        "colab": {
          "base_uri": "https://localhost:8080/",
          "height": 68
        }
      },
      "cell_type": "code",
      "source": [
        "from sklearn.metrics import confusion_matrix\n",
        "\n",
        "\n",
        "y_true = [2, 0, 2, 2, 0, 1]\n",
        "y_pred = [0, 0, 2, 2, 0, 2]\n",
        "confusion_matrix(y_true, y_pred)\n"
      ],
      "execution_count": 0,
      "outputs": [
        {
          "output_type": "execute_result",
          "data": {
            "text/plain": [
              "array([[2, 0, 0],\n",
              "       [0, 0, 1],\n",
              "       [1, 0, 2]])"
            ]
          },
          "metadata": {
            "tags": []
          },
          "execution_count": 92
        }
      ]
    },
    {
      "metadata": {
        "id": "3HOGt9E6Vb63",
        "colab_type": "text"
      },
      "cell_type": "markdown",
      "source": [
        "| |spam (predicted)|not_spam (predicted)|\n",
        "|-|---------|----------------|\n",
        "|spam (actual)| 23 (TP)| 1 (FN)|\n",
        "|not_spam (actual)| 12 (FP)| 556 (TN)|\n"
      ]
    },
    {
      "metadata": {
        "id": "N4BSMtULWnGP",
        "colab_type": "text"
      },
      "cell_type": "markdown",
      "source": [
        "### Precision/Recall\n",
        "\n",
        "\\begin{align}\n",
        "\\text{precision} &= \\frac{\\text{TP}}{\\text{TP+FP}} \\\\\n",
        "\\\\\n",
        "\\\\\n",
        "\\text{recall} &= \\frac{\\text{TP}}{\\text{TP+FN}}\n",
        "\\end{align}\n",
        "\n"
      ]
    },
    {
      "metadata": {
        "id": "vUWSw3WNWsI_",
        "colab_type": "text"
      },
      "cell_type": "markdown",
      "source": [
        "[https://en.wikipedia.org/wiki/Precision_and_recall#/media/File:Precisionrecall.svg](https://en.wikipedia.org/wiki/Precision_and_recall#/media/File:Precisionrecall.svg)"
      ]
    },
    {
      "metadata": {
        "id": "WFVaC3JdX0mu",
        "colab_type": "text"
      },
      "cell_type": "markdown",
      "source": [
        "Precision = Ratio of correct positive predictions to all positive predictions\n",
        "\n",
        "Recall = Ratio of correct positive predictions to all positive examples\n",
        "\n",
        "In DB query,\n",
        "\n",
        "Precision = ratio of relevant documents among all returned documents\n",
        "\n",
        "Recall = ratio of relevant documents returned to all relevant documents.\n"
      ]
    },
    {
      "metadata": {
        "id": "YsB9RrNVZHlS",
        "colab_type": "text"
      },
      "cell_type": "markdown",
      "source": [
        "### Accuracy\n",
        "\n",
        "\\begin{align}\n",
        "\\text{accuracy} &= \\frac{\\text{TP+TN}}{\\text{TP+TN+FP+FN}} \\\\\n",
        "\\end{align}\n",
        "\n",
        "Accuracy is useful when errors in predicting all classes are equally important.\n",
        "\n",
        "In spam, we tolerate false negatives (a spam message not marked as spam) more than false positives (a friend's email marked as spam)."
      ]
    },
    {
      "metadata": {
        "id": "MeGnYInjbddY",
        "colab_type": "text"
      },
      "cell_type": "markdown",
      "source": [
        "### Cost-Sensitive Accuracy\n",
        "\n",
        "Assign a number to FP and FN. Compute Accuracy this way."
      ]
    },
    {
      "metadata": {
        "id": "tJEVYMv2bfmF",
        "colab_type": "text"
      },
      "cell_type": "markdown",
      "source": [
        "### Area under the ROC curve (AUC)\n",
        "\n",
        "\\begin{align}\n",
        "\\text{TPR} &= \\frac{\\text{TP}}{\\text{TP+FN}} \\\\\n",
        "\\\\\n",
        "\\\\\n",
        "\\text{FPR} &= \\frac{\\text{FP}}{\\text{FP+TN}}\n",
        "\\end{align}\n",
        "\n",
        "ROC curves can be only used with confidence scores.\n",
        "\n",
        "If the range is [0,1], discretize the interval, such as [0, 0.1, 0.2, 0.3, 0.4, 0.5, 0.6, 0.7, 0.8, 0.9, 1].\n",
        "\n",
        "For each T in [0, 0.1, 0.2, 0.3, 0.4, 0.5, 0.6, 0.7, 0.8, 0.9, 1]\n",
        "1. Set a threshold T. \n",
        "2. Compute TPR and FPR. \n",
        "3. Mark the point (FPR, TPR) on the graph .\n",
        "\n",
        "\n",
        "\n",
        "See https://scikit-learn.org/stable/auto_examples/model_selection/plot_roc_crossval.html#sphx-glr-auto-examples-model-selection-plot-roc-crossval-py"
      ]
    },
    {
      "metadata": {
        "id": "BtHyjwAIbcKs",
        "colab_type": "code",
        "colab": {}
      },
      "cell_type": "code",
      "source": [
        ""
      ],
      "execution_count": 0,
      "outputs": []
    }
  ]
}