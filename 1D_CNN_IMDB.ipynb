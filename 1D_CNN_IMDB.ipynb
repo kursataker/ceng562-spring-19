{
  "nbformat": 4,
  "nbformat_minor": 0,
  "metadata": {
    "colab": {
      "name": "1D_CNN_IMDB.ipynb",
      "version": "0.3.2",
      "provenance": [],
      "include_colab_link": true
    },
    "kernelspec": {
      "name": "python3",
      "display_name": "Python 3"
    },
    "accelerator": "TPU"
  },
  "cells": [
    {
      "cell_type": "markdown",
      "metadata": {
        "id": "view-in-github",
        "colab_type": "text"
      },
      "source": [
        "<a href=\"https://colab.research.google.com/github/kursataker/cng562-machine-learning-spring-19/blob/master/1D_CNN_IMDB.ipynb\" target=\"_parent\"><img src=\"https://colab.research.google.com/assets/colab-badge.svg\" alt=\"Open In Colab\"/></a>"
      ]
    },
    {
      "cell_type": "markdown",
      "metadata": {
        "id": "uobGvrGW9wVy",
        "colab_type": "text"
      },
      "source": [
        "**Ref:** https://medium.com/@jon.froiland/convolutional-neural-networks-for-sequence-processing-part-1-420dd9b500"
      ]
    },
    {
      "cell_type": "code",
      "metadata": {
        "id": "54ElX87e_QbN",
        "colab_type": "code",
        "colab": {}
      },
      "source": [
        "# !pip install numpy==1.16.1\n",
        "#import numpy as np"
      ],
      "execution_count": 0,
      "outputs": []
    },
    {
      "cell_type": "code",
      "metadata": {
        "id": "fp5_BcNJ-99_",
        "colab_type": "code",
        "outputId": "70773ffc-8888-4824-9b00-d25f986004cc",
        "colab": {
          "base_uri": "https://localhost:8080/",
          "height": 34
        }
      },
      "source": [
        "import keras\n",
        "import numpy as np"
      ],
      "execution_count": 0,
      "outputs": [
        {
          "output_type": "stream",
          "text": [
            "Using TensorFlow backend.\n"
          ],
          "name": "stderr"
        }
      ]
    },
    {
      "cell_type": "code",
      "metadata": {
        "id": "5POso5R7_NJJ",
        "colab_type": "code",
        "outputId": "5b55fa24-d38f-46d2-e165-2c6965fa7229",
        "colab": {
          "base_uri": "https://localhost:8080/",
          "height": 34
        }
      },
      "source": [
        "np.__version__"
      ],
      "execution_count": 0,
      "outputs": [
        {
          "output_type": "execute_result",
          "data": {
            "text/plain": [
              "'1.16.1'"
            ]
          },
          "metadata": {
            "tags": []
          },
          "execution_count": 2
        }
      ]
    },
    {
      "cell_type": "code",
      "metadata": {
        "id": "JNMZvg34-_dz",
        "colab_type": "code",
        "outputId": "f6c584ae-4cee-49db-abf6-c311c5931dce",
        "colab": {
          "base_uri": "https://localhost:8080/",
          "height": 34
        }
      },
      "source": [
        "keras.__version__"
      ],
      "execution_count": 0,
      "outputs": [
        {
          "output_type": "execute_result",
          "data": {
            "text/plain": [
              "'2.2.4'"
            ]
          },
          "metadata": {
            "tags": []
          },
          "execution_count": 4
        }
      ]
    },
    {
      "cell_type": "code",
      "metadata": {
        "id": "bqfq5w6A-Emp",
        "colab_type": "code",
        "outputId": "46a639fc-db91-4a16-f272-57c2f364f40b",
        "colab": {
          "base_uri": "https://localhost:8080/",
          "height": 118
        }
      },
      "source": [
        "from keras.datasets import imdb\n",
        "from keras.preprocessing import sequence\n",
        "max_features = 10000\n",
        "max_len = 500\n",
        "print('Loading data...')\n",
        "(x_train, y_train), (x_test, y_test) = imdb.load_data(num_words=max_features)\n",
        "print(len(x_train), 'train sequences')\n",
        "print(len(x_test), 'test sequences')\n",
        "print('Pad sequences (samples x time)')\n",
        "x_train = sequence.pad_sequences(x_train, maxlen=max_len)\n",
        "x_test = sequence.pad_sequences(x_test, maxlen=max_len)\n",
        "print('x_train shape:', x_train.shape)\n",
        "print('x_test shape:', x_test.shape)"
      ],
      "execution_count": 0,
      "outputs": [
        {
          "output_type": "stream",
          "text": [
            "Loading data...\n",
            "25000 train sequences\n",
            "25000 test sequences\n",
            "Pad sequences (samples x time)\n",
            "x_train shape: (25000, 500)\n",
            "x_test shape: (25000, 500)\n"
          ],
          "name": "stdout"
        }
      ]
    },
    {
      "cell_type": "code",
      "metadata": {
        "id": "NtyloSUwEcCt",
        "colab_type": "code",
        "outputId": "c1e8f896-8600-481b-86e3-cf66fd41176b",
        "colab": {
          "base_uri": "https://localhost:8080/",
          "height": 790
        }
      },
      "source": [
        "x_train[0]"
      ],
      "execution_count": 0,
      "outputs": [
        {
          "output_type": "execute_result",
          "data": {
            "text/plain": [
              "array([   0,    0,    0,    0,    0,    0,    0,    0,    0,    0,    0,\n",
              "          0,    0,    0,    0,    0,    0,    0,    0,    0,    0,    0,\n",
              "          0,    0,    0,    0,    0,    0,    0,    0,    0,    0,    0,\n",
              "          0,    0,    0,    0,    0,    0,    0,    0,    0,    0,    0,\n",
              "          0,    0,    0,    0,    0,    0,    0,    0,    0,    0,    0,\n",
              "          0,    0,    0,    0,    0,    0,    0,    0,    0,    0,    0,\n",
              "          0,    0,    0,    0,    0,    0,    0,    0,    0,    0,    0,\n",
              "          0,    0,    0,    0,    0,    0,    0,    0,    0,    0,    0,\n",
              "          0,    0,    0,    0,    0,    0,    0,    0,    0,    0,    0,\n",
              "          0,    0,    0,    0,    0,    0,    0,    0,    0,    0,    0,\n",
              "          0,    0,    0,    0,    0,    0,    0,    0,    0,    0,    0,\n",
              "          0,    0,    0,    0,    0,    0,    0,    0,    0,    0,    0,\n",
              "          0,    0,    0,    0,    0,    0,    0,    0,    0,    0,    0,\n",
              "          0,    0,    0,    0,    0,    0,    0,    0,    0,    0,    0,\n",
              "          0,    0,    0,    0,    0,    0,    0,    0,    0,    0,    0,\n",
              "          0,    0,    0,    0,    0,    0,    0,    0,    0,    0,    0,\n",
              "          0,    0,    0,    0,    0,    0,    0,    0,    0,    0,    0,\n",
              "          0,    0,    0,    0,    0,    0,    0,    0,    0,    0,    0,\n",
              "          0,    0,    0,    0,    0,    0,    0,    0,    0,    0,    0,\n",
              "          0,    0,    0,    0,    0,    0,    0,    0,    0,    0,    0,\n",
              "          0,    0,    0,    0,    0,    0,    0,    0,    0,    0,    0,\n",
              "          0,    0,    0,    0,    0,    0,    0,    0,    0,    0,    0,\n",
              "          0,    0,    0,    0,    0,    0,    0,    0,    0,    0,    0,\n",
              "          0,    0,    0,    0,    0,    0,    0,    0,    0,    0,    0,\n",
              "          0,    0,    0,    0,    0,    0,    0,    0,    0,    0,    0,\n",
              "          0,    0,    0,    0,    0,    0,    0,    1,   14,   22,   16,\n",
              "         43,  530,  973, 1622, 1385,   65,  458, 4468,   66, 3941,    4,\n",
              "        173,   36,  256,    5,   25,  100,   43,  838,  112,   50,  670,\n",
              "          2,    9,   35,  480,  284,    5,  150,    4,  172,  112,  167,\n",
              "          2,  336,  385,   39,    4,  172, 4536, 1111,   17,  546,   38,\n",
              "         13,  447,    4,  192,   50,   16,    6,  147, 2025,   19,   14,\n",
              "         22,    4, 1920, 4613,  469,    4,   22,   71,   87,   12,   16,\n",
              "         43,  530,   38,   76,   15,   13, 1247,    4,   22,   17,  515,\n",
              "         17,   12,   16,  626,   18,    2,    5,   62,  386,   12,    8,\n",
              "        316,    8,  106,    5,    4, 2223, 5244,   16,  480,   66, 3785,\n",
              "         33,    4,  130,   12,   16,   38,  619,    5,   25,  124,   51,\n",
              "         36,  135,   48,   25, 1415,   33,    6,   22,   12,  215,   28,\n",
              "         77,   52,    5,   14,  407,   16,   82,    2,    8,    4,  107,\n",
              "        117, 5952,   15,  256,    4,    2,    7, 3766,    5,  723,   36,\n",
              "         71,   43,  530,  476,   26,  400,  317,   46,    7,    4,    2,\n",
              "       1029,   13,  104,   88,    4,  381,   15,  297,   98,   32, 2071,\n",
              "         56,   26,  141,    6,  194, 7486,   18,    4,  226,   22,   21,\n",
              "        134,  476,   26,  480,    5,  144,   30, 5535,   18,   51,   36,\n",
              "         28,  224,   92,   25,  104,    4,  226,   65,   16,   38, 1334,\n",
              "         88,   12,   16,  283,    5,   16, 4472,  113,  103,   32,   15,\n",
              "         16, 5345,   19,  178,   32], dtype=int32)"
            ]
          },
          "metadata": {
            "tags": []
          },
          "execution_count": 12
        }
      ]
    },
    {
      "cell_type": "code",
      "metadata": {
        "id": "9cMvaf64EdXr",
        "colab_type": "code",
        "outputId": "cdfd3dba-a2d3-48d1-cb7e-43c8ad48a9e2",
        "colab": {
          "base_uri": "https://localhost:8080/",
          "height": 34
        }
      },
      "source": [
        "y_train"
      ],
      "execution_count": 0,
      "outputs": [
        {
          "output_type": "execute_result",
          "data": {
            "text/plain": [
              "array([1, 0, 0, ..., 0, 1, 0])"
            ]
          },
          "metadata": {
            "tags": []
          },
          "execution_count": 13
        }
      ]
    },
    {
      "cell_type": "code",
      "metadata": {
        "id": "Xeja-Zsr-Wjx",
        "colab_type": "code",
        "outputId": "d472e941-1db3-4f8d-9ae8-df9b1e4013f0",
        "colab": {
          "base_uri": "https://localhost:8080/",
          "height": 860
        }
      },
      "source": [
        "from keras.models import Sequential\n",
        "from keras import layers\n",
        "from keras.optimizers import RMSprop\n",
        "model = Sequential()\n",
        "model.add(layers.Embedding(max_features, 128, input_length=max_len))\n",
        "model.add(layers.Conv1D(32, 7, activation='relu'))\n",
        "model.add(layers.MaxPooling1D(5))\n",
        "model.add(layers.Conv1D(32, 7, activation='relu'))\n",
        "model.add(layers.GlobalMaxPooling1D())\n",
        "model.add(layers.Dense(1))\n",
        "model.summary()\n",
        "model.compile(optimizer=RMSprop(lr=1e-4),\n",
        "              loss='binary_crossentropy',\n",
        "              metrics=['acc'])\n",
        "history = model.fit(x_train, y_train,\n",
        "                    epochs=10,\n",
        "                    batch_size=128,\n",
        "                    validation_split=0.2)"
      ],
      "execution_count": 0,
      "outputs": [
        {
          "output_type": "stream",
          "text": [
            "WARNING:tensorflow:From /usr/local/lib/python3.6/dist-packages/tensorflow/python/framework/op_def_library.py:263: colocate_with (from tensorflow.python.framework.ops) is deprecated and will be removed in a future version.\n",
            "Instructions for updating:\n",
            "Colocations handled automatically by placer.\n",
            "_________________________________________________________________\n",
            "Layer (type)                 Output Shape              Param #   \n",
            "=================================================================\n",
            "embedding_1 (Embedding)      (None, 500, 128)          1280000   \n",
            "_________________________________________________________________\n",
            "conv1d_1 (Conv1D)            (None, 494, 32)           28704     \n",
            "_________________________________________________________________\n",
            "max_pooling1d_1 (MaxPooling1 (None, 98, 32)            0         \n",
            "_________________________________________________________________\n",
            "conv1d_2 (Conv1D)            (None, 92, 32)            7200      \n",
            "_________________________________________________________________\n",
            "global_max_pooling1d_1 (Glob (None, 32)                0         \n",
            "_________________________________________________________________\n",
            "dense_1 (Dense)              (None, 1)                 33        \n",
            "=================================================================\n",
            "Total params: 1,315,937\n",
            "Trainable params: 1,315,937\n",
            "Non-trainable params: 0\n",
            "_________________________________________________________________\n",
            "WARNING:tensorflow:From /usr/local/lib/python3.6/dist-packages/tensorflow/python/ops/math_ops.py:3066: to_int32 (from tensorflow.python.ops.math_ops) is deprecated and will be removed in a future version.\n",
            "Instructions for updating:\n",
            "Use tf.cast instead.\n",
            "WARNING:tensorflow:From /usr/local/lib/python3.6/dist-packages/tensorflow/python/ops/math_grad.py:102: div (from tensorflow.python.ops.math_ops) is deprecated and will be removed in a future version.\n",
            "Instructions for updating:\n",
            "Deprecated in favor of operator or tf.math.divide.\n",
            "Train on 20000 samples, validate on 5000 samples\n",
            "Epoch 1/10\n",
            "20000/20000 [==============================] - 79s 4ms/step - loss: 0.8337 - acc: 0.5094 - val_loss: 0.6874 - val_acc: 0.5652\n",
            "Epoch 2/10\n",
            "20000/20000 [==============================] - 80s 4ms/step - loss: 0.6699 - acc: 0.6387 - val_loss: 0.6641 - val_acc: 0.6584\n",
            "Epoch 3/10\n",
            "20000/20000 [==============================] - 79s 4ms/step - loss: 0.6235 - acc: 0.7534 - val_loss: 0.6080 - val_acc: 0.7440\n",
            "Epoch 4/10\n",
            "20000/20000 [==============================] - 79s 4ms/step - loss: 0.5257 - acc: 0.8080 - val_loss: 0.4826 - val_acc: 0.8062\n",
            "Epoch 5/10\n",
            "20000/20000 [==============================] - 79s 4ms/step - loss: 0.4149 - acc: 0.8469 - val_loss: 0.4309 - val_acc: 0.8310\n",
            "Epoch 6/10\n",
            "20000/20000 [==============================] - 79s 4ms/step - loss: 0.3523 - acc: 0.8679 - val_loss: 0.4161 - val_acc: 0.8350\n",
            "Epoch 7/10\n",
            "20000/20000 [==============================] - 79s 4ms/step - loss: 0.3100 - acc: 0.8651 - val_loss: 0.4504 - val_acc: 0.8200\n",
            "Epoch 8/10\n",
            "20000/20000 [==============================] - 80s 4ms/step - loss: 0.2794 - acc: 0.8549 - val_loss: 0.4212 - val_acc: 0.8098\n",
            "Epoch 9/10\n",
            "20000/20000 [==============================] - 80s 4ms/step - loss: 0.2537 - acc: 0.8405 - val_loss: 0.4388 - val_acc: 0.7936\n",
            "Epoch 10/10\n",
            "20000/20000 [==============================] - 80s 4ms/step - loss: 0.2307 - acc: 0.8158 - val_loss: 0.4923 - val_acc: 0.7578\n"
          ],
          "name": "stdout"
        }
      ]
    },
    {
      "cell_type": "code",
      "metadata": {
        "id": "41XBtuVP_6I6",
        "colab_type": "code",
        "outputId": "1031281c-0c56-4c51-c95b-30563b5a18fe",
        "colab": {
          "base_uri": "https://localhost:8080/",
          "height": 295
        }
      },
      "source": [
        "import matplotlib.pyplot as plt\n",
        "# VALIDATION LOSS curves\n",
        "\n",
        "plt.clf()\n",
        "history_dict = history.history\n",
        "loss_values = history_dict['loss']\n",
        "val_loss_values = history_dict['val_loss']\n",
        "epochs = range(1, (len(history_dict['loss']) + 1))\n",
        "plt.plot(epochs, loss_values, 'bo', label='Training loss')\n",
        "plt.plot(epochs, val_loss_values, 'b', label='Validation loss')\n",
        "plt.title('Training and validation loss')\n",
        "plt.xlabel('Epochs')\n",
        "plt.ylabel('Loss')\n",
        "plt.legend()\n",
        "plt.show()"
      ],
      "execution_count": 0,
      "outputs": [
        {
          "output_type": "display_data",
          "data": {
            "image/png": "[encoded data removed]",
            "text/plain": [
              "<Figure size 432x288 with 1 Axes>"
            ]
          },
          "metadata": {
            "tags": []
          }
        }
      ]
    },
    {
      "cell_type": "code",
      "metadata": {
        "id": "LPSVvjlTD0ID",
        "colab_type": "code",
        "outputId": "4dcef20c-c8e2-4a5f-b040-1ff9f177eb0f",
        "colab": {
          "base_uri": "https://localhost:8080/",
          "height": 295
        }
      },
      "source": [
        "# VALIDATION ACCURACY curves\n",
        "\n",
        "plt.clf()\n",
        "acc_values = history_dict['acc']\n",
        "val_acc_values = history_dict['val_acc']\n",
        "epochs = range(1, (len(history_dict['acc']) + 1))\n",
        "plt.plot(epochs, acc_values, 'bo', label='Training acc')\n",
        "plt.plot(epochs, val_acc_values, 'b', label='Validation acc')\n",
        "plt.title('Training and validation accuracy')\n",
        "plt.xlabel('Epochs')\n",
        "plt.ylabel('Accuracy')\n",
        "plt.legend()\n",
        "plt.show()"
      ],
      "execution_count": 0,
      "outputs": [
        {
          "output_type": "display_data",
          "data": {
            "image/png": "[encoded data removed]",
            "text/plain": [
              "<Figure size 432x288 with 1 Axes>"
            ]
          },
          "metadata": {
            "tags": []
          }
        }
      ]
    },
    {
      "cell_type": "code",
      "metadata": {
        "id": "rzQQcpYTEA4x",
        "colab_type": "code",
        "outputId": "c4d7906b-8100-465c-d37b-97c890557de5",
        "colab": {
          "base_uri": "https://localhost:8080/",
          "height": 790
        }
      },
      "source": [
        ""
      ],
      "execution_count": 0,
      "outputs": [
        {
          "output_type": "execute_result",
          "data": {
            "text/plain": [
              "array([   0,    0,    0,    0,    0,    0,    0,    0,    0,    0,    0,\n",
              "          0,    0,    0,    0,    0,    0,    0,    0,    0,    0,    0,\n",
              "          0,    0,    0,    0,    0,    0,    0,    0,    0,    0,    0,\n",
              "          0,    0,    0,    0,    0,    0,    0,    0,    0,    0,    0,\n",
              "          0,    0,    0,    0,    0,    0,    0,    0,    0,    0,    0,\n",
              "          0,    0,    0,    0,    0,    0,    0,    0,    0,    0,    0,\n",
              "          0,    0,    0,    0,    0,    0,    0,    0,    0,    0,    0,\n",
              "          0,    0,    0,    0,    0,    0,    0,    0,    0,    0,    0,\n",
              "          0,    0,    0,    0,    0,    0,    0,    0,    0,    0,    0,\n",
              "          0,    0,    0,    0,    0,    0,    0,    0,    0,    0,    0,\n",
              "          0,    0,    0,    0,    0,    0,    0,    0,    0,    0,    0,\n",
              "          0,    0,    0,    0,    0,    0,    0,    0,    0,    0,    0,\n",
              "          0,    0,    0,    0,    0,    0,    0,    0,    0,    0,    0,\n",
              "          0,    0,    0,    0,    0,    0,    0,    0,    0,    0,    0,\n",
              "          0,    0,    0,    0,    0,    0,    0,    0,    0,    0,    0,\n",
              "          0,    0,    0,    0,    0,    0,    0,    0,    0,    0,    0,\n",
              "          0,    0,    0,    0,    0,    0,    0,    0,    0,    0,    0,\n",
              "          0,    0,    0,    0,    0,    0,    0,    0,    0,    0,    0,\n",
              "          0,    0,    0,    0,    0,    0,    0,    0,    0,    0,    0,\n",
              "          0,    0,    0,    0,    0,    0,    0,    0,    0,    0,    0,\n",
              "          0,    0,    0,    0,    0,    0,    0,    0,    0,    0,    0,\n",
              "          0,    0,    0,    0,    0,    0,    0,    0,    0,    0,    0,\n",
              "          0,    0,    0,    0,    0,    0,    0,    0,    0,    0,    0,\n",
              "          0,    0,    0,    0,    0,    0,    0,    0,    0,    0,    0,\n",
              "          0,    0,    0,    0,    0,    0,    0,    0,    0,    0,    0,\n",
              "          0,    0,    0,    0,    0,    0,    0,    1,   14,   22,   16,\n",
              "         43,  530,  973, 1622, 1385,   65,  458, 4468,   66, 3941,    4,\n",
              "        173,   36,  256,    5,   25,  100,   43,  838,  112,   50,  670,\n",
              "          2,    9,   35,  480,  284,    5,  150,    4,  172,  112,  167,\n",
              "          2,  336,  385,   39,    4,  172, 4536, 1111,   17,  546,   38,\n",
              "         13,  447,    4,  192,   50,   16,    6,  147, 2025,   19,   14,\n",
              "         22,    4, 1920, 4613,  469,    4,   22,   71,   87,   12,   16,\n",
              "         43,  530,   38,   76,   15,   13, 1247,    4,   22,   17,  515,\n",
              "         17,   12,   16,  626,   18,    2,    5,   62,  386,   12,    8,\n",
              "        316,    8,  106,    5,    4, 2223, 5244,   16,  480,   66, 3785,\n",
              "         33,    4,  130,   12,   16,   38,  619,    5,   25,  124,   51,\n",
              "         36,  135,   48,   25, 1415,   33,    6,   22,   12,  215,   28,\n",
              "         77,   52,    5,   14,  407,   16,   82,    2,    8,    4,  107,\n",
              "        117, 5952,   15,  256,    4,    2,    7, 3766,    5,  723,   36,\n",
              "         71,   43,  530,  476,   26,  400,  317,   46,    7,    4,    2,\n",
              "       1029,   13,  104,   88,    4,  381,   15,  297,   98,   32, 2071,\n",
              "         56,   26,  141,    6,  194, 7486,   18,    4,  226,   22,   21,\n",
              "        134,  476,   26,  480,    5,  144,   30, 5535,   18,   51,   36,\n",
              "         28,  224,   92,   25,  104,    4,  226,   65,   16,   38, 1334,\n",
              "         88,   12,   16,  283,    5,   16, 4472,  113,  103,   32,   15,\n",
              "         16, 5345,   19,  178,   32], dtype=int32)"
            ]
          },
          "metadata": {
            "tags": []
          },
          "execution_count": 11
        }
      ]
    },
    {
      "cell_type": "code",
      "metadata": {
        "id": "ZW6xF2LJET6U",
        "colab_type": "code",
        "outputId": "c11d2b08-e2aa-4b3e-c055-557ec3060fa0",
        "colab": {
          "base_uri": "https://localhost:8080/",
          "height": 1394
        }
      },
      "source": [
        "from keras.models import Sequential\n",
        "from keras import layers\n",
        "from keras.optimizers import RMSprop\n",
        "model = Sequential()\n",
        "model.add(layers.Embedding(max_features, 128, input_length=max_len))\n",
        "model.add(layers.Conv1D(32, 7, activation='relu'))\n",
        "model.add(layers.MaxPooling1D(5))\n",
        "model.add(layers.BatchNormalization())\n",
        "model.add(layers.Conv1D(32, 7, activation='relu'))\n",
        "\n",
        "model.add(layers.GlobalMaxPooling1D())\n",
        "model.add(layers.Dense(1))\n",
        "model.summary()\n",
        "model.compile(optimizer=RMSprop(lr=1e-4),\n",
        "              loss='binary_crossentropy',\n",
        "              metrics=['acc'])\n",
        "history = model.fit(x_train, y_train,\n",
        "                    epochs=30,\n",
        "                    batch_size=128,\n",
        "                    validation_split=0.2)"
      ],
      "execution_count": 0,
      "outputs": [
        {
          "output_type": "stream",
          "text": [
            "_________________________________________________________________\n",
            "Layer (type)                 Output Shape              Param #   \n",
            "=================================================================\n",
            "embedding_4 (Embedding)      (None, 500, 128)          1280000   \n",
            "_________________________________________________________________\n",
            "conv1d_7 (Conv1D)            (None, 494, 32)           28704     \n",
            "_________________________________________________________________\n",
            "max_pooling1d_4 (MaxPooling1 (None, 98, 32)            0         \n",
            "_________________________________________________________________\n",
            "batch_normalization_4 (Batch (None, 98, 32)            128       \n",
            "_________________________________________________________________\n",
            "conv1d_8 (Conv1D)            (None, 92, 32)            7200      \n",
            "_________________________________________________________________\n",
            "global_max_pooling1d_4 (Glob (None, 32)                0         \n",
            "_________________________________________________________________\n",
            "dense_4 (Dense)              (None, 1)                 33        \n",
            "=================================================================\n",
            "Total params: 1,316,065\n",
            "Trainable params: 1,316,001\n",
            "Non-trainable params: 64\n",
            "_________________________________________________________________\n",
            "Train on 20000 samples, validate on 5000 samples\n",
            "Epoch 1/30\n",
            "20000/20000 [==============================] - 83s 4ms/step - loss: 8.0840 - acc: 0.0000e+00 - val_loss: 7.9591 - val_acc: 0.0000e+00\n",
            "Epoch 2/30\n",
            "20000/20000 [==============================] - 81s 4ms/step - loss: 8.0840 - acc: 0.0000e+00 - val_loss: 7.9591 - val_acc: 0.0000e+00\n",
            "Epoch 3/30\n",
            "20000/20000 [==============================] - 82s 4ms/step - loss: 8.0840 - acc: 0.0000e+00 - val_loss: 7.9591 - val_acc: 0.0000e+00\n",
            "Epoch 4/30\n",
            "20000/20000 [==============================] - 81s 4ms/step - loss: 8.0840 - acc: 0.0000e+00 - val_loss: 7.9591 - val_acc: 0.0000e+00\n",
            "Epoch 5/30\n",
            "20000/20000 [==============================] - 82s 4ms/step - loss: 8.0840 - acc: 0.0000e+00 - val_loss: 7.9591 - val_acc: 0.0000e+00\n",
            "Epoch 6/30\n",
            "20000/20000 [==============================] - 81s 4ms/step - loss: 8.0840 - acc: 0.0000e+00 - val_loss: 7.9591 - val_acc: 0.0000e+00\n",
            "Epoch 7/30\n",
            "20000/20000 [==============================] - 81s 4ms/step - loss: 8.0840 - acc: 0.0000e+00 - val_loss: 7.9591 - val_acc: 0.0000e+00\n",
            "Epoch 8/30\n",
            "20000/20000 [==============================] - 80s 4ms/step - loss: 8.0840 - acc: 0.0000e+00 - val_loss: 7.9591 - val_acc: 0.0000e+00\n",
            "Epoch 9/30\n",
            "20000/20000 [==============================] - 80s 4ms/step - loss: 8.0840 - acc: 0.0000e+00 - val_loss: 7.9591 - val_acc: 0.0000e+00\n",
            "Epoch 10/30\n",
            "20000/20000 [==============================] - 81s 4ms/step - loss: 8.0840 - acc: 0.0000e+00 - val_loss: 7.9591 - val_acc: 0.0000e+00\n",
            "Epoch 11/30\n",
            "20000/20000 [==============================] - 80s 4ms/step - loss: 8.0840 - acc: 0.0000e+00 - val_loss: 7.9591 - val_acc: 0.0000e+00\n",
            "Epoch 12/30\n",
            "20000/20000 [==============================] - 80s 4ms/step - loss: 8.0840 - acc: 0.0000e+00 - val_loss: 7.9591 - val_acc: 0.0000e+00\n",
            "Epoch 13/30\n",
            "20000/20000 [==============================] - 80s 4ms/step - loss: 8.0840 - acc: 0.0000e+00 - val_loss: 7.9591 - val_acc: 0.0000e+00\n",
            "Epoch 14/30\n",
            "20000/20000 [==============================] - 81s 4ms/step - loss: 8.0840 - acc: 0.0000e+00 - val_loss: 7.9591 - val_acc: 0.0000e+00\n",
            "Epoch 15/30\n",
            "20000/20000 [==============================] - 81s 4ms/step - loss: 8.0840 - acc: 0.0000e+00 - val_loss: 7.9591 - val_acc: 0.0000e+00\n",
            "Epoch 16/30\n",
            "20000/20000 [==============================] - 81s 4ms/step - loss: 8.0840 - acc: 0.0000e+00 - val_loss: 7.9591 - val_acc: 0.0000e+00\n",
            "Epoch 17/30\n",
            "20000/20000 [==============================] - 80s 4ms/step - loss: 8.0840 - acc: 0.0000e+00 - val_loss: 7.9591 - val_acc: 0.0000e+00\n",
            "Epoch 18/30\n",
            "20000/20000 [==============================] - 81s 4ms/step - loss: 8.0840 - acc: 0.0000e+00 - val_loss: 7.9591 - val_acc: 0.0000e+00\n",
            "Epoch 19/30\n",
            "20000/20000 [==============================] - 80s 4ms/step - loss: 8.0840 - acc: 0.0000e+00 - val_loss: 7.9591 - val_acc: 0.0000e+00\n",
            "Epoch 20/30\n",
            "20000/20000 [==============================] - 81s 4ms/step - loss: 8.0840 - acc: 0.0000e+00 - val_loss: 7.9591 - val_acc: 0.0000e+00\n",
            "Epoch 21/30\n",
            "20000/20000 [==============================] - 81s 4ms/step - loss: 8.0840 - acc: 0.0000e+00 - val_loss: 7.9591 - val_acc: 0.0000e+00\n",
            "Epoch 22/30\n",
            "20000/20000 [==============================] - 81s 4ms/step - loss: 8.0840 - acc: 0.0000e+00 - val_loss: 7.9591 - val_acc: 0.0000e+00\n",
            "Epoch 23/30\n",
            "20000/20000 [==============================] - 80s 4ms/step - loss: 8.0840 - acc: 0.0000e+00 - val_loss: 7.9591 - val_acc: 0.0000e+00\n",
            "Epoch 24/30\n",
            "20000/20000 [==============================] - 80s 4ms/step - loss: 8.0840 - acc: 0.0000e+00 - val_loss: 7.9591 - val_acc: 0.0000e+00\n",
            "Epoch 25/30\n",
            "20000/20000 [==============================] - 80s 4ms/step - loss: 8.0840 - acc: 0.0000e+00 - val_loss: 7.9591 - val_acc: 0.0000e+00\n",
            "Epoch 26/30\n",
            "20000/20000 [==============================] - 80s 4ms/step - loss: 8.0840 - acc: 0.0000e+00 - val_loss: 7.9591 - val_acc: 0.0000e+00\n",
            "Epoch 27/30\n",
            "20000/20000 [==============================] - 80s 4ms/step - loss: 8.0840 - acc: 0.0000e+00 - val_loss: 7.9591 - val_acc: 0.0000e+00\n",
            "Epoch 28/30\n",
            "20000/20000 [==============================] - 80s 4ms/step - loss: 8.0840 - acc: 0.0000e+00 - val_loss: 7.9591 - val_acc: 0.0000e+00\n",
            "Epoch 29/30\n",
            "20000/20000 [==============================] - 80s 4ms/step - loss: 8.0840 - acc: 0.0000e+00 - val_loss: 7.9591 - val_acc: 0.0000e+00\n",
            "Epoch 30/30\n",
            "20000/20000 [==============================] - 80s 4ms/step - loss: 8.0840 - acc: 0.0000e+00 - val_loss: 7.9591 - val_acc: 0.0000e+00\n"
          ],
          "name": "stdout"
        }
      ]
    },
    {
      "cell_type": "code",
      "metadata": {
        "id": "ime96JspE2zU",
        "colab_type": "code",
        "colab": {}
      },
      "source": [
        ""
      ],
      "execution_count": 0,
      "outputs": []
    }
  ]
}