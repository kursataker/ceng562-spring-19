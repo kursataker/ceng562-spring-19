{
  "nbformat": 4,
  "nbformat_minor": 0,
  "metadata": {
    "colab": {
      "name": "1D_CNN_HAR.ipynb",
      "version": "0.3.2",
      "provenance": [],
      "include_colab_link": true
    },
    "kernelspec": {
      "name": "python3",
      "display_name": "Python 3"
    },
    "accelerator": "GPU"
  },
  "cells": [
    {
      "cell_type": "markdown",
      "metadata": {
        "id": "view-in-github",
        "colab_type": "text"
      },
      "source": [
        "<a href=\"https://colab.research.google.com/github/kursataker/cng562-machine-learning-spring-19/blob/master/1D_CNN_HAR.ipynb\" target=\"_parent\"><img src=\"https://colab.research.google.com/assets/colab-badge.svg\" alt=\"Open In Colab\"/></a>"
      ]
    },
    {
      "cell_type": "markdown",
      "metadata": {
        "id": "_asIZfonlRfQ",
        "colab_type": "text"
      },
      "source": [
        "# Human Activity Recognition\n",
        "\n",
        "**Ref:** https://archive.ics.uci.edu/ml/datasets/human+activity+recognition+using+smartphones\n",
        "\n",
        "## Data Set Information\n",
        "\n",
        "The experiments have been carried out with a group of 30 volunteers within an age bracket of 19-48 years. Each person performed six activities (WALKING, WALKING_UPSTAIRS, WALKING_DOWNSTAIRS, SITTING, STANDING, LAYING) wearing a smartphone (Samsung Galaxy S II) on the waist. Using its embedded accelerometer and gyroscope, we captured 3-axial linear acceleration and 3-axial angular velocity at a constant rate of 50Hz. The experiments have been video-recorded to label the data manually. The obtained dataset has been randomly partitioned into two sets, where 70% of the volunteers was selected for generating the training data and 30% the test data. \n",
        "\n",
        "The sensor signals (accelerometer and gyroscope) were pre-processed by applying noise filters and then sampled in fixed-width sliding windows of 2.56 sec and 50% overlap (128 readings/window). The sensor acceleration signal, which has gravitational and body motion components, was separated using a Butterworth low-pass filter into body acceleration and gravity. The gravitational force is assumed to have only low frequency components, therefore a filter with 0.3 Hz cutoff frequency was used. From each window, a vector of features was obtained by calculating variables from the time and frequency domain.\n",
        "\n",
        "## Attribute Information\n",
        "\n",
        "For each record in the dataset it is provided: \n",
        "- Triaxial acceleration from the accelerometer (total acceleration) and the estimated body acceleration. \n",
        "- Triaxial Angular velocity from the gyroscope. \n",
        "- A 561-feature vector with time and frequency domain variables. \n",
        "- Its activity label. \n",
        "- An identifier of the subject who carried out the experiment."
      ]
    },
    {
      "cell_type": "markdown",
      "metadata": {
        "id": "eJFCKS4jiMR3",
        "colab_type": "text"
      },
      "source": [
        "## Download Human Activity Recognition Data\n",
        "\n",
        "Ref: https://machinelearningmastery.com/cnn-models-for-human-activity-recognition-time-series-classification/"
      ]
    },
    {
      "cell_type": "code",
      "metadata": {
        "id": "b2gdKiqphKML",
        "colab_type": "code",
        "outputId": "632da970-e9e9-4f53-f7c7-b98661a44314",
        "colab": {
          "base_uri": "https://localhost:8080/",
          "height": 151
        }
      },
      "source": [
        "!pip install wget"
      ],
      "execution_count": 0,
      "outputs": [
        {
          "output_type": "stream",
          "text": [
            "Collecting wget\n",
            "  Downloading https://files.pythonhosted.org/packages/47/6a/62e288da7bcda82b935ff0c6cfe542970f04e29c756b0e147251b2fb251f/wget-3.2.zip\n",
            "Building wheels for collected packages: wget\n",
            "  Building wheel for wget (setup.py) ... \u001b[?25l\u001b[?25hdone\n",
            "  Stored in directory: /root/.cache/pip/wheels/40/15/30/7d8f7cea2902b4db79e3fea550d7d7b85ecb27ef992b618f3f\n",
            "Successfully built wget\n",
            "Installing collected packages: wget\n",
            "Successfully installed wget-3.2\n"
          ],
          "name": "stdout"
        }
      ]
    },
    {
      "cell_type": "code",
      "metadata": {
        "id": "4qmmJwhUhfeI",
        "colab_type": "code",
        "outputId": "5f3d226b-92df-4aad-e1da-74a8307eae26",
        "colab": {
          "base_uri": "https://localhost:8080/",
          "height": 34
        }
      },
      "source": [
        "import wget\n",
        "wget.download('https://archive.ics.uci.edu/ml/machine-learning-databases/00240/UCI HAR Dataset.zip')"
      ],
      "execution_count": 0,
      "outputs": [
        {
          "output_type": "execute_result",
          "data": {
            "text/plain": [
              "'UCI HAR Dataset.zip'"
            ]
          },
          "metadata": {
            "tags": []
          },
          "execution_count": 7
        }
      ]
    },
    {
      "cell_type": "code",
      "metadata": {
        "id": "gfNBF_GghjTN",
        "colab_type": "code",
        "outputId": "e304d527-b706-4159-cf58-6d15b57b83a1",
        "colab": {
          "base_uri": "https://localhost:8080/",
          "height": 34
        }
      },
      "source": [
        "!ls -al UCI*"
      ],
      "execution_count": 0,
      "outputs": [
        {
          "output_type": "stream",
          "text": [
            "-rw-r--r-- 1 root root 60999314 May  6 11:01 'UCI HAR Dataset.zip'\n"
          ],
          "name": "stdout"
        }
      ]
    },
    {
      "cell_type": "code",
      "metadata": {
        "id": "Tk9PtTf-il0K",
        "colab_type": "code",
        "outputId": "da933d01-3fd9-441a-a021-1b8772ca67a5",
        "colab": {
          "base_uri": "https://localhost:8080/",
          "height": 1277
        }
      },
      "source": [
        "!unzip 'UCI HAR Dataset.zip'"
      ],
      "execution_count": 0,
      "outputs": [
        {
          "output_type": "stream",
          "text": [
            "Archive:  UCI HAR Dataset.zip\n",
            "   creating: UCI HAR Dataset/\n",
            "  inflating: UCI HAR Dataset/.DS_Store  \n",
            "   creating: __MACOSX/\n",
            "   creating: __MACOSX/UCI HAR Dataset/\n",
            "  inflating: __MACOSX/UCI HAR Dataset/._.DS_Store  \n",
            "  inflating: UCI HAR Dataset/activity_labels.txt  \n",
            "  inflating: __MACOSX/UCI HAR Dataset/._activity_labels.txt  \n",
            "  inflating: UCI HAR Dataset/features.txt  \n",
            "  inflating: __MACOSX/UCI HAR Dataset/._features.txt  \n",
            "  inflating: UCI HAR Dataset/features_info.txt  \n",
            "  inflating: __MACOSX/UCI HAR Dataset/._features_info.txt  \n",
            "  inflating: UCI HAR Dataset/README.txt  \n",
            "  inflating: __MACOSX/UCI HAR Dataset/._README.txt  \n",
            "   creating: UCI HAR Dataset/test/\n",
            "   creating: UCI HAR Dataset/test/Inertial Signals/\n",
            "  inflating: UCI HAR Dataset/test/Inertial Signals/body_acc_x_test.txt  \n",
            "   creating: __MACOSX/UCI HAR Dataset/test/\n",
            "   creating: __MACOSX/UCI HAR Dataset/test/Inertial Signals/\n",
            "  inflating: __MACOSX/UCI HAR Dataset/test/Inertial Signals/._body_acc_x_test.txt  \n",
            "  inflating: UCI HAR Dataset/test/Inertial Signals/body_acc_y_test.txt  \n",
            "  inflating: __MACOSX/UCI HAR Dataset/test/Inertial Signals/._body_acc_y_test.txt  \n",
            "  inflating: UCI HAR Dataset/test/Inertial Signals/body_acc_z_test.txt  \n",
            "  inflating: __MACOSX/UCI HAR Dataset/test/Inertial Signals/._body_acc_z_test.txt  \n",
            "  inflating: UCI HAR Dataset/test/Inertial Signals/body_gyro_x_test.txt  \n",
            "  inflating: __MACOSX/UCI HAR Dataset/test/Inertial Signals/._body_gyro_x_test.txt  \n",
            "  inflating: UCI HAR Dataset/test/Inertial Signals/body_gyro_y_test.txt  \n",
            "  inflating: __MACOSX/UCI HAR Dataset/test/Inertial Signals/._body_gyro_y_test.txt  \n",
            "  inflating: UCI HAR Dataset/test/Inertial Signals/body_gyro_z_test.txt  \n",
            "  inflating: __MACOSX/UCI HAR Dataset/test/Inertial Signals/._body_gyro_z_test.txt  \n",
            "  inflating: UCI HAR Dataset/test/Inertial Signals/total_acc_x_test.txt  \n",
            "  inflating: __MACOSX/UCI HAR Dataset/test/Inertial Signals/._total_acc_x_test.txt  \n",
            "  inflating: UCI HAR Dataset/test/Inertial Signals/total_acc_y_test.txt  \n",
            "  inflating: __MACOSX/UCI HAR Dataset/test/Inertial Signals/._total_acc_y_test.txt  \n",
            "  inflating: UCI HAR Dataset/test/Inertial Signals/total_acc_z_test.txt  \n",
            "  inflating: __MACOSX/UCI HAR Dataset/test/Inertial Signals/._total_acc_z_test.txt  \n",
            "  inflating: __MACOSX/UCI HAR Dataset/test/._Inertial Signals  \n",
            "  inflating: UCI HAR Dataset/test/subject_test.txt  \n",
            "  inflating: __MACOSX/UCI HAR Dataset/test/._subject_test.txt  \n",
            "  inflating: UCI HAR Dataset/test/X_test.txt  \n",
            "  inflating: __MACOSX/UCI HAR Dataset/test/._X_test.txt  \n",
            "  inflating: UCI HAR Dataset/test/y_test.txt  \n",
            "  inflating: __MACOSX/UCI HAR Dataset/test/._y_test.txt  \n",
            "  inflating: __MACOSX/UCI HAR Dataset/._test  \n",
            "   creating: UCI HAR Dataset/train/\n",
            "   creating: UCI HAR Dataset/train/Inertial Signals/\n",
            "  inflating: UCI HAR Dataset/train/Inertial Signals/body_acc_x_train.txt  \n",
            "   creating: __MACOSX/UCI HAR Dataset/train/\n",
            "   creating: __MACOSX/UCI HAR Dataset/train/Inertial Signals/\n",
            "  inflating: __MACOSX/UCI HAR Dataset/train/Inertial Signals/._body_acc_x_train.txt  \n",
            "  inflating: UCI HAR Dataset/train/Inertial Signals/body_acc_y_train.txt  \n",
            "  inflating: __MACOSX/UCI HAR Dataset/train/Inertial Signals/._body_acc_y_train.txt  \n",
            "  inflating: UCI HAR Dataset/train/Inertial Signals/body_acc_z_train.txt  \n",
            "  inflating: __MACOSX/UCI HAR Dataset/train/Inertial Signals/._body_acc_z_train.txt  \n",
            "  inflating: UCI HAR Dataset/train/Inertial Signals/body_gyro_x_train.txt  \n",
            "  inflating: __MACOSX/UCI HAR Dataset/train/Inertial Signals/._body_gyro_x_train.txt  \n",
            "  inflating: UCI HAR Dataset/train/Inertial Signals/body_gyro_y_train.txt  \n",
            "  inflating: __MACOSX/UCI HAR Dataset/train/Inertial Signals/._body_gyro_y_train.txt  \n",
            "  inflating: UCI HAR Dataset/train/Inertial Signals/body_gyro_z_train.txt  \n",
            "  inflating: __MACOSX/UCI HAR Dataset/train/Inertial Signals/._body_gyro_z_train.txt  \n",
            "  inflating: UCI HAR Dataset/train/Inertial Signals/total_acc_x_train.txt  \n",
            "  inflating: __MACOSX/UCI HAR Dataset/train/Inertial Signals/._total_acc_x_train.txt  \n",
            "  inflating: UCI HAR Dataset/train/Inertial Signals/total_acc_y_train.txt  \n",
            "  inflating: __MACOSX/UCI HAR Dataset/train/Inertial Signals/._total_acc_y_train.txt  \n",
            "  inflating: UCI HAR Dataset/train/Inertial Signals/total_acc_z_train.txt  \n",
            "  inflating: __MACOSX/UCI HAR Dataset/train/Inertial Signals/._total_acc_z_train.txt  \n",
            "  inflating: __MACOSX/UCI HAR Dataset/train/._Inertial Signals  \n",
            "  inflating: UCI HAR Dataset/train/subject_train.txt  \n",
            "  inflating: __MACOSX/UCI HAR Dataset/train/._subject_train.txt  \n",
            "  inflating: UCI HAR Dataset/train/X_train.txt  \n",
            "  inflating: __MACOSX/UCI HAR Dataset/train/._X_train.txt  \n",
            "  inflating: UCI HAR Dataset/train/y_train.txt  \n",
            "  inflating: __MACOSX/UCI HAR Dataset/train/._y_train.txt  \n",
            "  inflating: __MACOSX/UCI HAR Dataset/._train  \n",
            "  inflating: __MACOSX/._UCI HAR Dataset  \n"
          ],
          "name": "stdout"
        }
      ]
    },
    {
      "cell_type": "code",
      "metadata": {
        "id": "gI6BDXh4jFJC",
        "colab_type": "code",
        "colab": {}
      },
      "source": [
        ""
      ],
      "execution_count": 0,
      "outputs": []
    },
    {
      "cell_type": "code",
      "metadata": {
        "id": "2cPnLko_i-Mg",
        "colab_type": "code",
        "outputId": "c8aee9f1-1fe3-4a67-ed25-506a7b4b40af",
        "colab": {
          "base_uri": "https://localhost:8080/",
          "height": 185
        }
      },
      "source": [
        "!ls -al 'UCI HAR Dataset'"
      ],
      "execution_count": 0,
      "outputs": [
        {
          "output_type": "stream",
          "text": [
            "total 56\n",
            "drwxr-xr-x 4 root root  4096 Feb 16  2015 .\n",
            "drwxr-xr-x 1 root root  4096 May  6 11:01 ..\n",
            "-rwxr-xr-x 1 root root    80 Oct 10  2012 activity_labels.txt\n",
            "-rw-r--r-- 1 root root  6148 Feb 16  2015 .DS_Store\n",
            "-rwxr-xr-x 1 root root  2809 Oct 15  2012 features_info.txt\n",
            "-rwxr-xr-x 1 root root 15785 Oct 11  2012 features.txt\n",
            "-rw-r----- 1 root root  6304 Feb 16  2015 README.txt\n",
            "drwxr-xr-x 3 root root  4096 Nov 30  2012 test\n",
            "drwxr-xr-x 3 root root  4096 Nov 30  2012 train\n"
          ],
          "name": "stdout"
        }
      ]
    },
    {
      "cell_type": "code",
      "metadata": {
        "id": "Ujo8YwN2jGNh",
        "colab_type": "code",
        "colab": {}
      },
      "source": [
        "! mv 'UCI HAR Dataset' HARDataset"
      ],
      "execution_count": 0,
      "outputs": []
    },
    {
      "cell_type": "code",
      "metadata": {
        "id": "dD8XLa59ipJe",
        "colab_type": "code",
        "colab": {}
      },
      "source": [
        "# cnn model\n",
        "from numpy import mean\n",
        "from numpy import std\n",
        "from numpy import dstack\n",
        "from pandas import read_csv\n",
        "from matplotlib import pyplot\n",
        "from keras.models import Sequential\n",
        "from keras.layers import Dense\n",
        "from keras.layers import Flatten\n",
        "from keras.layers import Dropout\n",
        "from keras.layers import BatchNormalization\n",
        "from keras.layers.convolutional import Conv1D\n",
        "from keras.layers.convolutional import MaxPooling1D\n",
        "from keras.utils import to_categorical"
      ],
      "execution_count": 0,
      "outputs": []
    },
    {
      "cell_type": "code",
      "metadata": {
        "id": "NFTq1kSri4Ft",
        "colab_type": "code",
        "colab": {}
      },
      "source": [
        "\n",
        "\n",
        "# load a single file as a numpy array\n",
        "def load_file(filepath):\n",
        "\tdataframe = read_csv(filepath, header=None, delim_whitespace=True)\n",
        "\treturn dataframe.values\n",
        "\n",
        "# load a list of files and return as a 3d numpy array\n",
        "def load_group(filenames, prefix=''):\n",
        "\tloaded = list()\n",
        "\tfor name in filenames:\n",
        "\t\tdata = load_file(prefix + name)\n",
        "\t\tloaded.append(data)\n",
        "\t# stack group so that features are the 3rd dimension\n",
        "\tloaded = dstack(loaded)\n",
        "\treturn loaded\n",
        "\n",
        "# load a dataset group, such as train or test\n",
        "def load_dataset_group(group, prefix=''):\n",
        "\tfilepath = prefix + group + '/Inertial Signals/'\n",
        "\t# load all 9 files as a single array\n",
        "\tfilenames = list()\n",
        "\t# total acceleration\n",
        "\tfilenames += ['total_acc_x_'+group+'.txt', \n",
        "                'total_acc_y_'+group+'.txt', \n",
        "                'total_acc_z_'+group+'.txt']\n",
        "\t# body acceleration\n",
        "\tfilenames += ['body_acc_x_'+group+'.txt', \n",
        "                'body_acc_y_'+group+'.txt', \n",
        "                'body_acc_z_'+group+'.txt']\n",
        "\t# body gyroscope\n",
        "\tfilenames += ['body_gyro_x_'+group+'.txt', \n",
        "                'body_gyro_y_'+group+'.txt', \n",
        "                'body_gyro_z_'+group+'.txt']\n",
        "\t# load input data\n",
        "\tX = load_group(filenames, filepath)\n",
        "\t# load class output\n",
        "\ty = load_file(prefix + group + '/y_'+group+'.txt')\n",
        "\treturn X, y\n",
        "\n",
        "# load the dataset, returns train and test X and y elements\n",
        "def load_dataset(prefix=''):\n",
        "\t# load all train\n",
        "\ttrainX, trainy = load_dataset_group('train', prefix + 'HARDataset/')\n",
        "\tprint(trainX.shape, trainy.shape)\n",
        "\t# load all test\n",
        "\ttestX, testy = load_dataset_group('test', prefix + 'HARDataset/')\n",
        "\tprint(testX.shape, testy.shape)\n",
        "\t# zero-offset class values\n",
        "\ttrainy = trainy - 1\n",
        "\ttesty = testy - 1\n",
        "\t# one hot encode y\n",
        "\ttrainy = to_categorical(trainy)\n",
        "\ttesty = to_categorical(testy)\n",
        "\tprint(trainX.shape, trainy.shape, testX.shape, testy.shape)\n",
        "\treturn trainX, trainy, testX, testy\n"
      ],
      "execution_count": 0,
      "outputs": []
    },
    {
      "cell_type": "code",
      "metadata": {
        "id": "Tcovr-xjiESN",
        "colab_type": "code",
        "colab": {}
      },
      "source": [
        "\n",
        "# fit and evaluate a model\n",
        "def evaluate_model1(trainX, trainy, testX, testy):\n",
        "\tverbose, epochs, batch_size = 0, 10, 32\n",
        "\tn_timesteps, n_features, n_outputs = trainX.shape[1], trainX.shape[2], trainy.shape[1]\n",
        "\tmodel = Sequential()\n",
        "\tmodel.add(Conv1D(filters=64, kernel_size=3, activation='relu', \n",
        "                   input_shape=(n_timesteps,n_features)))\n",
        "\tmodel.add(Conv1D(filters=64, kernel_size=3, activation='relu'))\n",
        "\tmodel.add(Dropout(0.5))\n",
        "\tmodel.add(MaxPooling1D(pool_size=2))\n",
        "\tmodel.add(Flatten())\n",
        "\tmodel.add(Dense(100, activation='relu'))\n",
        "\tmodel.add(Dense(n_outputs, activation='softmax'))\n",
        "\tmodel.compile(loss='categorical_crossentropy', optimizer='adam', \n",
        "                metrics=['accuracy'])\n",
        "\t# fit network\n",
        "\tmodel.fit(trainX, trainy, epochs=epochs, batch_size=batch_size, verbose=verbose)\n",
        "\t# evaluate model\n",
        "\t_, accuracy = model.evaluate(testX, testy, batch_size=batch_size, verbose=0)\n",
        "\treturn accuracy\n",
        "\n",
        "\n",
        "\n",
        "# summarize scores\n",
        "def summarize_results(scores):\n",
        "\tprint(scores)\n",
        "\tm, s = mean(scores), std(scores)\n",
        "\tprint('Accuracy: %.3f%% (+/-%.3f)' % (m, s))\n",
        "\n",
        "# run an experiment\n",
        "def run_experiment(evaluate_model=evaluate_model1, repeats=10):\n",
        "\t# load data\n",
        "\ttrainX, trainy, testX, testy = load_dataset()\n",
        "\t# repeat experiment\n",
        "\tscores = list()\n",
        "\tfor r in range(repeats):\n",
        "\t\tscore = evaluate_model(trainX, trainy, testX, testy)\n",
        "\t\tscore = score * 100.0\n",
        "\t\tprint('>#%d: %.3f' % (r+1, score))\n",
        "\t\tscores.append(score)\n",
        "\t# summarize results\n",
        "\tsummarize_results(scores)\n",
        "\n"
      ],
      "execution_count": 0,
      "outputs": []
    },
    {
      "cell_type": "code",
      "metadata": {
        "id": "gBNJC5IIjQ0f",
        "colab_type": "code",
        "outputId": "43be35e9-95fd-49c4-8c2c-598d17b27794",
        "colab": {
          "base_uri": "https://localhost:8080/",
          "height": 440
        }
      },
      "source": [
        "# run the experiment\n",
        "run_experiment()"
      ],
      "execution_count": 0,
      "outputs": [
        {
          "output_type": "stream",
          "text": [
            "(7352, 128, 9) (7352, 1)\n",
            "(2947, 128, 9) (2947, 1)\n",
            "(7352, 128, 9) (7352, 6) (2947, 128, 9) (2947, 6)\n",
            "WARNING:tensorflow:From /usr/local/lib/python3.6/dist-packages/tensorflow/python/framework/op_def_library.py:263: colocate_with (from tensorflow.python.framework.ops) is deprecated and will be removed in a future version.\n",
            "Instructions for updating:\n",
            "Colocations handled automatically by placer.\n",
            "WARNING:tensorflow:From /usr/local/lib/python3.6/dist-packages/keras/backend/tensorflow_backend.py:3445: calling dropout (from tensorflow.python.ops.nn_ops) with keep_prob is deprecated and will be removed in a future version.\n",
            "Instructions for updating:\n",
            "Please use `rate` instead of `keep_prob`. Rate should be set to `rate = 1 - keep_prob`.\n",
            "WARNING:tensorflow:From /usr/local/lib/python3.6/dist-packages/tensorflow/python/ops/math_ops.py:3066: to_int32 (from tensorflow.python.ops.math_ops) is deprecated and will be removed in a future version.\n",
            "Instructions for updating:\n",
            "Use tf.cast instead.\n",
            ">#1: 90.702\n",
            ">#2: 90.838\n",
            ">#3: 88.327\n",
            ">#4: 88.972\n",
            ">#5: 91.110\n",
            ">#6: 90.567\n",
            ">#7: 91.313\n",
            ">#8: 90.567\n",
            ">#9: 86.359\n",
            ">#10: 91.415\n",
            "[90.70240922972515, 90.83814048184594, 88.32711231761114, 88.97183576518493, 91.10960298608755, 90.56667797760434, 91.31319986426874, 90.56667797760434, 86.35900916185952, 91.41499830335935]\n",
            "Accuracy: 90.017% (+/-1.546)\n"
          ],
          "name": "stdout"
        }
      ]
    },
    {
      "cell_type": "code",
      "metadata": {
        "id": "JcPdlsvcjR2i",
        "colab_type": "code",
        "outputId": "a88133f6-da5a-4cdf-df91-e45553ae172a",
        "colab": {
          "base_uri": "https://localhost:8080/",
          "height": 336
        }
      },
      "source": [
        "# plot a histogram of each variable in the dataset\n",
        "def plot_variable_distributions(trainX):\n",
        "\t# remove overlap\n",
        "\tcut = int(trainX.shape[1] / 2)\n",
        "\tlongX = trainX[:, -cut:, :]\n",
        "\t# flatten windows\n",
        "\tlongX = longX.reshape((longX.shape[0] * longX.shape[1], longX.shape[2]))\n",
        "\tprint(longX.shape)\n",
        "\tpyplot.figure()\n",
        "\txaxis = None\n",
        "\tfor i in range(longX.shape[1]):\n",
        "\t\tax = pyplot.subplot(longX.shape[1], 1, i+1, sharex=xaxis)\n",
        "\t\tax.set_xlim(-1, 1)\n",
        "\t\tif i == 0:\n",
        "\t\t\txaxis = ax\n",
        "\t\tpyplot.hist(longX[:, i], bins=100)\n",
        "\tpyplot.show()\n",
        " \n",
        "# load data\n",
        "trainX, trainy, testX, testy = load_dataset()\n",
        "# plot histograms\n",
        "plot_variable_distributions(trainX)"
      ],
      "execution_count": 0,
      "outputs": [
        {
          "output_type": "stream",
          "text": [
            "(7352, 128, 9) (7352, 1)\n",
            "(2947, 128, 9) (2947, 1)\n",
            "(7352, 128, 9) (7352, 6) (2947, 128, 9) (2947, 6)\n",
            "(470528, 9)\n"
          ],
          "name": "stdout"
        },
        {
          "output_type": "display_data",
          "data": {
            "image/png": "[encoded data removed]",
            "text/plain": [
              "<Figure size 432x288 with 9 Axes>"
            ]
          },
          "metadata": {
            "tags": []
          }
        }
      ]
    },
    {
      "cell_type": "code",
      "metadata": {
        "id": "OR6XZu8MuTau",
        "colab_type": "code",
        "colab": {}
      },
      "source": [
        "from sklearn.preprocessing import StandardScaler\n",
        "\n",
        "# standardize data\n",
        "def scale_data(trainX, testX, standardize):\n",
        "\t# remove overlap\n",
        "\tcut = int(trainX.shape[1] / 2)\n",
        "\tlongX = trainX[:, -cut:, :]\n",
        "\t# flatten windows\n",
        "\tlongX = longX.reshape((longX.shape[0] * longX.shape[1], longX.shape[2]))\n",
        "\t# flatten train and test\n",
        "\tflatTrainX = trainX.reshape((trainX.shape[0] * trainX.shape[1], trainX.shape[2]))\n",
        "\tflatTestX = testX.reshape((testX.shape[0] * testX.shape[1], testX.shape[2]))\n",
        "\t# standardize\n",
        "\tif standardize:\n",
        "\t\ts = StandardScaler()\n",
        "\t\t# fit on training data\n",
        "\t\ts.fit(longX)\n",
        "\t\t# apply to training and test data\n",
        "\t\tlongX = s.transform(longX)\n",
        "\t\tflatTrainX = s.transform(flatTrainX)\n",
        "\t\tflatTestX = s.transform(flatTestX)\n",
        "\t# reshape\n",
        "\tflatTrainX = flatTrainX.reshape((trainX.shape))\n",
        "\tflatTestX = flatTestX.reshape((testX.shape))\n",
        "\treturn flatTrainX, flatTestX"
      ],
      "execution_count": 0,
      "outputs": []
    },
    {
      "cell_type": "code",
      "metadata": {
        "id": "Ra7KwAq-ujtX",
        "colab_type": "code",
        "colab": {}
      },
      "source": [
        "def evaluate_model2(trainX, trainy, testX, testy, param):\n",
        "\tverbose, epochs, batch_size = 0, 10, 32\n",
        "\tn_timesteps, n_features, n_outputs = trainX.shape[1], trainX.shape[2], trainy.shape[1]\n",
        "\t# scale data\n",
        "\ttrainX, testX = scale_data(trainX, testX, param)\n",
        "\tmodel = Sequential()\n",
        "\tmodel.add(Conv1D(filters=64, kernel_size=3, activation='relu', input_shape=(n_timesteps,n_features)))\n",
        "\tmodel.add(Conv1D(filters=64, kernel_size=3, activation='relu'))\n",
        "\tmodel.add(Dropout(0.5))\n",
        "\tmodel.add(MaxPooling1D(pool_size=2))\n",
        "\tmodel.add(Flatten())\n",
        "\tmodel.add(Dense(100, activation='relu'))\n",
        "\tmodel.add(Dense(n_outputs, activation='softmax'))\n",
        "\tmodel.compile(loss='categorical_crossentropy', optimizer='adam', metrics=['accuracy'])\n",
        "\t# fit network\n",
        "\tmodel.fit(trainX, trainy, epochs=epochs, batch_size=batch_size, verbose=verbose)\n",
        "\t# evaluate model\n",
        "\t_, accuracy = model.evaluate(testX, testy, batch_size=batch_size, verbose=0)\n",
        "\treturn accuracy"
      ],
      "execution_count": 0,
      "outputs": []
    },
    {
      "cell_type": "code",
      "metadata": {
        "id": "SXBRroSruq8P",
        "colab_type": "code",
        "colab": {}
      },
      "source": [
        "# run an experiment\n",
        "def run_experiment2(params, evaluate_model=evaluate_model2, repeats=10):\n",
        "\t# load data\n",
        "\ttrainX, trainy, testX, testy = load_dataset()\n",
        "\t# test each parameter\n",
        "\tall_scores = list()\n",
        "\tfor p in params:\n",
        "\t\t# repeat experiment\n",
        "\t\tscores = list()\n",
        "\t\tfor r in range(repeats):\n",
        "\t\t\tscore = evaluate_model(trainX, trainy, testX, testy, p)\n",
        "\t\t\tscore = score * 100.0\n",
        "\t\t\tprint('>p=%d #%d: %.3f' % (p, r+1, score))\n",
        "\t\t\tscores.append(score)\n",
        "\t\tall_scores.append(scores)\n",
        "\t# summarize results\n",
        "\tsummarize_results(all_scores, params)"
      ],
      "execution_count": 0,
      "outputs": []
    },
    {
      "cell_type": "code",
      "metadata": {
        "id": "_t3maUaZu2KZ",
        "colab_type": "code",
        "colab": {}
      },
      "source": [
        "# summarize scores\n",
        "def summarize_results(scores, params):\n",
        "\tprint(scores, params)\n",
        "\t# summarize mean and standard deviation\n",
        "\tfor i in range(len(scores)):\n",
        "\t\tm, s = mean(scores[i]), std(scores[i])\n",
        "\t\tprint('Param=%d: %.3f%% (+/-%.3f)' % (params[i], m, s))\n",
        "\t# boxplot of scores\n",
        "\tpyplot.boxplot(scores, labels=params)\n",
        "\tpyplot.savefig('exp_cnn_standardize.png')"
      ],
      "execution_count": 0,
      "outputs": []
    },
    {
      "cell_type": "code",
      "metadata": {
        "id": "qZUTq7XXu81v",
        "colab_type": "code",
        "outputId": "cb0c1f92-1d08-4183-fc1d-fb1aa3297071",
        "colab": {
          "base_uri": "https://localhost:8080/",
          "height": 726
        }
      },
      "source": [
        "# run the experiment\n",
        "n_params = [False, True]\n",
        "run_experiment2(n_params)"
      ],
      "execution_count": 0,
      "outputs": [
        {
          "output_type": "stream",
          "text": [
            "(7352, 128, 9) (7352, 1)\n",
            "(2947, 128, 9) (2947, 1)\n",
            "(7352, 128, 9) (7352, 6) (2947, 128, 9) (2947, 6)\n",
            ">p=0 #1: 88.972\n",
            ">p=0 #2: 92.297\n",
            ">p=0 #3: 91.992\n",
            ">p=0 #4: 90.940\n",
            ">p=0 #5: 88.700\n",
            ">p=0 #6: 93.315\n",
            ">p=0 #7: 90.940\n",
            ">p=0 #8: 90.363\n",
            ">p=0 #9: 92.229\n",
            ">p=0 #10: 89.040\n",
            ">p=1 #1: 91.788\n",
            ">p=1 #2: 90.906\n",
            ">p=1 #3: 93.044\n",
            ">p=1 #4: 90.567\n",
            ">p=1 #5: 90.974\n",
            ">p=1 #6: 90.193\n",
            ">p=1 #7: 90.635\n",
            ">p=1 #8: 90.499\n",
            ">p=1 #9: 90.193\n",
            ">p=1 #10: 91.177\n",
            "[[88.97183576518493, 92.29725144214456, 91.99185612487275, 90.93993892093654, 88.70037326094334, 93.31523583305056, 90.93993892093654, 90.36308109942314, 92.22938581608415, 89.03970139124533], [91.78825924669155, 90.90600610790635, 93.04377332880895, 90.56667797760434, 90.97387173396675, 90.19341703427214, 90.63454360366474, 90.49881235154395, 90.19341703427214, 91.17746861214795]] [False, True]\n",
            "Param=0: 90.879% (+/-1.518)\n",
            "Param=1: 90.998% (+/-0.819)\n"
          ],
          "name": "stdout"
        },
        {
          "output_type": "display_data",
          "data": {
            "image/png": "[encoded data removed]",
            "text/plain": [
              "<Figure size 432x288 with 1 Axes>"
            ]
          },
          "metadata": {
            "tags": []
          }
        }
      ]
    },
    {
      "cell_type": "code",
      "metadata": {
        "id": "lOCqS7cfvDd4",
        "colab_type": "code",
        "colab": {}
      },
      "source": [
        ""
      ],
      "execution_count": 0,
      "outputs": []
    },
    {
      "cell_type": "code",
      "metadata": {
        "id": "Yc3PMQnE2FXZ",
        "colab_type": "code",
        "colab": {}
      },
      "source": [
        "def evaluate_model3(trainX, trainy, testX, testy, param):\n",
        "  verbose, epochs, batch_size = 0, 10, 32\n",
        "  n_timesteps, n_features, n_outputs = (\n",
        "      trainX.shape[1], trainX.shape[2], trainy.shape[1] \n",
        "  )\n",
        "  trainX, testX = scale_data(trainX, testX, param)\n",
        "  model = Sequential()\n",
        "  model.add(Conv1D(filters=64, kernel_size=3, activation='relu', \n",
        "                   input_shape=(n_timesteps, n_features)))\n",
        "  model.add(Conv1D(filters=64, kernel_size=3, activation='relu'))\n",
        "  model.add(Dropout(0.5))\n",
        "  model.add(MaxPooling1D(pool_size=2))\n",
        "  model.add(Flatten())\n",
        "  model.add(Dense(100, activation='relu'))\n",
        "  model.add(Dense(n_outputs, activation='softmax'))\n",
        "  model.compile(loss='categorical_crossentropy', optimizer='adam', \n",
        "                metrics=['accuracy'])\n",
        "  model.fit(trainX, trainy, \n",
        "            epochs=epochs, batch_size=batch_size, verbose=verbose)\n",
        "  _, accuracy = model.evaluate(testX, testy, batch_size=batch_size, verbose=0)\n",
        "  return accuracy"
      ],
      "execution_count": 0,
      "outputs": []
    },
    {
      "cell_type": "code",
      "metadata": {
        "id": "p9bu7oy14CtA",
        "colab_type": "code",
        "outputId": "f478bcc1-101e-45b2-a084-0163efce22d6",
        "colab": {
          "base_uri": "https://localhost:8080/",
          "height": 726
        }
      },
      "source": [
        "# run the experiment\n",
        "n_params = [False, True]\n",
        "run_experiment2(n_params, evaluate_model=evaluate_model3)"
      ],
      "execution_count": 0,
      "outputs": [
        {
          "output_type": "stream",
          "text": [
            "(7352, 128, 9) (7352, 1)\n",
            "(2947, 128, 9) (2947, 1)\n",
            "(7352, 128, 9) (7352, 6) (2947, 128, 9) (2947, 6)\n",
            ">p=0 #1: 83.950\n",
            ">p=0 #2: 91.924\n",
            ">p=0 #3: 90.872\n",
            ">p=0 #4: 90.159\n",
            ">p=0 #5: 90.702\n",
            ">p=0 #6: 91.890\n",
            ">p=0 #7: 88.056\n",
            ">p=0 #8: 91.177\n",
            ">p=0 #9: 90.702\n",
            ">p=0 #10: 88.361\n",
            ">p=1 #1: 90.668\n",
            ">p=1 #2: 90.227\n",
            ">p=1 #3: 92.060\n",
            ">p=1 #4: 90.126\n",
            ">p=1 #5: 92.399\n",
            ">p=1 #6: 92.467\n",
            ">p=1 #7: 93.281\n",
            ">p=1 #8: 89.617\n",
            ">p=1 #9: 92.365\n",
            ">p=1 #10: 91.958\n",
            "[[83.9497794367153, 91.92399049881234, 90.87207329487615, 90.15948422124194, 90.70240922972515, 91.89005768578215, 88.05564981336953, 91.17746861214795, 90.70240922972515, 88.36104513064133], [90.66847641669494, 90.22734984730234, 92.05972175093315, 90.12555140821175, 92.39904988123516, 92.46691550729555, 93.28130302002036, 89.61655921275874, 92.36511706820495, 91.95792331184255]] [False, True]\n",
            "Param=0: 89.779% (+/-2.303)\n",
            "Param=1: 91.517% (+/-1.180)\n"
          ],
          "name": "stdout"
        },
        {
          "output_type": "display_data",
          "data": {
            "image/png": "[encoded data removed]",
            "text/plain": [
              "<Figure size 432x288 with 1 Axes>"
            ]
          },
          "metadata": {
            "tags": []
          }
        }
      ]
    },
    {
      "cell_type": "code",
      "metadata": {
        "id": "Mj1WsErS4Zrs",
        "colab_type": "code",
        "colab": {}
      },
      "source": [
        "def evaluate_model4(trainX, trainy, testX, testy, param):\n",
        "  verbose, epochs, batch_size = 0, 10, 32\n",
        "  n_timesteps, n_features, n_outputs = (\n",
        "      trainX.shape[1], trainX.shape[2], trainy.shape[1] \n",
        "  )\n",
        "  trainX, testX = scale_data(trainX, testX, param)\n",
        "  model = Sequential()\n",
        "  model.add(Conv1D(filters=64, kernel_size=3, activation='relu', \n",
        "                   input_shape=(n_timesteps, n_features)))\n",
        "  model.add(BatchNormalization())\n",
        "  model.add(Conv1D(filters=64, kernel_size=3, activation='relu'))\n",
        "  model.add(BatchNormalization())\n",
        "  model.add(Dropout(0.5))\n",
        "  model.add(MaxPooling1D(pool_size=2))\n",
        "  model.add(Flatten())\n",
        "  model.add(Dense(100, activation='relu'))\n",
        "  model.add(BatchNormalization())\n",
        "  model.add(Dense(n_outputs, activation='softmax'))\n",
        "  model.compile(loss='categorical_crossentropy', optimizer='adam', \n",
        "                metrics=['accuracy'])\n",
        "  model.fit(trainX, trainy, \n",
        "            epochs=epochs, batch_size=batch_size, verbose=verbose)\n",
        "  _, accuracy = model.evaluate(testX, testy, batch_size=batch_size, verbose=0)\n",
        "  return accuracy"
      ],
      "execution_count": 0,
      "outputs": []
    },
    {
      "cell_type": "code",
      "metadata": {
        "id": "IKzmEqY58WYY",
        "colab_type": "code",
        "outputId": "95c7cbc6-a45d-495b-c515-7316a946ae76",
        "colab": {
          "base_uri": "https://localhost:8080/",
          "height": 726
        }
      },
      "source": [
        "# run the experiment\n",
        "n_params = [False, True]\n",
        "run_experiment2(n_params, evaluate_model=evaluate_model4)"
      ],
      "execution_count": 0,
      "outputs": [
        {
          "output_type": "stream",
          "text": [
            "(7352, 128, 9) (7352, 1)\n",
            "(2947, 128, 9) (2947, 1)\n",
            "(7352, 128, 9) (7352, 6) (2947, 128, 9) (2947, 6)\n",
            ">p=0 #1: 89.617\n",
            ">p=0 #2: 91.585\n",
            ">p=0 #3: 92.331\n",
            ">p=0 #4: 90.227\n",
            ">p=0 #5: 89.243\n",
            ">p=0 #6: 90.329\n",
            ">p=0 #7: 89.956\n",
            ">p=0 #8: 89.447\n",
            ">p=0 #9: 91.483\n",
            ">p=0 #10: 90.295\n",
            ">p=1 #1: 93.417\n",
            ">p=1 #2: 91.788\n",
            ">p=1 #3: 88.633\n",
            ">p=1 #4: 92.297\n",
            ">p=1 #5: 89.650\n",
            ">p=1 #6: 91.551\n",
            ">p=1 #7: 92.060\n",
            ">p=1 #8: 90.397\n",
            ">p=1 #9: 88.497\n",
            ">p=1 #10: 90.974\n",
            "[[89.61655921275874, 91.58466236851035, 92.33118425517476, 90.22734984730234, 89.24329826942655, 90.32914828639295, 89.95588734306074, 89.44689514760775, 91.48286392941975, 90.29521547336275], [93.41703427214117, 91.78825924669155, 88.63250763488293, 92.29725144214456, 89.65049202578894, 91.55072955548015, 92.05972175093315, 90.39701391245333, 88.49677638276214, 90.97387173396675]] [False, True]\n",
            "Param=0: 90.451% (+/-0.969)\n",
            "Param=1: 90.926% (+/-1.535)\n"
          ],
          "name": "stdout"
        },
        {
          "output_type": "display_data",
          "data": {
            "image/png": "[encoded data removed]",
            "text/plain": [
              "<Figure size 432x288 with 1 Axes>"
            ]
          },
          "metadata": {
            "tags": []
          }
        }
      ]
    },
    {
      "cell_type": "code",
      "metadata": {
        "id": "TeZCC_KA8kzc",
        "colab_type": "code",
        "colab": {}
      },
      "source": [
        ""
      ],
      "execution_count": 0,
      "outputs": []
    }
  ]
}