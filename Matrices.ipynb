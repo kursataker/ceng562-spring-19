{
  "nbformat": 4,
  "nbformat_minor": 0,
  "metadata": {
    "colab": {
      "name": "Matrices.ipynb",
      "version": "0.3.2",
      "provenance": [],
      "collapsed_sections": [],
      "include_colab_link": true
    },
    "kernelspec": {
      "name": "python3",
      "display_name": "Python 3"
    }
  },
  "cells": [
    {
      "cell_type": "markdown",
      "metadata": {
        "id": "view-in-github",
        "colab_type": "text"
      },
      "source": [
        "<a href=\"https://colab.research.google.com/github/kursataker/cng562-machine-learning-spring-19/blob/master/Matrices.ipynb\" target=\"_parent\"><img src=\"https://colab.research.google.com/assets/colab-badge.svg\" alt=\"Open In Colab\"/></a>"
      ]
    },
    {
      "metadata": {
        "id": "PSXb3wZvO1gd",
        "colab_type": "text"
      },
      "cell_type": "markdown",
      "source": [
        "Vector Spaces\n",
        "--\n",
        "\n",
        "Any nonempty set $V$ endowed with \n",
        "- an addition operation $+$ to sum two elements in $V$\n",
        "- a scalar multiplication operation $\\cdot$ to multiply elements in $V$ by a real/complex number \n",
        "is called real (resp. complex) vector space.\n",
        "\n",
        "Examples\n",
        "--\n",
        "- $\\mathbb{R}^D$\n",
        "- $C[0,1]$, the set of continuous real-valued functions\n",
        "\n",
        "\n",
        "Linear Transformations\n",
        "--\n",
        "\n",
        "A function $L:V \\to W$ from the vector space $V$ to vector space $W$ is called a *linear transformation* if \n",
        "$$ L(cv_1+v_2) = cL(v_1)+L(v_2)$$\n",
        "for all $v_1, v_2 \\in V$ and $c\\in \\mathbb{R}$.\n",
        "\n",
        "Examples\n",
        "--\n",
        "- $L(x_1, x_2, x_3)=(0, 3x_1-x_2+\\pi x_3)$ is a linear transformation from $\\mathbb{R}^3$ to $\\mathbb{R}^2$.\n",
        "- Transformation $T$ defined by $Tf(x)=\\int_0^1f(t)dt$ is a linear transformation from $C[0,1]$ to $\\mathbb{R}$.\n",
        "\n",
        "\n",
        "Inner Product\n",
        "--\n",
        "\n",
        "A symmetric bi-linear function $\\langle\\cdot\\,,\\cdot\\rangle$ is called an *inner product* if $\\langle v\\,,v\\rangle > 0$ for nontrivial vectors $v\\in V$:\n",
        "- $\\langle cv_1+v_2\\,, v_3\\rangle=c\\langle v_1\\,, v_3\\rangle+\\langle v_2\\,, v_3\\rangle$\n",
        "- $\\langle v_1\\,, v_2\\rangle$ = $\\langle v_2\\,, v_1\\rangle$\n",
        "for all $v_1, v_2, v_3 \\in V$ and $c\\in \\mathbb{R}$.\n",
        "\n",
        "Examples\n",
        "--\n",
        "- Usual dot product on $\\mathbb{R}^D$: $\\langle v_1\\,, v_2\\rangle = v_1^T v_2$.\n",
        "- $\\langle f\\,, g\\rangle = \\int_0^1 f(x)g(x)dx$ for $f, g \\in C[0,1]$.\n"
      ]
    },
    {
      "metadata": {
        "id": "cI6hAkgAKyDN",
        "colab_type": "text"
      },
      "cell_type": "markdown",
      "source": [
        "Matrix\n",
        "--\n",
        "- Rows: Observations (e.g. people)\n",
        "- Columns: Features (e.g. weight, height, hair color)\n",
        "\n",
        "Matrix Operations\n",
        "--\n",
        "- Addition\n",
        "- Multiplication\n",
        "\n",
        "Determinant and Trace\n",
        "--\n",
        "\n",
        "Matrix Inverse\n",
        "--\n",
        "\n",
        "\n",
        "Matrix Problems\n",
        "--\n",
        "- Matrix Equation $A\\mathbf{x}=\\mathbf{y}$\n",
        ">- Models *Linear Systems*\n",
        ">- Describes a *Static System* (*System is time-independent*)\n",
        ">- Matrix $A$ is not necessarily a *square* matrix\n",
        ">- Vector $\\mathbf{y}$ represents the *known repsonse* of the system \n",
        ">- Vector $\\mathbf{x}$ represents the *unknown input* to the system \n",
        ">- Typically *exact solutions* do not exist\n",
        "\n",
        "- Eigenvalue Equation $A\\mathbf{x}=\\lambda \\mathbf{x}$\n",
        ">- Models *Linear Systems*\n",
        ">- Describes a *Dynamical System* (*System is time-dependent*)\n",
        ">>- Discrete time system: $\\mathbf{x}_n = A^n \\mathbf{x}_0.$\n",
        ">>- Continuous time system: $\\mathbf{x(t)}=e^{At}\\mathbf{x(0)}.$\n",
        ">- Matrix $A$ is necessarily a *square* matrix\n",
        ">- Vector $\\mathbf{x}$ represents a special state of the system, an *eigenvector*\n",
        ">- Number $\\lambda$ measures the effect of $A$ on the eigenvector $\\mathbf{x}$ called an *eigenvalue* \n",
        "\n"
      ]
    },
    {
      "metadata": {
        "id": "1Gu9lUSLOB5a",
        "colab_type": "code",
        "colab": {}
      },
      "cell_type": "code",
      "source": [
        "import numpy as np"
      ],
      "execution_count": 0,
      "outputs": []
    },
    {
      "metadata": {
        "id": "RmYkCCn5OaGW",
        "colab_type": "code",
        "colab": {}
      },
      "cell_type": "code",
      "source": [
        "A = np.array([[1,2,3],[4,5,6]])"
      ],
      "execution_count": 0,
      "outputs": []
    },
    {
      "metadata": {
        "id": "10AKuJxMOgl1",
        "colab_type": "code",
        "colab": {}
      },
      "cell_type": "code",
      "source": [
        "B = np.ones((2,3))"
      ],
      "execution_count": 0,
      "outputs": []
    },
    {
      "metadata": {
        "id": "9Xi6GJnhOjty",
        "colab_type": "code",
        "outputId": "f65cb244-380a-405e-cba6-3a3e91653254",
        "colab": {
          "base_uri": "https://localhost:8080/",
          "height": 52
        }
      },
      "cell_type": "code",
      "source": [
        "A"
      ],
      "execution_count": 0,
      "outputs": [
        {
          "output_type": "execute_result",
          "data": {
            "text/plain": [
              "array([[1, 2, 3],\n",
              "       [4, 5, 6]])"
            ]
          },
          "metadata": {
            "tags": []
          },
          "execution_count": 46
        }
      ]
    },
    {
      "metadata": {
        "id": "TUe2YIZiOoH6",
        "colab_type": "code",
        "outputId": "a4e0cdcf-f70e-4e6f-95d6-6775b30429e5",
        "colab": {
          "base_uri": "https://localhost:8080/",
          "height": 52
        }
      },
      "cell_type": "code",
      "source": [
        "B"
      ],
      "execution_count": 0,
      "outputs": [
        {
          "output_type": "execute_result",
          "data": {
            "text/plain": [
              "array([[1., 1., 1.],\n",
              "       [1., 1., 1.]])"
            ]
          },
          "metadata": {
            "tags": []
          },
          "execution_count": 47
        }
      ]
    },
    {
      "metadata": {
        "id": "hobI-dODuLCl",
        "colab_type": "code",
        "outputId": "7899ec70-a717-4fcc-eb3a-8d8fdb0fcd41",
        "colab": {
          "base_uri": "https://localhost:8080/",
          "height": 52
        }
      },
      "cell_type": "code",
      "source": [
        "A+B"
      ],
      "execution_count": 0,
      "outputs": [
        {
          "output_type": "execute_result",
          "data": {
            "text/plain": [
              "array([[2., 3., 4.],\n",
              "       [5., 6., 7.]])"
            ]
          },
          "metadata": {
            "tags": []
          },
          "execution_count": 48
        }
      ]
    },
    {
      "metadata": {
        "id": "iiuX7_9HOo1Y",
        "colab_type": "code",
        "outputId": "67afcb30-e783-4796-d4bf-88045949df28",
        "colab": {
          "base_uri": "https://localhost:8080/",
          "height": 52
        }
      },
      "cell_type": "code",
      "source": [
        "A-B"
      ],
      "execution_count": 0,
      "outputs": [
        {
          "output_type": "execute_result",
          "data": {
            "text/plain": [
              "array([[0., 1., 2.],\n",
              "       [3., 4., 5.]])"
            ]
          },
          "metadata": {
            "tags": []
          },
          "execution_count": 49
        }
      ]
    },
    {
      "metadata": {
        "id": "O_JEDU-iOqE-",
        "colab_type": "code",
        "outputId": "2d684149-06ef-44e2-eb03-77b46fb2b25a",
        "colab": {
          "base_uri": "https://localhost:8080/",
          "height": 52
        }
      },
      "cell_type": "code",
      "source": [
        "A+2*B"
      ],
      "execution_count": 0,
      "outputs": [
        {
          "output_type": "execute_result",
          "data": {
            "text/plain": [
              "array([[3., 4., 5.],\n",
              "       [6., 7., 8.]])"
            ]
          },
          "metadata": {
            "tags": []
          },
          "execution_count": 50
        }
      ]
    },
    {
      "metadata": {
        "id": "vAcCEsbtOsyN",
        "colab_type": "code",
        "outputId": "9277f4bd-a75c-4cd4-ffea-0796aed1a948",
        "colab": {
          "base_uri": "https://localhost:8080/",
          "height": 52
        }
      },
      "cell_type": "code",
      "source": [
        "A*(1+B)"
      ],
      "execution_count": 0,
      "outputs": [
        {
          "output_type": "execute_result",
          "data": {
            "text/plain": [
              "array([[ 2.,  4.,  6.],\n",
              "       [ 8., 10., 12.]])"
            ]
          },
          "metadata": {
            "tags": []
          },
          "execution_count": 51
        }
      ]
    },
    {
      "metadata": {
        "id": "g36bzkeNS2b4",
        "colab_type": "code",
        "colab": {}
      },
      "cell_type": "code",
      "source": [
        "# Recall that the product and the addition above are not matrix operations!!!"
      ],
      "execution_count": 0,
      "outputs": []
    },
    {
      "metadata": {
        "id": "_SlkVhMETDdN",
        "colab_type": "code",
        "outputId": "8d824ec4-08f4-40a2-e65c-2f888241e73b",
        "colab": {
          "base_uri": "https://localhost:8080/",
          "height": 186
        }
      },
      "cell_type": "code",
      "source": [
        "np.matmul(A, B)"
      ],
      "execution_count": 0,
      "outputs": [
        {
          "output_type": "error",
          "ename": "ValueError",
          "evalue": "ignored",
          "traceback": [
            "\u001b[0;31m---------------------------------------------------------------------------\u001b[0m",
            "\u001b[0;31mValueError\u001b[0m                                Traceback (most recent call last)",
            "\u001b[0;32m<ipython-input-52-04c68bb92949>\u001b[0m in \u001b[0;36m<module>\u001b[0;34m()\u001b[0m\n\u001b[0;32m----> 1\u001b[0;31m \u001b[0mnp\u001b[0m\u001b[0;34m.\u001b[0m\u001b[0mmatmul\u001b[0m\u001b[0;34m(\u001b[0m\u001b[0mA\u001b[0m\u001b[0;34m,\u001b[0m \u001b[0mB\u001b[0m\u001b[0;34m)\u001b[0m\u001b[0;34m\u001b[0m\u001b[0;34m\u001b[0m\u001b[0m\n\u001b[0m",
            "\u001b[0;31mValueError\u001b[0m: shapes (2,3) and (2,3) not aligned: 3 (dim 1) != 2 (dim 0)"
          ]
        }
      ]
    },
    {
      "metadata": {
        "id": "btjxzO2dTXdH",
        "colab_type": "code",
        "outputId": "35bcc6b5-58b6-41e3-f90c-78cba5f7becb",
        "colab": {
          "base_uri": "https://localhost:8080/",
          "height": 69
        }
      },
      "cell_type": "code",
      "source": [
        "B.transpose()"
      ],
      "execution_count": 0,
      "outputs": [
        {
          "output_type": "execute_result",
          "data": {
            "text/plain": [
              "array([[1., 1.],\n",
              "       [1., 1.],\n",
              "       [1., 1.]])"
            ]
          },
          "metadata": {
            "tags": []
          },
          "execution_count": 54
        }
      ]
    },
    {
      "metadata": {
        "id": "9VPQ9iJLutEv",
        "colab_type": "code",
        "outputId": "3d7e48be-85fa-473f-cea6-f1ff96626aac",
        "colab": {
          "base_uri": "https://localhost:8080/",
          "height": 35
        }
      },
      "cell_type": "code",
      "source": [
        "A.shape, B.transpose().shape"
      ],
      "execution_count": 0,
      "outputs": [
        {
          "output_type": "execute_result",
          "data": {
            "text/plain": [
              "((2, 3), (3, 2))"
            ]
          },
          "metadata": {
            "tags": []
          },
          "execution_count": 55
        }
      ]
    },
    {
      "metadata": {
        "id": "GPhtHPAYTg5E",
        "colab_type": "code",
        "outputId": "4415db42-7fe9-4b0d-c173-bb1866f8852c",
        "colab": {
          "base_uri": "https://localhost:8080/",
          "height": 52
        }
      },
      "cell_type": "code",
      "source": [
        "np.matmul(A, B.transpose())"
      ],
      "execution_count": 0,
      "outputs": [
        {
          "output_type": "execute_result",
          "data": {
            "text/plain": [
              "array([[ 6.,  6.],\n",
              "       [15., 15.]])"
            ]
          },
          "metadata": {
            "tags": []
          },
          "execution_count": 56
        }
      ]
    },
    {
      "metadata": {
        "id": "HoC81XHmU_XI",
        "colab_type": "code",
        "outputId": "d3813a01-2912-4a77-ed44-eba19b3211ec",
        "colab": {
          "base_uri": "https://localhost:8080/",
          "height": 52
        }
      },
      "cell_type": "code",
      "source": [
        "A @ B.transpose()"
      ],
      "execution_count": 0,
      "outputs": [
        {
          "output_type": "execute_result",
          "data": {
            "text/plain": [
              "array([[ 6.,  6.],\n",
              "       [15., 15.]])"
            ]
          },
          "metadata": {
            "tags": []
          },
          "execution_count": 57
        }
      ]
    },
    {
      "metadata": {
        "id": "qEgGYVdNVA_s",
        "colab_type": "code",
        "colab": {}
      },
      "cell_type": "code",
      "source": [
        ""
      ],
      "execution_count": 0,
      "outputs": []
    },
    {
      "metadata": {
        "id": "HAiY98KMTlQn",
        "colab_type": "code",
        "outputId": "9bac3ea6-1136-4e5c-f0a3-e1caf7749f58",
        "colab": {
          "base_uri": "https://localhost:8080/",
          "height": 52
        }
      },
      "cell_type": "code",
      "source": [
        "A"
      ],
      "execution_count": 0,
      "outputs": [
        {
          "output_type": "execute_result",
          "data": {
            "text/plain": [
              "array([[1, 2, 3],\n",
              "       [4, 5, 6]])"
            ]
          },
          "metadata": {
            "tags": []
          },
          "execution_count": 58
        }
      ]
    },
    {
      "metadata": {
        "id": "CfqeOhAtUhEc",
        "colab_type": "code",
        "outputId": "2ec5abe9-e764-4070-b47b-5129a8c80714",
        "colab": {
          "base_uri": "https://localhost:8080/",
          "height": 35
        }
      },
      "cell_type": "code",
      "source": [
        "b = np.array([1,1])\n",
        "b"
      ],
      "execution_count": 0,
      "outputs": [
        {
          "output_type": "execute_result",
          "data": {
            "text/plain": [
              "array([1, 1])"
            ]
          },
          "metadata": {
            "tags": []
          },
          "execution_count": 59
        }
      ]
    },
    {
      "metadata": {
        "id": "Z69djyaMUoMB",
        "colab_type": "code",
        "outputId": "e1d62780-aba5-47d9-dc52-208a93b6600f",
        "colab": {
          "base_uri": "https://localhost:8080/",
          "height": 166
        }
      },
      "cell_type": "code",
      "source": [
        "A @ b"
      ],
      "execution_count": 0,
      "outputs": [
        {
          "output_type": "error",
          "ename": "ValueError",
          "evalue": "ignored",
          "traceback": [
            "\u001b[0;31m---------------------------------------------------------------------------\u001b[0m",
            "\u001b[0;31mValueError\u001b[0m                                Traceback (most recent call last)",
            "\u001b[0;32m<ipython-input-60-ed7cb34c813a>\u001b[0m in \u001b[0;36m<module>\u001b[0;34m()\u001b[0m\n\u001b[0;32m----> 1\u001b[0;31m \u001b[0mA\u001b[0m \u001b[0;34m@\u001b[0m \u001b[0mb\u001b[0m\u001b[0;34m\u001b[0m\u001b[0;34m\u001b[0m\u001b[0m\n\u001b[0m",
            "\u001b[0;31mValueError\u001b[0m: shapes (2,3) and (2,) not aligned: 3 (dim 1) != 2 (dim 0)"
          ]
        }
      ]
    },
    {
      "metadata": {
        "id": "S-zG6LDMVRgE",
        "colab_type": "text"
      },
      "cell_type": "markdown",
      "source": [
        "### Solve $Ax=b$"
      ]
    },
    {
      "metadata": {
        "id": "9fgGU-peUsMs",
        "colab_type": "code",
        "outputId": "65292357-70a6-4bff-b162-7501a7d98c1c",
        "colab": {
          "base_uri": "https://localhost:8080/",
          "height": 429
        }
      },
      "cell_type": "code",
      "source": [
        "np.linalg.solve(A,b)"
      ],
      "execution_count": 0,
      "outputs": [
        {
          "output_type": "error",
          "ename": "LinAlgError",
          "evalue": "ignored",
          "traceback": [
            "\u001b[0;31m---------------------------------------------------------------------------\u001b[0m",
            "\u001b[0;31mLinAlgError\u001b[0m                               Traceback (most recent call last)",
            "\u001b[0;32m<ipython-input-61-36718354ad3a>\u001b[0m in \u001b[0;36m<module>\u001b[0;34m()\u001b[0m\n\u001b[0;32m----> 1\u001b[0;31m \u001b[0mnp\u001b[0m\u001b[0;34m.\u001b[0m\u001b[0mlinalg\u001b[0m\u001b[0;34m.\u001b[0m\u001b[0msolve\u001b[0m\u001b[0;34m(\u001b[0m\u001b[0mA\u001b[0m\u001b[0;34m,\u001b[0m\u001b[0mb\u001b[0m\u001b[0;34m)\u001b[0m\u001b[0;34m\u001b[0m\u001b[0;34m\u001b[0m\u001b[0m\n\u001b[0m",
            "\u001b[0;32m/usr/local/lib/python3.6/dist-packages/numpy/linalg/linalg.py\u001b[0m in \u001b[0;36msolve\u001b[0;34m(a, b)\u001b[0m\n\u001b[1;32m    375\u001b[0m     \u001b[0ma\u001b[0m\u001b[0;34m,\u001b[0m \u001b[0m_\u001b[0m \u001b[0;34m=\u001b[0m \u001b[0m_makearray\u001b[0m\u001b[0;34m(\u001b[0m\u001b[0ma\u001b[0m\u001b[0;34m)\u001b[0m\u001b[0;34m\u001b[0m\u001b[0;34m\u001b[0m\u001b[0m\n\u001b[1;32m    376\u001b[0m     \u001b[0m_assertRankAtLeast2\u001b[0m\u001b[0;34m(\u001b[0m\u001b[0ma\u001b[0m\u001b[0;34m)\u001b[0m\u001b[0;34m\u001b[0m\u001b[0;34m\u001b[0m\u001b[0m\n\u001b[0;32m--> 377\u001b[0;31m     \u001b[0m_assertNdSquareness\u001b[0m\u001b[0;34m(\u001b[0m\u001b[0ma\u001b[0m\u001b[0;34m)\u001b[0m\u001b[0;34m\u001b[0m\u001b[0;34m\u001b[0m\u001b[0m\n\u001b[0m\u001b[1;32m    378\u001b[0m     \u001b[0mb\u001b[0m\u001b[0;34m,\u001b[0m \u001b[0mwrap\u001b[0m \u001b[0;34m=\u001b[0m \u001b[0m_makearray\u001b[0m\u001b[0;34m(\u001b[0m\u001b[0mb\u001b[0m\u001b[0;34m)\u001b[0m\u001b[0;34m\u001b[0m\u001b[0;34m\u001b[0m\u001b[0m\n\u001b[1;32m    379\u001b[0m     \u001b[0mt\u001b[0m\u001b[0;34m,\u001b[0m \u001b[0mresult_t\u001b[0m \u001b[0;34m=\u001b[0m \u001b[0m_commonType\u001b[0m\u001b[0;34m(\u001b[0m\u001b[0ma\u001b[0m\u001b[0;34m,\u001b[0m \u001b[0mb\u001b[0m\u001b[0;34m)\u001b[0m\u001b[0;34m\u001b[0m\u001b[0;34m\u001b[0m\u001b[0m\n",
            "\u001b[0;32m/usr/local/lib/python3.6/dist-packages/numpy/linalg/linalg.py\u001b[0m in \u001b[0;36m_assertNdSquareness\u001b[0;34m(*arrays)\u001b[0m\n\u001b[1;32m    209\u001b[0m     \u001b[0;32mfor\u001b[0m \u001b[0ma\u001b[0m \u001b[0;32min\u001b[0m \u001b[0marrays\u001b[0m\u001b[0;34m:\u001b[0m\u001b[0;34m\u001b[0m\u001b[0;34m\u001b[0m\u001b[0m\n\u001b[1;32m    210\u001b[0m         \u001b[0;32mif\u001b[0m \u001b[0mmax\u001b[0m\u001b[0;34m(\u001b[0m\u001b[0ma\u001b[0m\u001b[0;34m.\u001b[0m\u001b[0mshape\u001b[0m\u001b[0;34m[\u001b[0m\u001b[0;34m-\u001b[0m\u001b[0;36m2\u001b[0m\u001b[0;34m:\u001b[0m\u001b[0;34m]\u001b[0m\u001b[0;34m)\u001b[0m \u001b[0;34m!=\u001b[0m \u001b[0mmin\u001b[0m\u001b[0;34m(\u001b[0m\u001b[0ma\u001b[0m\u001b[0;34m.\u001b[0m\u001b[0mshape\u001b[0m\u001b[0;34m[\u001b[0m\u001b[0;34m-\u001b[0m\u001b[0;36m2\u001b[0m\u001b[0;34m:\u001b[0m\u001b[0;34m]\u001b[0m\u001b[0;34m)\u001b[0m\u001b[0;34m:\u001b[0m\u001b[0;34m\u001b[0m\u001b[0;34m\u001b[0m\u001b[0m\n\u001b[0;32m--> 211\u001b[0;31m             \u001b[0;32mraise\u001b[0m \u001b[0mLinAlgError\u001b[0m\u001b[0;34m(\u001b[0m\u001b[0;34m'Last 2 dimensions of the array must be square'\u001b[0m\u001b[0;34m)\u001b[0m\u001b[0;34m\u001b[0m\u001b[0;34m\u001b[0m\u001b[0m\n\u001b[0m\u001b[1;32m    212\u001b[0m \u001b[0;34m\u001b[0m\u001b[0m\n\u001b[1;32m    213\u001b[0m \u001b[0;32mdef\u001b[0m \u001b[0m_assertFinite\u001b[0m\u001b[0;34m(\u001b[0m\u001b[0;34m*\u001b[0m\u001b[0marrays\u001b[0m\u001b[0;34m)\u001b[0m\u001b[0;34m:\u001b[0m\u001b[0;34m\u001b[0m\u001b[0;34m\u001b[0m\u001b[0m\n",
            "\u001b[0;31mLinAlgError\u001b[0m: Last 2 dimensions of the array must be square"
          ]
        }
      ]
    },
    {
      "metadata": {
        "id": "j9r6Qy6zVFBs",
        "colab_type": "text"
      },
      "cell_type": "markdown",
      "source": [
        ""
      ]
    },
    {
      "metadata": {
        "id": "_Ejlc0ChU0n0",
        "colab_type": "text"
      },
      "cell_type": "markdown",
      "source": [
        "`numpy.linalg.solve` needs matrix $A$ to be a square matrix.\n",
        "\n",
        "Solve $A\\mathbf{x}=\\mathbf{b}$ approximately."
      ]
    },
    {
      "metadata": {
        "id": "j6N0E9hGU5BQ",
        "colab_type": "code",
        "outputId": "85f096a1-b589-48d8-be82-738c4bb98996",
        "colab": {
          "base_uri": "https://localhost:8080/",
          "height": 159
        }
      },
      "cell_type": "code",
      "source": [
        "x = np.linalg.lstsq(A, b)\n",
        "x"
      ],
      "execution_count": 0,
      "outputs": [
        {
          "output_type": "stream",
          "text": [
            "/usr/local/lib/python3.6/dist-packages/ipykernel_launcher.py:1: FutureWarning: `rcond` parameter will change to the default of machine precision times ``max(M, N)`` where M and N are the input matrix dimensions.\n",
            "To use the future default and silence this warning we advise to pass `rcond=None`, to keep using the old, explicitly pass `rcond=-1`.\n",
            "  \"\"\"Entry point for launching an IPython kernel.\n"
          ],
          "name": "stderr"
        },
        {
          "output_type": "execute_result",
          "data": {
            "text/plain": [
              "(array([-5.00000000e-01,  8.32667268e-17,  5.00000000e-01]),\n",
              " array([], dtype=float64),\n",
              " 2,\n",
              " array([9.508032  , 0.77286964]))"
            ]
          },
          "metadata": {
            "tags": []
          },
          "execution_count": 62
        }
      ]
    },
    {
      "metadata": {
        "id": "0YTPOFUcXDbx",
        "colab_type": "code",
        "outputId": "b532c37d-c664-4ebd-c90a-358f27509662",
        "colab": {
          "base_uri": "https://localhost:8080/",
          "height": 35
        }
      },
      "cell_type": "code",
      "source": [
        "len(x)"
      ],
      "execution_count": 0,
      "outputs": [
        {
          "output_type": "execute_result",
          "data": {
            "text/plain": [
              "4"
            ]
          },
          "metadata": {
            "tags": []
          },
          "execution_count": 63
        }
      ]
    },
    {
      "metadata": {
        "id": "ohbs5Sh2V5eS",
        "colab_type": "code",
        "outputId": "4dfa3400-f305-4a2b-d425-fd03424170a4",
        "colab": {
          "base_uri": "https://localhost:8080/",
          "height": 35
        }
      },
      "cell_type": "code",
      "source": [
        "x[0]"
      ],
      "execution_count": 0,
      "outputs": [
        {
          "output_type": "execute_result",
          "data": {
            "text/plain": [
              "array([-5.00000000e-01,  8.32667268e-17,  5.00000000e-01])"
            ]
          },
          "metadata": {
            "tags": []
          },
          "execution_count": 64
        }
      ]
    },
    {
      "metadata": {
        "id": "wdOGHrbAWIit",
        "colab_type": "code",
        "outputId": "2a5d9e17-1003-4d51-e8c6-0d27c8787ced",
        "colab": {
          "base_uri": "https://localhost:8080/",
          "height": 35
        }
      },
      "cell_type": "code",
      "source": [
        "x[1]"
      ],
      "execution_count": 0,
      "outputs": [
        {
          "output_type": "execute_result",
          "data": {
            "text/plain": [
              "array([], dtype=float64)"
            ]
          },
          "metadata": {
            "tags": []
          },
          "execution_count": 35
        }
      ]
    },
    {
      "metadata": {
        "id": "j_GhUV6TWyW4",
        "colab_type": "code",
        "outputId": "8d674e9a-ad15-46db-98a7-5c1b945ca5d1",
        "colab": {
          "base_uri": "https://localhost:8080/",
          "height": 35
        }
      },
      "cell_type": "code",
      "source": [
        "A @ x[0], b"
      ],
      "execution_count": 0,
      "outputs": [
        {
          "output_type": "execute_result",
          "data": {
            "text/plain": [
              "(array([1., 1.]), array([1, 1]))"
            ]
          },
          "metadata": {
            "tags": []
          },
          "execution_count": 66
        }
      ]
    },
    {
      "metadata": {
        "id": "OOiekDo-vl8v",
        "colab_type": "code",
        "outputId": "fcef11e7-6bb6-46c1-fb7f-762db8baa671",
        "colab": {
          "base_uri": "https://localhost:8080/",
          "height": 52
        }
      },
      "cell_type": "code",
      "source": [
        "np.eye(2)"
      ],
      "execution_count": 0,
      "outputs": [
        {
          "output_type": "execute_result",
          "data": {
            "text/plain": [
              "array([[1., 0.],\n",
              "       [0., 1.]])"
            ]
          },
          "metadata": {
            "tags": []
          },
          "execution_count": 67
        }
      ]
    },
    {
      "metadata": {
        "id": "yL1Qy0bWW0Sm",
        "colab_type": "code",
        "outputId": "a2fc560c-89ab-49c6-aef1-b310ec0fb325",
        "colab": {
          "base_uri": "https://localhost:8080/",
          "height": 52
        }
      },
      "cell_type": "code",
      "source": [
        "np.exp(np.eye(2))"
      ],
      "execution_count": 0,
      "outputs": [
        {
          "output_type": "execute_result",
          "data": {
            "text/plain": [
              "array([[2.71828183, 1.        ],\n",
              "       [1.        , 2.71828183]])"
            ]
          },
          "metadata": {
            "tags": []
          },
          "execution_count": 68
        }
      ]
    },
    {
      "metadata": {
        "id": "ExRa1-JtX6ce",
        "colab_type": "code",
        "colab": {}
      },
      "cell_type": "code",
      "source": [
        "import scipy"
      ],
      "execution_count": 0,
      "outputs": []
    },
    {
      "metadata": {
        "id": "jqCCiskwZL7i",
        "colab_type": "code",
        "outputId": "e12707b9-eaad-4537-f9bf-5b4cbb29f32c",
        "colab": {
          "base_uri": "https://localhost:8080/",
          "height": 52
        }
      },
      "cell_type": "code",
      "source": [
        "scipy.linalg.expm(np.eye(2))"
      ],
      "execution_count": 0,
      "outputs": [
        {
          "output_type": "execute_result",
          "data": {
            "text/plain": [
              "array([[2.71828183, 0.        ],\n",
              "       [0.        , 2.71828183]])"
            ]
          },
          "metadata": {
            "tags": []
          },
          "execution_count": 70
        }
      ]
    },
    {
      "metadata": {
        "id": "uSQ27niMwL4p",
        "colab_type": "code",
        "outputId": "85ab4a77-7194-4a8b-a6d2-3b563e025e58",
        "colab": {
          "base_uri": "https://localhost:8080/",
          "height": 52
        }
      },
      "cell_type": "code",
      "source": [
        "A"
      ],
      "execution_count": 0,
      "outputs": [
        {
          "output_type": "execute_result",
          "data": {
            "text/plain": [
              "array([[1, 2, 3],\n",
              "       [4, 5, 6]])"
            ]
          },
          "metadata": {
            "tags": []
          },
          "execution_count": 71
        }
      ]
    },
    {
      "metadata": {
        "id": "Xu5DqjaSZPnR",
        "colab_type": "code",
        "outputId": "07a8ec35-e72d-431b-fafd-8f17adae14e3",
        "colab": {
          "base_uri": "https://localhost:8080/",
          "height": 69
        }
      },
      "cell_type": "code",
      "source": [
        "A.transpose(), A.transpose().shape"
      ],
      "execution_count": 0,
      "outputs": [
        {
          "output_type": "execute_result",
          "data": {
            "text/plain": [
              "(array([[1, 4],\n",
              "        [2, 5],\n",
              "        [3, 6]]), (3, 2))"
            ]
          },
          "metadata": {
            "tags": []
          },
          "execution_count": 72
        }
      ]
    },
    {
      "metadata": {
        "id": "z4YNE_HhaCsM",
        "colab_type": "text"
      },
      "cell_type": "markdown",
      "source": [
        "Families of Square Matrices\n",
        "--\n",
        "- Diagonal: Only non-zero entries of $A$ are along the diagonal.\n",
        "- Diagonalizable: There are matrices $P$ and $D$ (diagonal matrix) so that $A=PDP^{-1}$.\n",
        "- Symmetric: $A^T=A$.\n",
        "- Positive Definite: $\\mathbf{x}^TA\\mathbf{x}>0$ for all $\\mathbf{x}\\neq 0$.\n",
        "- Positive Semi-Definite: $\\mathbf{x}^TA\\mathbf{x}\\geq 0$ for all $\\mathbf{x}$.\n",
        "- Orthogonal: $AA^T=Id=A^TA.$\n",
        "- Positive: All of entries of $A$ are $>0$.\n",
        "\n",
        "Examples\n",
        "--\n",
        "\n",
        "### Diagonal/Diagonalizable\n",
        "\n",
        "- $N\\times N$ zero matrix and identity matrices are diagonal.\n",
        "- A randomly chosen square matrix has distinct eigenvalues and it is diagonalizable.\n",
        "- All symmetric matrices are diagonalizable.\n",
        "\n",
        "### Symmetric\n",
        "\n",
        "- $B+B^T$\n",
        "- $BB^T$ and $B^TB$ (positive semi-definite in general, positive definite if $\\det B\\neq 0$.)\n",
        "\n",
        "\n",
        "### Orthogonal\n",
        "- Rotation Matrices\n",
        "\n",
        "\n",
        "## Matrix Decompositions\n",
        "\n",
        "Important Algorithms | Matrix Factorization\n",
        "---|---\n",
        "Row Reduction | LU decomposition, Cholesky Decomposition\n",
        "Diagonalization | Eigendecomposition\n",
        "Generalization of Diagonalization | Singular Value Decomposition\n",
        "Orthogonalization | QR decomposition"
      ]
    },
    {
      "metadata": {
        "id": "rpGEq7awL7lg",
        "colab_type": "code",
        "colab": {}
      },
      "cell_type": "code",
      "source": [
        "from sklearn import datasets"
      ],
      "execution_count": 0,
      "outputs": []
    },
    {
      "metadata": {
        "id": "BbgvWW__L9eQ",
        "colab_type": "code",
        "colab": {}
      },
      "cell_type": "code",
      "source": [
        "diabetes = datasets.load_diabetes()"
      ],
      "execution_count": 0,
      "outputs": []
    },
    {
      "metadata": {
        "id": "Fe-1z9b4MFzp",
        "colab_type": "code",
        "outputId": "aea5e564-7a04-4fc8-a1c4-6ba7ccfe878e",
        "colab": {
          "base_uri": "https://localhost:8080/",
          "height": 696
        }
      },
      "cell_type": "code",
      "source": [
        "print(diabetes['DESCR'])"
      ],
      "execution_count": 0,
      "outputs": [
        {
          "output_type": "stream",
          "text": [
            ".. _diabetes_dataset:\n",
            "\n",
            "Diabetes dataset\n",
            "----------------\n",
            "\n",
            "Ten baseline variables, age, sex, body mass index, average blood\n",
            "pressure, and six blood serum measurements were obtained for each of n =\n",
            "442 diabetes patients, as well as the response of interest, a\n",
            "quantitative measure of disease progression one year after baseline.\n",
            "\n",
            "**Data Set Characteristics:**\n",
            "\n",
            "  :Number of Instances: 442\n",
            "\n",
            "  :Number of Attributes: First 10 columns are numeric predictive values\n",
            "\n",
            "  :Target: Column 11 is a quantitative measure of disease progression one year after baseline\n",
            "\n",
            "  :Attribute Information:\n",
            "      - Age\n",
            "      - Sex\n",
            "      - Body mass index\n",
            "      - Average blood pressure\n",
            "      - S1\n",
            "      - S2\n",
            "      - S3\n",
            "      - S4\n",
            "      - S5\n",
            "      - S6\n",
            "\n",
            "Note: Each of these 10 feature variables have been mean centered and scaled by the standard deviation times `n_samples` (i.e. the sum of squares of each column totals 1).\n",
            "\n",
            "Source URL:\n",
            "http://www4.stat.ncsu.edu/~boos/var.select/diabetes.html\n",
            "\n",
            "For more information see:\n",
            "Bradley Efron, Trevor Hastie, Iain Johnstone and Robert Tibshirani (2004) \"Least Angle Regression,\" Annals of Statistics (with discussion), 407-499.\n",
            "(http://web.stanford.edu/~hastie/Papers/LARS/LeastAngle_2002.pdf)\n"
          ],
          "name": "stdout"
        }
      ]
    },
    {
      "metadata": {
        "id": "zjBoZ6Z8MHFg",
        "colab_type": "code",
        "outputId": "50f729c8-0016-488f-f5a1-ecb18fa63681",
        "colab": {
          "base_uri": "https://localhost:8080/",
          "height": 55
        }
      },
      "cell_type": "code",
      "source": [
        "diabetes.keys()"
      ],
      "execution_count": 0,
      "outputs": [
        {
          "output_type": "execute_result",
          "data": {
            "text/plain": [
              "dict_keys(['data', 'target', 'DESCR', 'feature_names', 'data_filename', 'target_filename'])"
            ]
          },
          "metadata": {
            "tags": []
          },
          "execution_count": 4
        }
      ]
    },
    {
      "metadata": {
        "id": "YLPEvOxeMeMC",
        "colab_type": "code",
        "outputId": "516fd290-ccd8-41f4-c13e-5c2ffa6b60ec",
        "colab": {
          "base_uri": "https://localhost:8080/",
          "height": 35
        }
      },
      "cell_type": "code",
      "source": [
        "diabetes['data'].shape"
      ],
      "execution_count": 0,
      "outputs": [
        {
          "output_type": "execute_result",
          "data": {
            "text/plain": [
              "(442, 10)"
            ]
          },
          "metadata": {
            "tags": []
          },
          "execution_count": 9
        }
      ]
    },
    {
      "metadata": {
        "id": "QjwCIQYxMhMq",
        "colab_type": "code",
        "outputId": "561720af-38cd-41d7-f587-7ca38489b2a3",
        "colab": {
          "base_uri": "https://localhost:8080/",
          "height": 35
        }
      },
      "cell_type": "code",
      "source": [
        "diabetes['target'].shape"
      ],
      "execution_count": 0,
      "outputs": [
        {
          "output_type": "execute_result",
          "data": {
            "text/plain": [
              "(442,)"
            ]
          },
          "metadata": {
            "tags": []
          },
          "execution_count": 5
        }
      ]
    },
    {
      "metadata": {
        "id": "Xq97jornMlVB",
        "colab_type": "code",
        "colab": {}
      },
      "cell_type": "code",
      "source": [
        "X = diabetes['data']"
      ],
      "execution_count": 0,
      "outputs": []
    },
    {
      "metadata": {
        "id": "NyT2LkSHM4BL",
        "colab_type": "code",
        "outputId": "7fde8a69-75d0-4acf-af4e-9ac19753908b",
        "colab": {
          "base_uri": "https://localhost:8080/",
          "height": 52
        }
      },
      "cell_type": "code",
      "source": [
        "X[0,:]"
      ],
      "execution_count": 0,
      "outputs": [
        {
          "output_type": "execute_result",
          "data": {
            "text/plain": [
              "array([ 0.03807591,  0.05068012,  0.06169621,  0.02187235, -0.0442235 ,\n",
              "       -0.03482076, -0.04340085, -0.00259226,  0.01990842, -0.01764613])"
            ]
          },
          "metadata": {
            "tags": []
          },
          "execution_count": 12
        }
      ]
    },
    {
      "metadata": {
        "id": "hQ27k281M7gv",
        "colab_type": "code",
        "outputId": "2343859e-df82-4239-8e12-5a98e10e0566",
        "colab": {
          "base_uri": "https://localhost:8080/",
          "height": 1560
        }
      },
      "cell_type": "code",
      "source": [
        "X[:, 0]"
      ],
      "execution_count": 0,
      "outputs": [
        {
          "output_type": "execute_result",
          "data": {
            "text/plain": [
              "array([ 0.03807591, -0.00188202,  0.08529891, -0.08906294,  0.00538306,\n",
              "       -0.09269548, -0.04547248,  0.06350368,  0.04170844, -0.07090025,\n",
              "       -0.09632802,  0.02717829,  0.01628068,  0.00538306,  0.04534098,\n",
              "       -0.05273755, -0.00551455,  0.07076875, -0.0382074 , -0.02730979,\n",
              "       -0.04910502, -0.0854304 , -0.0854304 ,  0.04534098, -0.06363517,\n",
              "       -0.06726771, -0.10722563, -0.02367725,  0.05260606,  0.06713621,\n",
              "       -0.06000263, -0.02367725,  0.03444337,  0.03081083,  0.01628068,\n",
              "        0.04897352,  0.01264814, -0.00914709, -0.00188202, -0.00188202,\n",
              "        0.00538306, -0.09996055, -0.06000263,  0.01991321,  0.04534098,\n",
              "        0.02717829, -0.05637009, -0.07816532,  0.06713621, -0.04183994,\n",
              "        0.03444337,  0.05987114, -0.05273755, -0.00914709, -0.04910502,\n",
              "       -0.04183994, -0.04183994, -0.02730979,  0.04170844,  0.06350368,\n",
              "       -0.07090025, -0.04183994, -0.02730979, -0.03457486,  0.06713621,\n",
              "       -0.04547248, -0.00914709,  0.04170844,  0.03807591,  0.01628068,\n",
              "       -0.00188202, -0.00188202,  0.06350368,  0.01264814,  0.01264814,\n",
              "       -0.00914709, -0.03094232, -0.09632802,  0.00538306, -0.10359309,\n",
              "        0.07076875,  0.01264814, -0.01641217, -0.0382074 ,  0.00175052,\n",
              "        0.04534098, -0.07090025,  0.04534098, -0.05273755, -0.04547248,\n",
              "        0.01264814,  0.04534098, -0.02004471, -0.04910502, -0.07816532,\n",
              "       -0.07090025,  0.0562386 , -0.02730979,  0.00175052, -0.00188202,\n",
              "        0.01628068,  0.01628068, -0.09269548,  0.05987114, -0.02730979,\n",
              "        0.02354575, -0.09632802,  0.02717829,  0.01991321,  0.03807591,\n",
              "        0.04170844,  0.01991321, -0.0854304 ,  0.01991321,  0.02354575,\n",
              "       -0.03094232,  0.04897352,  0.05987114, -0.05637009,  0.01628068,\n",
              "       -0.04910502,  0.06350368,  0.04897352,  0.00538306, -0.00551455,\n",
              "       -0.00551455, -0.08906294,  0.03444337, -0.05273755,  0.0090156 ,\n",
              "       -0.06363517, -0.09632802,  0.01628068, -0.04183994, -0.07453279,\n",
              "       -0.00551455, -0.09269548,  0.00538306,  0.03444337,  0.02354575,\n",
              "        0.04170844, -0.02730979,  0.04170844, -0.03094232,  0.03081083,\n",
              "       -0.04183994, -0.03094232, -0.05637009, -0.06000263, -0.04910502,\n",
              "        0.02354575,  0.00175052, -0.03457486,  0.04170844,  0.06713621,\n",
              "       -0.02730979, -0.01641217, -0.00188202, -0.01277963, -0.00551455,\n",
              "       -0.00914709, -0.04547248, -0.05273755,  0.01628068,  0.04534098,\n",
              "       -0.04183994, -0.05637009,  0.07076875,  0.00175052, -0.00188202,\n",
              "        0.02354575, -0.02004471,  0.04170844, -0.06363517,  0.01628068,\n",
              "        0.06713621,  0.04534098,  0.04897352,  0.04170844, -0.02367725,\n",
              "       -0.0382074 ,  0.04897352,  0.04534098,  0.04534098,  0.01628068,\n",
              "       -0.07453279, -0.08179786, -0.06726771,  0.00538306, -0.00188202,\n",
              "        0.0090156 , -0.00551455,  0.0562386 ,  0.0090156 , -0.06726771,\n",
              "        0.02717829, -0.02367725,  0.04897352, -0.05273755,  0.04170844,\n",
              "        0.0562386 , -0.03457486,  0.08166637, -0.00188202,  0.11072668,\n",
              "       -0.03094232,  0.00175052,  0.0090156 ,  0.03081083,  0.03807591,\n",
              "        0.0090156 ,  0.09256398,  0.06713621,  0.00175052,  0.03081083,\n",
              "        0.02717829,  0.01264814,  0.07440129, -0.04183994, -0.08906294,\n",
              "        0.02354575, -0.04547248, -0.02367725, -0.09996055, -0.02730979,\n",
              "        0.03081083, -0.10359309,  0.06713621, -0.05273755, -0.02730979,\n",
              "       -0.0382074 ,  0.0090156 ,  0.01264814,  0.06713621,  0.04534098,\n",
              "        0.06713621,  0.02717829,  0.0562386 ,  0.03444337,  0.02354575,\n",
              "        0.04897352,  0.03081083, -0.10359309,  0.01628068, -0.06000263,\n",
              "       -0.02730979,  0.04170844, -0.08179786, -0.04183994, -0.01277963,\n",
              "        0.06713621, -0.05273755,  0.00538306,  0.08166637,  0.03081083,\n",
              "        0.00175052, -0.04910502, -0.02730979,  0.07803383,  0.01264814,\n",
              "        0.04170844,  0.04897352, -0.01641217, -0.07453279,  0.03444337,\n",
              "       -0.03457486, -0.05273755,  0.05987114,  0.06350368,  0.0090156 ,\n",
              "        0.00538306,  0.03807591,  0.01264814,  0.07440129,  0.01628068,\n",
              "       -0.00551455,  0.01264814, -0.03457486,  0.06713621,  0.03807591,\n",
              "        0.0090156 , -0.09269548,  0.07076875, -0.01641217,  0.04170844,\n",
              "        0.01264814, -0.0382074 ,  0.04534098,  0.07076875, -0.07453279,\n",
              "        0.05987114,  0.07440129,  0.0090156 , -0.07090025,  0.02354575,\n",
              "       -0.05273755,  0.06713621,  0.00175052,  0.02354575,  0.03807591,\n",
              "        0.01628068, -0.00188202,  0.01264814,  0.07440129,  0.04170844,\n",
              "       -0.00914709,  0.0090156 ,  0.06713621,  0.00175052, -0.00914709,\n",
              "       -0.00551455,  0.09619652, -0.07453279,  0.05987114, -0.02367725,\n",
              "        0.0090156 ,  0.01628068,  0.01991321,  0.08893144,  0.01991321,\n",
              "       -0.02367725,  0.09619652,  0.02354575,  0.07076875,  0.03081083,\n",
              "       -0.00188202,  0.04534098,  0.07440129, -0.0382074 , -0.01277963,\n",
              "        0.0090156 ,  0.08166637,  0.03081083,  0.02717829, -0.06000263,\n",
              "        0.00538306, -0.02004471,  0.01991321, -0.06363517,  0.02717829,\n",
              "       -0.01641217,  0.03081083,  0.0562386 , -0.02004471, -0.10722563,\n",
              "        0.08166637,  0.00538306,  0.03807591,  0.03081083,  0.00175052,\n",
              "       -0.02730979, -0.0854304 ,  0.01264814, -0.05273755, -0.02367725,\n",
              "       -0.07453279, -0.00551455, -0.06000263, -0.02004471,  0.03807591,\n",
              "        0.01628068,  0.04170844,  0.01991321, -0.04910502,  0.00175052,\n",
              "        0.03444337, -0.04547248, -0.00914709, -0.01641217, -0.00914709,\n",
              "        0.01991321,  0.05260606, -0.02730979, -0.07453279, -0.10722563,\n",
              "        0.04534098, -0.00188202,  0.01991321,  0.01628068, -0.00188202,\n",
              "        0.01628068, -0.07090025,  0.04897352,  0.00538306,  0.03444337,\n",
              "        0.02354575,  0.01991321, -0.04547248,  0.05260606, -0.00551455,\n",
              "        0.0090156 , -0.02367725, -0.04183994, -0.07453279,  0.03444337,\n",
              "       -0.06000263, -0.0854304 ,  0.05260606,  0.01264814,  0.05987114,\n",
              "       -0.02367725,  0.01628068,  0.11072668, -0.02004471, -0.01641217,\n",
              "        0.04897352, -0.05637009,  0.02717829,  0.06350368, -0.05273755,\n",
              "       -0.00914709,  0.00538306,  0.07440129, -0.05273755,  0.08166637,\n",
              "       -0.00551455, -0.02730979, -0.05273755,  0.0090156 , -0.02004471,\n",
              "        0.02354575,  0.03807591, -0.07816532,  0.0090156 ,  0.00175052,\n",
              "       -0.07816532,  0.03081083, -0.03457486,  0.04897352, -0.04183994,\n",
              "       -0.00914709,  0.07076875,  0.0090156 , -0.02730979,  0.01628068,\n",
              "       -0.01277963, -0.05637009,  0.04170844, -0.00551455,  0.04170844,\n",
              "       -0.04547248, -0.04547248])"
            ]
          },
          "metadata": {
            "tags": []
          },
          "execution_count": 13
        }
      ]
    },
    {
      "metadata": {
        "id": "7T8mF-5INDw6",
        "colab_type": "code",
        "outputId": "2faf053f-a9d3-44b5-f21a-a4597897ed8c",
        "colab": {
          "base_uri": "https://localhost:8080/",
          "height": 728
        }
      },
      "cell_type": "code",
      "source": [
        "diabetes['target']"
      ],
      "execution_count": 0,
      "outputs": [
        {
          "output_type": "execute_result",
          "data": {
            "text/plain": [
              "array([151.,  75., 141., 206., 135.,  97., 138.,  63., 110., 310., 101.,\n",
              "        69., 179., 185., 118., 171., 166., 144.,  97., 168.,  68.,  49.,\n",
              "        68., 245., 184., 202., 137.,  85., 131., 283., 129.,  59., 341.,\n",
              "        87.,  65., 102., 265., 276., 252.,  90., 100.,  55.,  61.,  92.,\n",
              "       259.,  53., 190., 142.,  75., 142., 155., 225.,  59., 104., 182.,\n",
              "       128.,  52.,  37., 170., 170.,  61., 144.,  52., 128.,  71., 163.,\n",
              "       150.,  97., 160., 178.,  48., 270., 202., 111.,  85.,  42., 170.,\n",
              "       200., 252., 113., 143.,  51.,  52., 210.,  65., 141.,  55., 134.,\n",
              "        42., 111.,  98., 164.,  48.,  96.,  90., 162., 150., 279.,  92.,\n",
              "        83., 128., 102., 302., 198.,  95.,  53., 134., 144., 232.,  81.,\n",
              "       104.,  59., 246., 297., 258., 229., 275., 281., 179., 200., 200.,\n",
              "       173., 180.,  84., 121., 161.,  99., 109., 115., 268., 274., 158.,\n",
              "       107.,  83., 103., 272.,  85., 280., 336., 281., 118., 317., 235.,\n",
              "        60., 174., 259., 178., 128.,  96., 126., 288.,  88., 292.,  71.,\n",
              "       197., 186.,  25.,  84.,  96., 195.,  53., 217., 172., 131., 214.,\n",
              "        59.,  70., 220., 268., 152.,  47.,  74., 295., 101., 151., 127.,\n",
              "       237., 225.,  81., 151., 107.,  64., 138., 185., 265., 101., 137.,\n",
              "       143., 141.,  79., 292., 178.,  91., 116.,  86., 122.,  72., 129.,\n",
              "       142.,  90., 158.,  39., 196., 222., 277.,  99., 196., 202., 155.,\n",
              "        77., 191.,  70.,  73.,  49.,  65., 263., 248., 296., 214., 185.,\n",
              "        78.,  93., 252., 150.,  77., 208.,  77., 108., 160.,  53., 220.,\n",
              "       154., 259.,  90., 246., 124.,  67.,  72., 257., 262., 275., 177.,\n",
              "        71.,  47., 187., 125.,  78.,  51., 258., 215., 303., 243.,  91.,\n",
              "       150., 310., 153., 346.,  63.,  89.,  50.,  39., 103., 308., 116.,\n",
              "       145.,  74.,  45., 115., 264.,  87., 202., 127., 182., 241.,  66.,\n",
              "        94., 283.,  64., 102., 200., 265.,  94., 230., 181., 156., 233.,\n",
              "        60., 219.,  80.,  68., 332., 248.,  84., 200.,  55.,  85.,  89.,\n",
              "        31., 129.,  83., 275.,  65., 198., 236., 253., 124.,  44., 172.,\n",
              "       114., 142., 109., 180., 144., 163., 147.,  97., 220., 190., 109.,\n",
              "       191., 122., 230., 242., 248., 249., 192., 131., 237.,  78., 135.,\n",
              "       244., 199., 270., 164.,  72.,  96., 306.,  91., 214.,  95., 216.,\n",
              "       263., 178., 113., 200., 139., 139.,  88., 148.,  88., 243.,  71.,\n",
              "        77., 109., 272.,  60.,  54., 221.,  90., 311., 281., 182., 321.,\n",
              "        58., 262., 206., 233., 242., 123., 167.,  63., 197.,  71., 168.,\n",
              "       140., 217., 121., 235., 245.,  40.,  52., 104., 132.,  88.,  69.,\n",
              "       219.,  72., 201., 110.,  51., 277.,  63., 118.,  69., 273., 258.,\n",
              "        43., 198., 242., 232., 175.,  93., 168., 275., 293., 281.,  72.,\n",
              "       140., 189., 181., 209., 136., 261., 113., 131., 174., 257.,  55.,\n",
              "        84.,  42., 146., 212., 233.,  91., 111., 152., 120.,  67., 310.,\n",
              "        94., 183.,  66., 173.,  72.,  49.,  64.,  48., 178., 104., 132.,\n",
              "       220.,  57.])"
            ]
          },
          "metadata": {
            "tags": []
          },
          "execution_count": 7
        }
      ]
    },
    {
      "metadata": {
        "id": "ohXBj0p9JoGi",
        "colab_type": "code",
        "colab": {}
      },
      "cell_type": "code",
      "source": [
        ""
      ],
      "execution_count": 0,
      "outputs": []
    }
  ]
}